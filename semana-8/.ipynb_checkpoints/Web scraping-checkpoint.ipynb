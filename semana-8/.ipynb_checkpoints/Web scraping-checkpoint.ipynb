{
 "cells": [
  {
   "cell_type": "markdown",
   "id": "ed40ccfb",
   "metadata": {},
   "source": [
    "**WEB SCRAPING**"
   ]
  },
  {
   "cell_type": "code",
   "execution_count": 1,
   "id": "6e4a7c20",
   "metadata": {},
   "outputs": [],
   "source": [
    "import requests\n",
    "import re\n",
    "import pandas as pd\n",
    "from bs4 import BeautifulSoup"
   ]
  },
  {
   "cell_type": "markdown",
   "id": "95cfec06",
   "metadata": {},
   "source": [
    "**BEAUTIFUL SOUP** Ayuda a extraer info de un website! "
   ]
  },
  {
   "cell_type": "code",
   "execution_count": 2,
   "id": "c06a6ad5",
   "metadata": {},
   "outputs": [],
   "source": [
    "#findall y select - lo mismo para extraer lista"
   ]
  },
  {
   "cell_type": "code",
   "execution_count": 3,
   "id": "3c560bf2",
   "metadata": {},
   "outputs": [],
   "source": [
    "# vamos a crearnos un diccionario donde luego nos guardaremos todos los resultados de nuestras búsquedas: \n",
    "\n",
    "resultados_zapatillas = {\"producto\":[], \n",
    "                        \"precio_rebajado\": [], \n",
    "                        \"precio_original\": [], \n",
    "                         \"descuento\": [], \n",
    "                        \"enlaces\": []}"
   ]
  },
  {
   "cell_type": "code",
   "execution_count": 4,
   "id": "e061c387",
   "metadata": {},
   "outputs": [],
   "source": [
    "url = \"https://deportesmoya.es/1585-zapatillas-baloncesto\""
   ]
  },
  {
   "cell_type": "code",
   "execution_count": 5,
   "id": "01a3bbf1",
   "metadata": {},
   "outputs": [],
   "source": [
    "# hacemos la request a la página de la que queremos sacar la info\n",
    "\n",
    "html = requests.get(url)"
   ]
  },
  {
   "cell_type": "code",
   "execution_count": 6,
   "id": "082e9040",
   "metadata": {},
   "outputs": [
    {
     "data": {
      "text/plain": [
       "200"
      ]
     },
     "execution_count": 6,
     "metadata": {},
     "output_type": "execute_result"
    }
   ],
   "source": [
    "# vemos si todo ha ido bien\n",
    "\n",
    "html.status_code"
   ]
  },
  {
   "cell_type": "code",
   "execution_count": 7,
   "id": "7cdde53a",
   "metadata": {},
   "outputs": [],
   "source": [
    "sopa = BeautifulSoup(html.content, 'html.parser')"
   ]
  },
  {
   "cell_type": "code",
   "execution_count": 8,
   "id": "50b288f6",
   "metadata": {},
   "outputs": [],
   "source": [
    "#html.content es un scrip feisimo"
   ]
  },
  {
   "cell_type": "code",
   "execution_count": 9,
   "id": "b6e3b7a2",
   "metadata": {},
   "outputs": [],
   "source": [
    "productos = sopa.find_all(\"h3\",{\"class\": \"h3 product-title\"})"
   ]
  },
  {
   "cell_type": "code",
   "execution_count": 10,
   "id": "49b7df99",
   "metadata": {},
   "outputs": [
    {
     "data": {
      "text/plain": [
       "<h3 class=\"h3 product-title\"><a href=\"https://deportesmoya.es/zapatillas-baloncesto-adidas-deep-threat-primeblue-negro-jr-118983.html#/3533-tallaje_calzado_junior-36_2_3\">Zapatillas baloncesto adidas Deep Threat Primeblue negro jr</a></h3>"
      ]
     },
     "execution_count": 10,
     "metadata": {},
     "output_type": "execute_result"
    }
   ],
   "source": [
    "productos[0]"
   ]
  },
  {
   "cell_type": "code",
   "execution_count": 11,
   "id": "3ae2a57f",
   "metadata": {},
   "outputs": [
    {
     "data": {
      "text/plain": [
       "'Zapatillas baloncesto adidas Deep Threat Primeblue negro jr'"
      ]
     },
     "execution_count": 11,
     "metadata": {},
     "output_type": "execute_result"
    }
   ],
   "source": [
    "productos[0].text \n",
    "#o getText()"
   ]
  },
  {
   "cell_type": "code",
   "execution_count": 12,
   "id": "48eefcdf",
   "metadata": {},
   "outputs": [],
   "source": [
    "#para ver las cosas que se le pueden hacer a las cosas de beautiful soup\n",
    "#dir(productos)"
   ]
  },
  {
   "cell_type": "code",
   "execution_count": 13,
   "id": "c32bd074",
   "metadata": {},
   "outputs": [],
   "source": [
    "for a in productos:\n",
    "    resultados_zapatillas['producto'].append(a.getText())"
   ]
  },
  {
   "cell_type": "code",
   "execution_count": 14,
   "id": "535ceec7",
   "metadata": {},
   "outputs": [],
   "source": [
    "#resultados_zapatillas['producto']"
   ]
  },
  {
   "cell_type": "code",
   "execution_count": 15,
   "id": "c99e3711",
   "metadata": {},
   "outputs": [],
   "source": [
    "precios = sopa.find_all('span', {'class':'price' })"
   ]
  },
  {
   "cell_type": "code",
   "execution_count": 16,
   "id": "08847b3f",
   "metadata": {},
   "outputs": [
    {
     "data": {
      "text/plain": [
       "'51,00\\xa0€'"
      ]
     },
     "execution_count": 16,
     "metadata": {},
     "output_type": "execute_result"
    }
   ],
   "source": [
    "precios[0].text"
   ]
  },
  {
   "cell_type": "code",
   "execution_count": 17,
   "id": "be512e04",
   "metadata": {},
   "outputs": [],
   "source": [
    "patron = '\\d+,\\d+'\n",
    "\n",
    "for precio in precios:\n",
    "    resultados_zapatillas['precio_rebajado'].append(re.findall(patron, precio.getText())[0])"
   ]
  },
  {
   "cell_type": "code",
   "execution_count": 18,
   "id": "c4807e34",
   "metadata": {},
   "outputs": [
    {
     "data": {
      "text/plain": [
       "['51,00',\n",
       " '63,75',\n",
       " '55,25',\n",
       " '42,50',\n",
       " '68,00',\n",
       " '68,00',\n",
       " '93,50',\n",
       " '68,00',\n",
       " '102,00',\n",
       " '68,00',\n",
       " '51,00',\n",
       " '46,75',\n",
       " '93,50',\n",
       " '46,75',\n",
       " '51,00',\n",
       " '59,50',\n",
       " '102,00',\n",
       " '77,00',\n",
       " '80,00',\n",
       " '93,50',\n",
       " '76,50',\n",
       " '102,00',\n",
       " '110,50',\n",
       " '68,00',\n",
       " '76,50',\n",
       " '22,50',\n",
       " '93,50',\n",
       " '102,00',\n",
       " '17,50',\n",
       " '127,50',\n",
       " '71,50',\n",
       " '85,00',\n",
       " '36,00',\n",
       " '55,25',\n",
       " '55,25',\n",
       " '41,97',\n",
       " '31,50',\n",
       " '69,97',\n",
       " '62,97',\n",
       " '41,97',\n",
       " '32,50',\n",
       " '48,97',\n",
       " '93,50',\n",
       " '93,50',\n",
       " '35,97',\n",
       " '65,97',\n",
       " '38,25',\n",
       " '68,00']"
      ]
     },
     "execution_count": 18,
     "metadata": {},
     "output_type": "execute_result"
    }
   ],
   "source": [
    "resultados_zapatillas['precio_rebajado']"
   ]
  },
  {
   "cell_type": "code",
   "execution_count": null,
   "id": "cf8ef1e2",
   "metadata": {},
   "outputs": [],
   "source": []
  }
 ],
 "metadata": {
  "kernelspec": {
   "display_name": "Python 3 (ipykernel)",
   "language": "python",
   "name": "python3"
  },
  "language_info": {
   "codemirror_mode": {
    "name": "ipython",
    "version": 3
   },
   "file_extension": ".py",
   "mimetype": "text/x-python",
   "name": "python",
   "nbconvert_exporter": "python",
   "pygments_lexer": "ipython3",
   "version": "3.9.7"
  }
 },
 "nbformat": 4,
 "nbformat_minor": 5
}
