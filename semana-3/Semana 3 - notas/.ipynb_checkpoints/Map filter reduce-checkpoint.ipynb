{
 "cells": [
  {
   "cell_type": "code",
   "execution_count": 1,
   "id": "f5e3c21a",
   "metadata": {},
   "outputs": [],
   "source": [
    "#MAP - FILTER - REDUCE\n",
    "\n",
    "\n",
    "#MAP!!!! \n",
    "#función que se aplica a todos los elementos\n",
    "#siempre necesita de una función y un iterable\n",
    "#siempre generan objetos (lista)\n",
    "#podemos crear nuestra función y ponerla como la función dentro de map \n",
    "\n",
    "numbers = [-2, -1, 0, 1, 2]\n",
    "x = [-1,-4,-5]\n",
    "\n",
    "abs_values = list(map(abs,numbers))"
   ]
  },
  {
   "cell_type": "code",
   "execution_count": 2,
   "id": "67a49344",
   "metadata": {},
   "outputs": [
    {
     "name": "stdout",
     "output_type": "stream",
     "text": [
      "[2, 1, 0, 1, 2]\n"
     ]
    }
   ],
   "source": [
    "print(abs_values)"
   ]
  },
  {
   "cell_type": "code",
   "execution_count": 3,
   "id": "03bb5f76",
   "metadata": {},
   "outputs": [],
   "source": [
    "# se puede poner para método de string\n",
    "lista = ['brocoli', 'chorizo', 'zanahoria', 'jamon']"
   ]
  },
  {
   "cell_type": "code",
   "execution_count": 4,
   "id": "f3b7f087",
   "metadata": {
    "scrolled": true
   },
   "outputs": [
    {
     "name": "stdout",
     "output_type": "stream",
     "text": [
      "['BROCOLI', 'CHORIZO', 'ZANAHORIA', 'JAMON']\n",
      "['BROCOLI', 'CHORIZO', 'ZANAHORIA', 'JAMON']\n",
      "['BROCOLI', 'CHORIZO', 'ZANAHORIA', 'JAMON']\n",
      "[7, 7, 9, 5]\n",
      "[1, 32, 729, 279936]\n",
      "[10, 15]\n"
     ]
    }
   ],
   "source": [
    "# con un for\n",
    "nueva_lista = []\n",
    "for i in lista: \n",
    "    nueva_lista.append(i.upper())\n",
    "print(nueva_lista)\n",
    "\n",
    "# o con una list comprehension\n",
    "nueva_lista2 = [i.upper() for i in lista]\n",
    "print(nueva_lista2)\n",
    "\n",
    "#map\n",
    "lista_upper = list(map(str.upper, lista))\n",
    "print(lista_upper)\n",
    "\n",
    "#MAP longitud elementos de lista\n",
    "long = list(map(len,lista))\n",
    "print(long)\n",
    "\n",
    "#multiples iterables \n",
    "\n",
    "primero = [1, 2, 3, 6]\n",
    "segundo = [4, 5, 6, 7]\n",
    "\n",
    "elevado = list(map(pow,primero, segundo))\n",
    "print(elevado)\n",
    "\n",
    "lista1 = [2, 4]\n",
    "lista2 = [1, 3]\n",
    "lista3 = [7, 8]\n",
    "\n",
    "suma_total = list(map(lambda x,y,z : x+y+z, lista1, lista2, lista3))\n",
    "print(suma_total)"
   ]
  },
  {
   "cell_type": "code",
   "execution_count": 5,
   "id": "07281994",
   "metadata": {},
   "outputs": [],
   "source": [
    "lista4 = [2, 4]\n",
    "lista5 = [1, 3]\n",
    "lista6 = [7, 8]\n",
    "\n",
    "def con_zip(lista4,lista5,lista6):\n",
    "    resultado = []\n",
    "    for i, x, z in zip(lista4,lista5,lista6):\n",
    "        resultado.append(i+x+z)\n",
    "    return print(resultado)\n"
   ]
  },
  {
   "cell_type": "code",
   "execution_count": 6,
   "id": "eec34093",
   "metadata": {
    "scrolled": true
   },
   "outputs": [
    {
     "name": "stdout",
     "output_type": "stream",
     "text": [
      "[27, 28, 41, 45, 35, 21, 1, 4, 36, 15, 24, 22, 37, 42, 49, 48, 47, 3, 13, 26]\n",
      "[729, 784, 1681, 2025, 1225, 441, 1, 16, 1296, 225, 576, 484, 1369, 1764, 2401, 2304, 2209, 9, 169, 676]\n",
      "[729, 784, 1681, 2025, 1225, 441, 1, 16, 1296, 225, 576, 484, 1369, 1764, 2401, 2304, 2209, 9, 169, 676]\n"
     ]
    }
   ],
   "source": [
    "#numeros aleatorios\n",
    "import random\n",
    "numeros = random.sample(range(1,50),20)\n",
    "print(numeros)\n",
    "\n",
    "def cuadrado(x):\n",
    "    return x ** 2\n",
    "\n",
    "lista_nueva = list(map(cuadrado, numeros))\n",
    "print(lista_nueva)\n",
    "\n",
    "# se puede usar con lambda y list comprehension\n",
    "# cuadrado\n",
    "\n",
    "cuad = list(map(lambda x : x**2, numeros))\n",
    "print(cuad)"
   ]
  },
  {
   "cell_type": "code",
   "execution_count": 7,
   "id": "5ba50f2a",
   "metadata": {},
   "outputs": [],
   "source": [
    "#FILTER\n",
    "#dependiendo a la función, te devuelve o no el valor. \n",
    "#lo unico que ve es el resultado, se necesita un comparador \n",
    "\n",
    "def filtrando(x):\n",
    "    return x > 5"
   ]
  },
  {
   "cell_type": "code",
   "execution_count": 8,
   "id": "e03861dd",
   "metadata": {},
   "outputs": [
    {
     "data": {
      "text/plain": [
       "[3, 2, 1, 4, 6, 8, 7, 5, 9]"
      ]
     },
     "execution_count": 8,
     "metadata": {},
     "output_type": "execute_result"
    }
   ],
   "source": [
    "import random\n",
    "lista_filtrar = random.sample(range(1,10), 9)\n",
    "lista_filtrar"
   ]
  },
  {
   "cell_type": "code",
   "execution_count": 9,
   "id": "4a42bb13",
   "metadata": {},
   "outputs": [
    {
     "data": {
      "text/plain": [
       "[3, 2, 1, 4]"
      ]
     },
     "execution_count": 9,
     "metadata": {},
     "output_type": "execute_result"
    }
   ],
   "source": [
    "def filtrando (lst):\n",
    "    menores = []\n",
    "    for i in lst:\n",
    "        if i < 5:\n",
    "            menores.append(i)\n",
    "    return menores\n",
    "filtrando(lista_filtrar)"
   ]
  },
  {
   "cell_type": "code",
   "execution_count": 10,
   "id": "537f447a",
   "metadata": {},
   "outputs": [],
   "source": [
    "def filtando1 (x):\n",
    "    return x < 5"
   ]
  },
  {
   "cell_type": "code",
   "execution_count": 11,
   "id": "96758d7b",
   "metadata": {},
   "outputs": [
    {
     "name": "stdout",
     "output_type": "stream",
     "text": [
      "[3, 2, 1, 4]\n",
      "[3, 2, 1, 4]\n"
     ]
    }
   ],
   "source": [
    "menores2 = list(filter(filtando1, lista_filtrar))\n",
    "print(menores2)\n",
    "\n",
    "menores3 = list(filter(lambda x: x<5, lista_filtrar))\n",
    "print(menores3)"
   ]
  },
  {
   "cell_type": "code",
   "execution_count": 12,
   "id": "dd31eea2",
   "metadata": {},
   "outputs": [
    {
     "name": "stdout",
     "output_type": "stream",
     "text": [
      "[5, 8, 7, 1, 3, 6, 2, 9, 4]\n"
     ]
    },
    {
     "data": {
      "text/plain": [
       "45"
      ]
     },
     "execution_count": 12,
     "metadata": {},
     "output_type": "execute_result"
    }
   ],
   "source": [
    "#REDUCE \n",
    "#en vez de uno en uno, vamos agarrando de 2 en 2 o dependiendo a la función que nosotros le pongamos.\n",
    "#en reduce solo devuelve un valor \n",
    "\n",
    "from functools import reduce\n",
    "lista_random = random.sample(range(1,10), 9)\n",
    "print(lista_random)\n",
    "\n",
    "def suma_elementos(lst):\n",
    "    resultado = 0 \n",
    "    for i in lst:\n",
    "        resultado += i\n",
    "    return resultado\n",
    "suma_elementos(lista_random)"
   ]
  },
  {
   "cell_type": "code",
   "execution_count": 13,
   "id": "0dc3cf81",
   "metadata": {},
   "outputs": [
    {
     "data": {
      "text/plain": [
       "45"
      ]
     },
     "execution_count": 13,
     "metadata": {},
     "output_type": "execute_result"
    }
   ],
   "source": [
    "def suma_elementos2 (x,y):\n",
    "    return x + y\n",
    "suma2 = reduce(suma_elementos2,lista_random)\n",
    "suma2"
   ]
  },
  {
   "cell_type": "code",
   "execution_count": 14,
   "id": "6ec70be6",
   "metadata": {},
   "outputs": [
    {
     "data": {
      "text/plain": [
       "45"
      ]
     },
     "execution_count": 14,
     "metadata": {},
     "output_type": "execute_result"
    }
   ],
   "source": [
    "suma5 = reduce(lambda x,y: x+y, lista_random)\n",
    "suma5"
   ]
  }
 ],
 "metadata": {
  "kernelspec": {
   "display_name": "Python 3 (ipykernel)",
   "language": "python",
   "name": "python3"
  },
  "language_info": {
   "codemirror_mode": {
    "name": "ipython",
    "version": 3
   },
   "file_extension": ".py",
   "mimetype": "text/x-python",
   "name": "python",
   "nbconvert_exporter": "python",
   "pygments_lexer": "ipython3",
   "version": "3.9.7"
  }
 },
 "nbformat": 4,
 "nbformat_minor": 5
}
