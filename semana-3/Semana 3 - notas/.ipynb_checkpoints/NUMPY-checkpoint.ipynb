{
 "cells": [
  {
   "cell_type": "code",
   "execution_count": 1,
   "id": "39607267",
   "metadata": {},
   "outputs": [],
   "source": [
    "#NUMPY \n",
    "\n",
    "#incorpora un nuevo objecto llamados array\n",
    "import numpy as np"
   ]
  },
  {
   "cell_type": "code",
   "execution_count": 2,
   "id": "fb4f7495",
   "metadata": {},
   "outputs": [
    {
     "data": {
      "text/plain": [
       "array([[0.1243515 , 0.53827473, 0.07826787],\n",
       "       [0.71086106, 0.13983609, 0.42953501]])"
      ]
     },
     "execution_count": 2,
     "metadata": {},
     "output_type": "execute_result"
    }
   ],
   "source": [
    "#crear un array\n",
    "\n",
    "a1 = np.random.random_sample((2,3)) #2,3 es size y siempre va entre parentesis. 2 filas, 3 columnas. \n",
    "a1"
   ]
  },
  {
   "cell_type": "code",
   "execution_count": 3,
   "id": "e688d663",
   "metadata": {},
   "outputs": [
    {
     "data": {
      "text/plain": [
       "2"
      ]
     },
     "execution_count": 3,
     "metadata": {},
     "output_type": "execute_result"
    }
   ],
   "source": [
    "a1.ndim"
   ]
  },
  {
   "cell_type": "code",
   "execution_count": 4,
   "id": "8a96a20f",
   "metadata": {},
   "outputs": [
    {
     "data": {
      "text/plain": [
       "(2, 3)"
      ]
     },
     "execution_count": 4,
     "metadata": {},
     "output_type": "execute_result"
    }
   ],
   "source": [
    "a1.shape"
   ]
  },
  {
   "cell_type": "code",
   "execution_count": 5,
   "id": "2d707ce4",
   "metadata": {},
   "outputs": [
    {
     "data": {
      "text/plain": [
       "6"
      ]
     },
     "execution_count": 5,
     "metadata": {},
     "output_type": "execute_result"
    }
   ],
   "source": [
    "a1.size"
   ]
  },
  {
   "cell_type": "code",
   "execution_count": 6,
   "id": "2df8358c",
   "metadata": {},
   "outputs": [
    {
     "data": {
      "text/plain": [
       "dtype('float64')"
      ]
     },
     "execution_count": 6,
     "metadata": {},
     "output_type": "execute_result"
    }
   ],
   "source": [
    "a1.dtype"
   ]
  },
  {
   "cell_type": "code",
   "execution_count": 7,
   "id": "e5cf31a5",
   "metadata": {},
   "outputs": [
    {
     "data": {
      "text/plain": [
       "array([2, 3, 5])"
      ]
     },
     "execution_count": 7,
     "metadata": {},
     "output_type": "execute_result"
    }
   ],
   "source": [
    "#Crear otro array desde una lista. np.array\n",
    "\n",
    "lista = [2,3,5]\n",
    "\n",
    "lista_array = np.array(lista)\n",
    "lista_array"
   ]
  },
  {
   "cell_type": "code",
   "execution_count": 8,
   "id": "8f059200",
   "metadata": {},
   "outputs": [
    {
     "data": {
      "text/plain": [
       "array([[1, 2, 3],\n",
       "       [4, 5, 6]])"
      ]
     },
     "execution_count": 8,
     "metadata": {},
     "output_type": "execute_result"
    }
   ],
   "source": [
    "lista2 = [[1,2,3], [4,5,6]]\n",
    "lista2_array = np.array(lista2)\n",
    "lista2_array"
   ]
  },
  {
   "cell_type": "code",
   "execution_count": 9,
   "id": "e1b574ad",
   "metadata": {},
   "outputs": [
    {
     "data": {
      "text/plain": [
       "array([[[ 1,  2,  3],\n",
       "        [ 4,  5,  6]],\n",
       "\n",
       "       [[ 7,  8,  9],\n",
       "        [10, 11, 12]]])"
      ]
     },
     "execution_count": 9,
     "metadata": {},
     "output_type": "execute_result"
    }
   ],
   "source": [
    "lista3 = [[[1,2,3], [4,5,6]], [[7,8,9], [10,11,12]]]\n",
    "lista3_array = np.array(lista3)\n",
    "lista3_array"
   ]
  },
  {
   "cell_type": "code",
   "execution_count": 10,
   "id": "eb4619ee",
   "metadata": {},
   "outputs": [
    {
     "data": {
      "text/plain": [
       "array([1, 2, 3, 4, 5, 6, 7, 8, 9])"
      ]
     },
     "execution_count": 10,
     "metadata": {},
     "output_type": "execute_result"
    }
   ],
   "source": [
    "#np.arrange\n",
    "\n",
    "#array del 1-9\n",
    "\n",
    "array1 = np.arange(1,10)\n",
    "array1"
   ]
  },
  {
   "cell_type": "code",
   "execution_count": 11,
   "id": "3bd857c4",
   "metadata": {},
   "outputs": [
    {
     "data": {
      "text/plain": [
       "array([1, 3, 5, 7, 9])"
      ]
     },
     "execution_count": 11,
     "metadata": {},
     "output_type": "execute_result"
    }
   ],
   "source": [
    "array2 = np.arange(1,10,2)\n",
    "array2"
   ]
  },
  {
   "cell_type": "code",
   "execution_count": 12,
   "id": "30bebcbf",
   "metadata": {},
   "outputs": [
    {
     "data": {
      "text/plain": [
       "array([0., 0., 0.])"
      ]
     },
     "execution_count": 12,
     "metadata": {},
     "output_type": "execute_result"
    }
   ],
   "source": [
    "#ceros\n",
    "\n",
    "ceros1 = np.zeros(3)\n",
    "ceros1"
   ]
  },
  {
   "cell_type": "code",
   "execution_count": 13,
   "id": "dd9932a7",
   "metadata": {},
   "outputs": [
    {
     "data": {
      "text/plain": [
       "array([[0, 0, 0],\n",
       "       [0, 0, 0]])"
      ]
     },
     "execution_count": 13,
     "metadata": {},
     "output_type": "execute_result"
    }
   ],
   "source": [
    "ceros2 = np.zeros((2,3), dtype = int)\n",
    "ceros2"
   ]
  },
  {
   "cell_type": "code",
   "execution_count": 14,
   "id": "3fcbeb20",
   "metadata": {},
   "outputs": [
    {
     "data": {
      "text/plain": [
       "array([[[0, 0, 0, 0, 0],\n",
       "        [0, 0, 0, 0, 0],\n",
       "        [0, 0, 0, 0, 0]],\n",
       "\n",
       "       [[0, 0, 0, 0, 0],\n",
       "        [0, 0, 0, 0, 0],\n",
       "        [0, 0, 0, 0, 0]]])"
      ]
     },
     "execution_count": 14,
     "metadata": {},
     "output_type": "execute_result"
    }
   ],
   "source": [
    "#. 2 matrices de 3 filas x 5 columnas\n",
    "ceros3 = np.zeros(((2,3,5)), dtype = int)\n",
    "ceros3"
   ]
  },
  {
   "cell_type": "code",
   "execution_count": 15,
   "id": "265757f7",
   "metadata": {},
   "outputs": [],
   "source": [
    "#np.ones\n",
    "\n",
    "#LO MISMO A ZERO!"
   ]
  },
  {
   "cell_type": "code",
   "execution_count": 16,
   "id": "160d4e05",
   "metadata": {},
   "outputs": [
    {
     "data": {
      "text/plain": [
       "array([[0.1243515 , 0.53827473, 0.07826787],\n",
       "       [0.71086106, 0.13983609, 0.42953501]])"
      ]
     },
     "execution_count": 16,
     "metadata": {},
     "output_type": "execute_result"
    }
   ],
   "source": [
    "vacio = np.empty((2,3))\n",
    "vacio"
   ]
  },
  {
   "cell_type": "code",
   "execution_count": 17,
   "id": "77852438",
   "metadata": {},
   "outputs": [
    {
     "data": {
      "text/plain": [
       "array([[1., 0., 0., 0.],\n",
       "       [0., 1., 0., 0.],\n",
       "       [0., 0., 1., 0.],\n",
       "       [0., 0., 0., 1.]])"
      ]
     },
     "execution_count": 17,
     "metadata": {},
     "output_type": "execute_result"
    }
   ],
   "source": [
    "iden = np.identity(4)\n",
    "iden"
   ]
  },
  {
   "cell_type": "code",
   "execution_count": 18,
   "id": "67ef9211",
   "metadata": {},
   "outputs": [
    {
     "data": {
      "text/plain": [
       "array([[1., 0., 0., 0., 0.],\n",
       "       [0., 1., 0., 0., 0.],\n",
       "       [0., 0., 1., 0., 0.],\n",
       "       [0., 0., 0., 1., 0.],\n",
       "       [0., 0., 0., 0., 1.]])"
      ]
     },
     "execution_count": 18,
     "metadata": {},
     "output_type": "execute_result"
    }
   ],
   "source": [
    "#np.eye()\n",
    "\n",
    "eye = np.eye(5)\n",
    "eye"
   ]
  },
  {
   "cell_type": "code",
   "execution_count": 19,
   "id": "c2923742",
   "metadata": {},
   "outputs": [
    {
     "data": {
      "text/plain": [
       "array([[0., 1., 0., 0., 0.],\n",
       "       [0., 0., 1., 0., 0.],\n",
       "       [0., 0., 0., 1., 0.],\n",
       "       [0., 0., 0., 0., 1.],\n",
       "       [0., 0., 0., 0., 0.]])"
      ]
     },
     "execution_count": 19,
     "metadata": {},
     "output_type": "execute_result"
    }
   ],
   "source": [
    "eye2 = np.eye(5, k=1)\n",
    "eye2"
   ]
  },
  {
   "cell_type": "code",
   "execution_count": 20,
   "id": "de5c08c1",
   "metadata": {},
   "outputs": [
    {
     "data": {
      "text/plain": [
       "array([[0., 0., 1., 0., 0.],\n",
       "       [0., 0., 0., 1., 0.],\n",
       "       [0., 0., 0., 0., 1.],\n",
       "       [0., 0., 0., 0., 0.],\n",
       "       [0., 0., 0., 0., 0.]])"
      ]
     },
     "execution_count": 20,
     "metadata": {},
     "output_type": "execute_result"
    }
   ],
   "source": [
    "eye3 = np.eye(5, k=2)\n",
    "eye3"
   ]
  },
  {
   "cell_type": "code",
   "execution_count": 21,
   "id": "ca480f60",
   "metadata": {},
   "outputs": [
    {
     "data": {
      "text/plain": [
       "array([[ 7, 38, 47, 30, 13],\n",
       "       [41, 42, 40, 66, 38],\n",
       "       [ 3, 78, 23, 16, 68]])"
      ]
     },
     "execution_count": 21,
     "metadata": {},
     "output_type": "execute_result"
    }
   ],
   "source": [
    "#OTROS METODOS\n",
    "\n",
    "#numeros aleatorios\n",
    "# estamos generando dos arrays de 3 filas x  5 columnas con números aleatorios del 0-100\n",
    "\n",
    "random1 = np.random.randint(0,100,(3,5))\n",
    "random1"
   ]
  },
  {
   "cell_type": "code",
   "execution_count": 22,
   "id": "4845e744",
   "metadata": {},
   "outputs": [
    {
     "data": {
      "text/plain": [
       "array([[[0.96248409, 0.15746687, 0.93705758, 0.3264543 , 0.92765459],\n",
       "        [0.25542468, 0.21824445, 0.55465848, 0.83939484, 0.47081111],\n",
       "        [0.86210211, 0.19731475, 0.86248149, 0.54327244, 0.9921571 ]],\n",
       "\n",
       "       [[0.31004162, 0.56537285, 0.51984511, 0.70938987, 0.67038236],\n",
       "        [0.74209297, 0.96324596, 0.66174731, 0.51565858, 0.84987279],\n",
       "        [0.31920916, 0.8261073 , 0.58110218, 0.42663204, 0.88519262]]])"
      ]
     },
     "execution_count": 22,
     "metadata": {},
     "output_type": "execute_result"
    }
   ],
   "source": [
    "# estamos generando un array de 2 x 3 x 5 con números aleatorios del 0-1\n",
    "random2 = np.random.rand(2,3,5)\n",
    "random2"
   ]
  },
  {
   "cell_type": "code",
   "execution_count": 23,
   "id": "92797cda",
   "metadata": {},
   "outputs": [
    {
     "data": {
      "text/plain": [
       "array([0.30517155, 0.16131517, 0.96952651, 0.65431754, 0.49175297,\n",
       "       0.16526905, 0.28285934, 0.8476168 , 0.03840369, 0.19269125,\n",
       "       0.58414124, 0.08081622, 0.14381345, 0.59709711, 0.06399565])"
      ]
     },
     "execution_count": 23,
     "metadata": {},
     "output_type": "execute_result"
    }
   ],
   "source": [
    "#INDEXACION\n",
    "\n",
    "unidi = np.random.random_sample(15)\n",
    "unidi"
   ]
  },
  {
   "cell_type": "code",
   "execution_count": 24,
   "id": "df962d9a",
   "metadata": {},
   "outputs": [
    {
     "data": {
      "text/plain": [
       "0.3051715465799346"
      ]
     },
     "execution_count": 24,
     "metadata": {},
     "output_type": "execute_result"
    }
   ],
   "source": [
    "unidi[0]"
   ]
  },
  {
   "cell_type": "code",
   "execution_count": 25,
   "id": "f8dd6020",
   "metadata": {},
   "outputs": [
    {
     "data": {
      "text/plain": [
       "array([0.14381345, 0.59709711, 0.06399565])"
      ]
     },
     "execution_count": 25,
     "metadata": {},
     "output_type": "execute_result"
    }
   ],
   "source": [
    "unidi[-3:]"
   ]
  },
  {
   "cell_type": "code",
   "execution_count": 26,
   "id": "5cc6b876",
   "metadata": {},
   "outputs": [
    {
     "data": {
      "text/plain": [
       "array([0.65431754, 0.49175297])"
      ]
     },
     "execution_count": 26,
     "metadata": {},
     "output_type": "execute_result"
    }
   ],
   "source": [
    "unidi[3:5]"
   ]
  },
  {
   "cell_type": "code",
   "execution_count": 27,
   "id": "6085d1e9",
   "metadata": {},
   "outputs": [
    {
     "data": {
      "text/plain": [
       "array([0.16526905, 0.28285934])"
      ]
     },
     "execution_count": 27,
     "metadata": {},
     "output_type": "execute_result"
    }
   ],
   "source": [
    "unidi[5:7]"
   ]
  },
  {
   "cell_type": "code",
   "execution_count": 28,
   "id": "8e9af493",
   "metadata": {},
   "outputs": [
    {
     "data": {
      "text/plain": [
       "array([0.30517155, 0.96952651, 0.49175297, 0.28285934, 0.03840369,\n",
       "       0.58414124])"
      ]
     },
     "execution_count": 28,
     "metadata": {},
     "output_type": "execute_result"
    }
   ],
   "source": [
    "#10primeros\n",
    "unidi[:11:2]"
   ]
  },
  {
   "cell_type": "code",
   "execution_count": 29,
   "id": "7f0c3a43",
   "metadata": {},
   "outputs": [
    {
     "data": {
      "text/plain": [
       "array([[0.55413134, 0.46677593, 0.98867415, 0.33512255],\n",
       "       [0.46257881, 0.5323246 , 0.50372288, 0.89953145],\n",
       "       [0.1444554 , 0.90783033, 0.04851135, 0.73714828],\n",
       "       [0.65595416, 0.36432791, 0.55011895, 0.67085584],\n",
       "       [0.68028882, 0.97143131, 0.82236899, 0.91069372]])"
      ]
     },
     "execution_count": 29,
     "metadata": {},
     "output_type": "execute_result"
    }
   ],
   "source": [
    "#BIDIMENSIONAL\n",
    "\n",
    "bidi = np.random.rand(5,4)\n",
    "bidi"
   ]
  },
  {
   "cell_type": "code",
   "execution_count": 30,
   "id": "6f073a5f",
   "metadata": {},
   "outputs": [
    {
     "data": {
      "text/plain": [
       "array([0.55413134, 0.46677593, 0.98867415, 0.33512255])"
      ]
     },
     "execution_count": 30,
     "metadata": {},
     "output_type": "execute_result"
    }
   ],
   "source": [
    "bidi[0]"
   ]
  },
  {
   "cell_type": "code",
   "execution_count": 31,
   "id": "5f8eef44",
   "metadata": {},
   "outputs": [
    {
     "data": {
      "text/plain": [
       "0.5541313441040122"
      ]
     },
     "execution_count": 31,
     "metadata": {},
     "output_type": "execute_result"
    }
   ],
   "source": [
    "bidi[0][0] #una indexacion por capa / dimension"
   ]
  },
  {
   "cell_type": "code",
   "execution_count": 32,
   "id": "8fce845a",
   "metadata": {},
   "outputs": [
    {
     "data": {
      "text/plain": [
       "0.5541313441040122"
      ]
     },
     "execution_count": 32,
     "metadata": {},
     "output_type": "execute_result"
    }
   ],
   "source": [
    "bidi[0,0]"
   ]
  },
  {
   "cell_type": "code",
   "execution_count": 33,
   "id": "e688e7f9",
   "metadata": {},
   "outputs": [
    {
     "data": {
      "text/plain": [
       "0.5037228842634025"
      ]
     },
     "execution_count": 33,
     "metadata": {},
     "output_type": "execute_result"
    }
   ],
   "source": [
    "bidi[1][2] #filas y luego columnas"
   ]
  },
  {
   "cell_type": "code",
   "execution_count": 34,
   "id": "eb764acb",
   "metadata": {},
   "outputs": [
    {
     "data": {
      "text/plain": [
       "array([[0.55413134, 0.46677593, 0.98867415, 0.33512255],\n",
       "       [0.46257881, 0.5323246 , 0.50372288, 0.89953145]])"
      ]
     },
     "execution_count": 34,
     "metadata": {},
     "output_type": "execute_result"
    }
   ],
   "source": [
    "#2 primeras filas y de las columnas todo \n",
    "bidi[:2,:]"
   ]
  },
  {
   "cell_type": "code",
   "execution_count": 35,
   "id": "c0dcbb3c",
   "metadata": {},
   "outputs": [
    {
     "data": {
      "text/plain": [
       "array([[-1.        ,  0.46677593, -1.        ,  0.33512255],\n",
       "       [ 0.46257881, -1.        , -1.        , -1.        ],\n",
       "       [ 0.1444554 , -1.        ,  0.04851135, -1.        ],\n",
       "       [-1.        ,  0.36432791, -1.        , -1.        ],\n",
       "       [-1.        , -1.        , -1.        , -1.        ]])"
      ]
     },
     "execution_count": 35,
     "metadata": {},
     "output_type": "execute_result"
    }
   ],
   "source": [
    "#EJERCICIO \n",
    "#cambiar los valores de los array que cumplan una condicion #LAB\n",
    "\n",
    "for filas in range(bidi.shape[0]): #range de 5, indices para acceder a las filas.filas es elemento 0\n",
    "    for columnas in range(bidi.shape[1]): #range de 4, indice para acceder a columnas. columnas es el elemento 1\n",
    "        if bidi[filas][columnas] > 0.5:\n",
    "            bidi[filas][columnas] = -1\n",
    "bidi"
   ]
  },
  {
   "cell_type": "code",
   "execution_count": 36,
   "id": "06e0f9c5",
   "metadata": {},
   "outputs": [
    {
     "data": {
      "text/plain": [
       "(5, 4)"
      ]
     },
     "execution_count": 36,
     "metadata": {},
     "output_type": "execute_result"
    }
   ],
   "source": [
    "bidi.shape"
   ]
  },
  {
   "cell_type": "code",
   "execution_count": 37,
   "id": "2bdfd536",
   "metadata": {},
   "outputs": [
    {
     "data": {
      "text/plain": [
       "array([[[49,  0,  0, 68, 79],\n",
       "        [33, 93,  1,  0, 35],\n",
       "        [38, 55, 17, 51, 38]],\n",
       "\n",
       "       [[59, 55, 15, 89, 54],\n",
       "        [19, 26, 90, 62, 29],\n",
       "        [12, 23, 66, 90, 36]]])"
      ]
     },
     "execution_count": 37,
     "metadata": {},
     "output_type": "execute_result"
    }
   ],
   "source": [
    "#multidimensional\n",
    "\n",
    "#decimos que matrix, fila, columna. literal lo mismo pero crea ota capa\n",
    "\n",
    "multi = np.random.randint(0,100, (2,3,5))\n",
    "multi"
   ]
  },
  {
   "cell_type": "code",
   "execution_count": 38,
   "id": "c4358931",
   "metadata": {},
   "outputs": [
    {
     "data": {
      "text/plain": [
       "array([[49,  0,  0, 68, 79],\n",
       "       [33, 93,  1,  0, 35],\n",
       "       [38, 55, 17, 51, 38]])"
      ]
     },
     "execution_count": 38,
     "metadata": {},
     "output_type": "execute_result"
    }
   ],
   "source": [
    "multi[0]"
   ]
  },
  {
   "cell_type": "code",
   "execution_count": 39,
   "id": "c9762c27",
   "metadata": {},
   "outputs": [
    {
     "data": {
      "text/plain": [
       "38"
      ]
     },
     "execution_count": 39,
     "metadata": {},
     "output_type": "execute_result"
    }
   ],
   "source": [
    "multi[0][2][4]"
   ]
  },
  {
   "cell_type": "code",
   "execution_count": 40,
   "id": "ca0a890b",
   "metadata": {},
   "outputs": [
    {
     "data": {
      "text/plain": [
       "array([49,  0,  0, 68, 79])"
      ]
     },
     "execution_count": 40,
     "metadata": {},
     "output_type": "execute_result"
    }
   ],
   "source": [
    "multi[0,0,:]"
   ]
  },
  {
   "cell_type": "code",
   "execution_count": 41,
   "id": "b8f56174",
   "metadata": {},
   "outputs": [
    {
     "data": {
      "text/plain": [
       "array([49, 33, 38])"
      ]
     },
     "execution_count": 41,
     "metadata": {},
     "output_type": "execute_result"
    }
   ],
   "source": [
    "multi[0,:,0] #cuando son 3"
   ]
  },
  {
   "cell_type": "code",
   "execution_count": 42,
   "id": "e5141565",
   "metadata": {},
   "outputs": [
    {
     "data": {
      "text/plain": [
       "array([[[49,  0,  0, 68, 79],\n",
       "        [33, 93,  1,  0, 35],\n",
       "        [38, 55, 17, 51, 38]],\n",
       "\n",
       "       [[59, 55, 15, 89, 54],\n",
       "        [19, 26, 90, 62, 29],\n",
       "        [12, 23, 66, 90, 36]]])"
      ]
     },
     "execution_count": 42,
     "metadata": {},
     "output_type": "execute_result"
    }
   ],
   "source": [
    "#SUBSET!!!!!\n",
    "\n",
    "multi"
   ]
  },
  {
   "cell_type": "code",
   "execution_count": 43,
   "id": "0dd457bd",
   "metadata": {},
   "outputs": [
    {
     "data": {
      "text/plain": [
       "array([68, 79, 93, 55, 51, 59, 55, 89, 54, 90, 62, 66, 90])"
      ]
     },
     "execution_count": 43,
     "metadata": {},
     "output_type": "execute_result"
    }
   ],
   "source": [
    "multi[multi>50]"
   ]
  },
  {
   "cell_type": "code",
   "execution_count": 44,
   "id": "e61dadd2",
   "metadata": {},
   "outputs": [
    {
     "data": {
      "text/plain": [
       "array([49, 68, 79, 93, 55, 51, 59, 55, 89, 54, 90, 62, 66, 90])"
      ]
     },
     "execution_count": 44,
     "metadata": {},
     "output_type": "execute_result"
    }
   ],
   "source": [
    "#AND OR para numpy \n",
    "\n",
    "# AND = &\n",
    "# OR = |\n",
    "\n",
    "multi[(multi > 45) | (multi == 73)]"
   ]
  },
  {
   "cell_type": "code",
   "execution_count": 45,
   "id": "5b707676",
   "metadata": {},
   "outputs": [
    {
     "name": "stdout",
     "output_type": "stream",
     "text": [
      "[[[1. 1. 1. 1.]\n",
      "  [1. 1. 1. 1.]\n",
      "  [1. 1. 1. 1.]]\n",
      "\n",
      " [[1. 1. 1. 1.]\n",
      "  [1. 1. 1. 1.]\n",
      "  [1. 1. 1. 1.]]]\n",
      "[[[8 5 1 2]\n",
      "  [0 6 8 8]\n",
      "  [9 0 8 4]]\n",
      "\n",
      " [[7 0 6 6]\n",
      "  [1 6 9 0]\n",
      "  [5 3 5 9]]]\n"
     ]
    }
   ],
   "source": [
    "#Operaciones entre arrays!!!!! \n",
    "\n",
    "a = np.ones((2,3,4))\n",
    "b = np.random.randint(0,10,(2,3,4))\n",
    "print(a)\n",
    "print(b)"
   ]
  },
  {
   "cell_type": "code",
   "execution_count": 46,
   "id": "38907d2e",
   "metadata": {},
   "outputs": [
    {
     "data": {
      "text/plain": [
       "array([[[-7., -4.,  0., -1.],\n",
       "        [ 1., -5., -7., -7.],\n",
       "        [-8.,  1., -7., -3.]],\n",
       "\n",
       "       [[-6.,  1., -5., -5.],\n",
       "        [ 0., -5., -8.,  1.],\n",
       "        [-4., -2., -4., -8.]]])"
      ]
     },
     "execution_count": 46,
     "metadata": {},
     "output_type": "execute_result"
    }
   ],
   "source": [
    "#add y subtract y multiply\n",
    "np.add(a,b)\n",
    "np.subtract(a,b)"
   ]
  },
  {
   "cell_type": "code",
   "execution_count": 47,
   "id": "3682b9a9",
   "metadata": {},
   "outputs": [
    {
     "name": "stderr",
     "output_type": "stream",
     "text": [
      "C:\\Users\\anton\\AppData\\Local\\Temp/ipykernel_7332/1994206695.py:2: RuntimeWarning: divide by zero encountered in true_divide\n",
      "  np.divide(a,b)\n"
     ]
    },
    {
     "data": {
      "text/plain": [
       "array([[[0.125     , 0.2       , 1.        , 0.5       ],\n",
       "        [       inf, 0.16666667, 0.125     , 0.125     ],\n",
       "        [0.11111111,        inf, 0.125     , 0.25      ]],\n",
       "\n",
       "       [[0.14285714,        inf, 0.16666667, 0.16666667],\n",
       "        [1.        , 0.16666667, 0.11111111,        inf],\n",
       "        [0.2       , 0.33333333, 0.2       , 0.11111111]]])"
      ]
     },
     "execution_count": 47,
     "metadata": {},
     "output_type": "execute_result"
    }
   ],
   "source": [
    "np.multiply(a,b)\n",
    "np.divide(a,b)"
   ]
  },
  {
   "cell_type": "code",
   "execution_count": 48,
   "id": "aa231478",
   "metadata": {},
   "outputs": [
    {
     "name": "stderr",
     "output_type": "stream",
     "text": [
      "C:\\Users\\anton\\AppData\\Local\\Temp/ipykernel_7332/2098260807.py:3: RuntimeWarning: divide by zero encountered in floor_divide\n",
      "  a // b\n"
     ]
    },
    {
     "data": {
      "text/plain": [
       "array([[[ 0.,  0.,  1.,  0.],\n",
       "        [inf,  0.,  0.,  0.],\n",
       "        [ 0., inf,  0.,  0.]],\n",
       "\n",
       "       [[ 0., inf,  0.,  0.],\n",
       "        [ 1.,  0.,  0., inf],\n",
       "        [ 0.,  0.,  0.,  0.]]])"
      ]
     },
     "execution_count": 48,
     "metadata": {},
     "output_type": "execute_result"
    }
   ],
   "source": [
    "#divisionENTERA\n",
    "\n",
    "a // b"
   ]
  },
  {
   "cell_type": "code",
   "execution_count": 49,
   "id": "b40474b4",
   "metadata": {},
   "outputs": [
    {
     "data": {
      "text/plain": [
       "array([[1, 2, 3],\n",
       "       [1, 2, 3]])"
      ]
     },
     "execution_count": 49,
     "metadata": {},
     "output_type": "execute_result"
    }
   ],
   "source": [
    "#Operaciones array - escalar \n",
    "\n",
    "c = np.array([[1,2,3], [1,2,3]])\n",
    "c"
   ]
  },
  {
   "cell_type": "code",
   "execution_count": 50,
   "id": "4b63b518",
   "metadata": {},
   "outputs": [
    {
     "data": {
      "text/plain": [
       "array([[2, 4, 6],\n",
       "       [2, 4, 6]])"
      ]
     },
     "execution_count": 50,
     "metadata": {},
     "output_type": "execute_result"
    }
   ],
   "source": [
    "c*2"
   ]
  },
  {
   "cell_type": "code",
   "execution_count": 51,
   "id": "b9f523fa",
   "metadata": {},
   "outputs": [
    {
     "data": {
      "text/plain": [
       "array([[1, 0, 1],\n",
       "       [1, 0, 1]], dtype=int32)"
      ]
     },
     "execution_count": 51,
     "metadata": {},
     "output_type": "execute_result"
    }
   ],
   "source": [
    "c % 2 #modulo"
   ]
  },
  {
   "cell_type": "code",
   "execution_count": 52,
   "id": "7713a0a6",
   "metadata": {},
   "outputs": [
    {
     "data": {
      "text/plain": [
       "array([[ 1, 10,  7, 12,  1],\n",
       "       [ 4,  3,  8, 12, 19],\n",
       "       [ 1, 12, 18, 11, 13],\n",
       "       [12,  4, 10,  1,  5]])"
      ]
     },
     "execution_count": 52,
     "metadata": {},
     "output_type": "execute_result"
    }
   ],
   "source": [
    "#operaciones estadisticas!!!!!!!\n",
    "\n",
    "# axis = 0, columnas \n",
    "# axis = 1, filas\n",
    "\n",
    "d = np.random.randint(1,20,(4,5))\n",
    "d"
   ]
  },
  {
   "cell_type": "code",
   "execution_count": 53,
   "id": "28df354e",
   "metadata": {},
   "outputs": [
    {
     "data": {
      "text/plain": [
       "2"
      ]
     },
     "execution_count": 53,
     "metadata": {},
     "output_type": "execute_result"
    }
   ],
   "source": [
    "d.ndim"
   ]
  },
  {
   "cell_type": "code",
   "execution_count": 54,
   "id": "b531344a",
   "metadata": {},
   "outputs": [
    {
     "data": {
      "text/plain": [
       "8.2"
      ]
     },
     "execution_count": 54,
     "metadata": {},
     "output_type": "execute_result"
    }
   ],
   "source": [
    "np.mean(d)"
   ]
  },
  {
   "cell_type": "code",
   "execution_count": 55,
   "id": "27e7dbd1",
   "metadata": {},
   "outputs": [
    {
     "data": {
      "text/plain": [
       "array([ 6.2,  9.2, 11. ,  6.4])"
      ]
     },
     "execution_count": 55,
     "metadata": {},
     "output_type": "execute_result"
    }
   ],
   "source": [
    "np.mean(d, axis = 1) #media de filas!!!"
   ]
  },
  {
   "cell_type": "code",
   "execution_count": 56,
   "id": "c0fb78b6",
   "metadata": {},
   "outputs": [
    {
     "data": {
      "text/plain": [
       "array([ 4.5 ,  7.25, 10.75,  9.  ,  9.5 ])"
      ]
     },
     "execution_count": 56,
     "metadata": {},
     "output_type": "execute_result"
    }
   ],
   "source": [
    "np.mean(d, axis = 0) #media de columnas!!!"
   ]
  },
  {
   "cell_type": "code",
   "execution_count": 57,
   "id": "0d23ffc5",
   "metadata": {},
   "outputs": [
    {
     "data": {
      "text/plain": [
       "5.427706698044765"
      ]
     },
     "execution_count": 57,
     "metadata": {},
     "output_type": "execute_result"
    }
   ],
   "source": [
    "#desviacion estandar\n",
    "np.std(d)"
   ]
  },
  {
   "cell_type": "code",
   "execution_count": 58,
   "id": "383af185",
   "metadata": {},
   "outputs": [
    {
     "data": {
      "text/plain": [
       "array([4.5       , 3.83242743, 4.32290412, 4.63680925, 6.98212002])"
      ]
     },
     "execution_count": 58,
     "metadata": {},
     "output_type": "execute_result"
    }
   ],
   "source": [
    "np.std(d, axis = 0)"
   ]
  },
  {
   "cell_type": "code",
   "execution_count": 59,
   "id": "8d50f5a6",
   "metadata": {},
   "outputs": [
    {
     "data": {
      "text/plain": [
       "array([4.53431362, 5.84465568, 5.54977477, 4.02988834])"
      ]
     },
     "execution_count": 59,
     "metadata": {},
     "output_type": "execute_result"
    }
   ],
   "source": [
    "np.std(d, axis = 1)"
   ]
  },
  {
   "cell_type": "code",
   "execution_count": 60,
   "id": "2051eb68",
   "metadata": {},
   "outputs": [
    {
     "data": {
      "text/plain": [
       "29.46"
      ]
     },
     "execution_count": 60,
     "metadata": {},
     "output_type": "execute_result"
    }
   ],
   "source": [
    "np.var(d)"
   ]
  },
  {
   "cell_type": "code",
   "execution_count": 61,
   "id": "c9640a31",
   "metadata": {},
   "outputs": [
    {
     "data": {
      "text/plain": [
       "array([1, 3, 7, 1, 1])"
      ]
     },
     "execution_count": 61,
     "metadata": {},
     "output_type": "execute_result"
    }
   ],
   "source": [
    "#OPERACIONES ARITMETICAS\n",
    "\n",
    "np.min(d, axis = 1)\n",
    "np.min(d, axis = 0)"
   ]
  },
  {
   "cell_type": "code",
   "execution_count": 62,
   "id": "2b1f4c3f",
   "metadata": {},
   "outputs": [
    {
     "data": {
      "text/plain": [
       "164"
      ]
     },
     "execution_count": 62,
     "metadata": {},
     "output_type": "execute_result"
    }
   ],
   "source": [
    "np.sum(d)"
   ]
  },
  {
   "cell_type": "code",
   "execution_count": 63,
   "id": "3a3efb8d",
   "metadata": {},
   "outputs": [
    {
     "data": {
      "text/plain": [
       "array([  1,  11,  18,  30,  31,  35,  38,  46,  58,  77,  78,  90, 108,\n",
       "       119, 132, 144, 148, 158, 159, 164], dtype=int32)"
      ]
     },
     "execution_count": 63,
     "metadata": {},
     "output_type": "execute_result"
    }
   ],
   "source": [
    "#no hay que escribir axis\n",
    "np.cumsum(d)"
   ]
  },
  {
   "cell_type": "code",
   "execution_count": 64,
   "id": "d47e8512",
   "metadata": {},
   "outputs": [
    {
     "data": {
      "text/plain": [
       "array([          1,          10,          70,         840,         840,\n",
       "              3360,       10080,       80640,      967680,    18385920,\n",
       "          18385920,   220631040,  -323608576,   735272960,   968613888,\n",
       "       -1261535232,  -751173632,  1078198272,  1078198272,  1096024064],\n",
       "      dtype=int32)"
      ]
     },
     "execution_count": 64,
     "metadata": {},
     "output_type": "execute_result"
    }
   ],
   "source": [
    "np.cumproduct(d)"
   ]
  },
  {
   "cell_type": "code",
   "execution_count": 65,
   "id": "29cae0c4",
   "metadata": {},
   "outputs": [
    {
     "data": {
      "text/plain": [
       "array([          1,          10,          70,         840,         840,\n",
       "              3360,       10080,       80640,      967680,    18385920,\n",
       "          18385920,   220631040,  -323608576,   735272960,   968613888,\n",
       "       -1261535232,  -751173632,  1078198272,  1078198272,  1096024064],\n",
       "      dtype=int32)"
      ]
     },
     "execution_count": 65,
     "metadata": {},
     "output_type": "execute_result"
    }
   ],
   "source": [
    "np.cumprod(d)"
   ]
  },
  {
   "cell_type": "code",
   "execution_count": 66,
   "id": "248e5563",
   "metadata": {},
   "outputs": [
    {
     "data": {
      "text/plain": [
       "array([[1.        , 3.16227766, 2.64575131, 3.46410162, 1.        ],\n",
       "       [2.        , 1.73205081, 2.82842712, 3.46410162, 4.35889894],\n",
       "       [1.        , 3.46410162, 4.24264069, 3.31662479, 3.60555128],\n",
       "       [3.46410162, 2.        , 3.16227766, 1.        , 2.23606798]])"
      ]
     },
     "execution_count": 66,
     "metadata": {},
     "output_type": "execute_result"
    }
   ],
   "source": [
    "np.sqrt(d)"
   ]
  },
  {
   "cell_type": "code",
   "execution_count": 67,
   "id": "3dec40af",
   "metadata": {},
   "outputs": [
    {
     "data": {
      "text/plain": [
       "array([[2.71828183e+00, 2.20264658e+04, 1.09663316e+03, 1.62754791e+05,\n",
       "        2.71828183e+00],\n",
       "       [5.45981500e+01, 2.00855369e+01, 2.98095799e+03, 1.62754791e+05,\n",
       "        1.78482301e+08],\n",
       "       [2.71828183e+00, 1.62754791e+05, 6.56599691e+07, 5.98741417e+04,\n",
       "        4.42413392e+05],\n",
       "       [1.62754791e+05, 5.45981500e+01, 2.20264658e+04, 2.71828183e+00,\n",
       "        1.48413159e+02]])"
      ]
     },
     "execution_count": 67,
     "metadata": {},
     "output_type": "execute_result"
    }
   ],
   "source": [
    "np.exp(d)"
   ]
  },
  {
   "cell_type": "code",
   "execution_count": 68,
   "id": "5b0e8fc2",
   "metadata": {},
   "outputs": [
    {
     "data": {
      "text/plain": [
       "False"
      ]
     },
     "execution_count": 68,
     "metadata": {},
     "output_type": "execute_result"
    }
   ],
   "source": [
    "#de COMPARACION\n",
    "\n",
    "np.any(d > 19)"
   ]
  },
  {
   "cell_type": "code",
   "execution_count": 69,
   "id": "f0efa58d",
   "metadata": {},
   "outputs": [
    {
     "data": {
      "text/plain": [
       "True"
      ]
     },
     "execution_count": 69,
     "metadata": {},
     "output_type": "execute_result"
    }
   ],
   "source": [
    "np.any (d > 1)"
   ]
  },
  {
   "cell_type": "code",
   "execution_count": 70,
   "id": "3797f5f5",
   "metadata": {},
   "outputs": [
    {
     "data": {
      "text/plain": [
       "array([[ 0.54030231, -0.83907153,  0.75390225,  0.84385396,  0.54030231],\n",
       "       [-0.65364362, -0.9899925 , -0.14550003,  0.84385396,  0.98870462],\n",
       "       [ 0.54030231,  0.84385396,  0.66031671,  0.0044257 ,  0.90744678],\n",
       "       [ 0.84385396, -0.65364362, -0.83907153,  0.54030231,  0.28366219]])"
      ]
     },
     "execution_count": 70,
     "metadata": {},
     "output_type": "execute_result"
    }
   ],
   "source": [
    "#cosine, sine, tangente\n",
    "\n",
    "np.cos(d)"
   ]
  },
  {
   "cell_type": "code",
   "execution_count": 71,
   "id": "e6b38e00",
   "metadata": {},
   "outputs": [
    {
     "data": {
      "text/plain": [
       "array([[ 1,  1,  7, 10, 12],\n",
       "       [ 3,  4,  8, 12, 19],\n",
       "       [ 1, 11, 12, 13, 18],\n",
       "       [ 1,  4,  5, 10, 12]])"
      ]
     },
     "execution_count": 71,
     "metadata": {},
     "output_type": "execute_result"
    }
   ],
   "source": [
    "#otras operaciones\n",
    "#ordenar array\n",
    "\n",
    "#de menor a mayor para cada fila.\n",
    "\n",
    "np.sort(d)"
   ]
  },
  {
   "cell_type": "code",
   "execution_count": 72,
   "id": "49af4a8d",
   "metadata": {},
   "outputs": [
    {
     "data": {
      "text/plain": [
       "array([[ 1,  3,  7,  1,  1],\n",
       "       [ 1,  4,  8, 11,  5],\n",
       "       [ 4, 10, 10, 12, 13],\n",
       "       [12, 12, 18, 12, 19]])"
      ]
     },
     "execution_count": 72,
     "metadata": {},
     "output_type": "execute_result"
    }
   ],
   "source": [
    "np.sort(d, 0)"
   ]
  },
  {
   "cell_type": "code",
   "execution_count": 73,
   "id": "781b7857",
   "metadata": {},
   "outputs": [
    {
     "data": {
      "text/plain": [
       "array([[12, 10,  7,  1,  1],\n",
       "       [19, 12,  8,  4,  3],\n",
       "       [18, 13, 12, 11,  1],\n",
       "       [12, 10,  5,  4,  1]])"
      ]
     },
     "execution_count": 73,
     "metadata": {},
     "output_type": "execute_result"
    }
   ],
   "source": [
    "-np.sort(-d)"
   ]
  },
  {
   "cell_type": "code",
   "execution_count": 74,
   "id": "65ed21a4",
   "metadata": {},
   "outputs": [
    {
     "data": {
      "text/plain": [
       "array([[ 1, 10,  7, 12,  1],\n",
       "       [ 4,  3,  8, 12, 19],\n",
       "       [ 1, 12, 18, 11, 13],\n",
       "       [12,  4, 10,  1,  5]])"
      ]
     },
     "execution_count": 74,
     "metadata": {},
     "output_type": "execute_result"
    }
   ],
   "source": [
    "#round\n",
    "np.round(d, decimals = 1)"
   ]
  },
  {
   "cell_type": "code",
   "execution_count": 75,
   "id": "d84dc163",
   "metadata": {},
   "outputs": [
    {
     "data": {
      "text/plain": [
       "(array([1, 2, 2], dtype=int64), array([4, 2, 4], dtype=int64))"
      ]
     },
     "execution_count": 75,
     "metadata": {},
     "output_type": "execute_result"
    }
   ],
   "source": [
    "np.where(d > 12) #nos devuelve 2 arrays, especificando. arriba es filas y abajo y es columna"
   ]
  },
  {
   "cell_type": "code",
   "execution_count": 76,
   "id": "12f81a09",
   "metadata": {},
   "outputs": [
    {
     "data": {
      "text/plain": [
       "array([[1.21045347e-311, 2.86558075e-322, 0.00000000e+000,\n",
       "        0.00000000e+000],\n",
       "       [1.89146896e-307, 1.61590357e+184, 4.96106527e-090,\n",
       "        3.11289059e-032],\n",
       "       [1.29150523e+160, 4.51850806e-037, 6.48224659e+170,\n",
       "        5.82471487e+257]])"
      ]
     },
     "execution_count": 76,
     "metadata": {},
     "output_type": "execute_result"
    }
   ],
   "source": [
    "#np copy\n",
    "\n",
    "nuevo = np.empty((3,4))\n",
    "nuevo"
   ]
  },
  {
   "cell_type": "code",
   "execution_count": 77,
   "id": "fa74df9f",
   "metadata": {},
   "outputs": [
    {
     "data": {
      "text/plain": [
       "array([[1.21045347e-311, 2.86558075e-322, 0.00000000e+000,\n",
       "        0.00000000e+000],\n",
       "       [1.89146896e-307, 1.61590357e+184, 4.96106527e-090,\n",
       "        3.11289059e-032],\n",
       "       [1.29150523e+160, 4.51850806e-037, 6.48224659e+170,\n",
       "        5.82471487e+257]])"
      ]
     },
     "execution_count": 77,
     "metadata": {},
     "output_type": "execute_result"
    }
   ],
   "source": [
    "nuevo_copy = np.copy(nuevo)\n",
    "nuevo_copy"
   ]
  },
  {
   "cell_type": "code",
   "execution_count": 78,
   "id": "882e095d",
   "metadata": {},
   "outputs": [
    {
     "data": {
      "text/plain": [
       "array([[-1.        ,  0.46677593, -1.        ,  0.33512255],\n",
       "       [ 0.46257881, -1.        , -1.        , -1.        ],\n",
       "       [ 0.1444554 , -1.        ,  0.04851135, -1.        ],\n",
       "       [-1.        ,  0.36432791, -1.        , -1.        ],\n",
       "       [-1.        , -1.        , -1.        , -1.        ]])"
      ]
     },
     "execution_count": 78,
     "metadata": {},
     "output_type": "execute_result"
    }
   ],
   "source": [
    "#TRANSPOSE!!!!!!!!!!! LAB\n",
    "#para unica dimension, no PASA NADA. \n",
    "\n",
    "bidi"
   ]
  },
  {
   "cell_type": "code",
   "execution_count": 79,
   "id": "5d190775",
   "metadata": {},
   "outputs": [
    {
     "data": {
      "text/plain": [
       "array([[-1.        ,  0.46257881,  0.1444554 , -1.        , -1.        ],\n",
       "       [ 0.46677593, -1.        , -1.        ,  0.36432791, -1.        ],\n",
       "       [-1.        , -1.        ,  0.04851135, -1.        , -1.        ],\n",
       "       [ 0.33512255, -1.        , -1.        , -1.        , -1.        ]])"
      ]
     },
     "execution_count": 79,
     "metadata": {},
     "output_type": "execute_result"
    }
   ],
   "source": [
    "np.transpose(bidi)"
   ]
  },
  {
   "cell_type": "code",
   "execution_count": 80,
   "id": "5f7d382b",
   "metadata": {},
   "outputs": [
    {
     "name": "stdout",
     "output_type": "stream",
     "text": [
      "(2, 3, 5)\n",
      "(5, 3, 2)\n"
     ]
    }
   ],
   "source": [
    "print((multi.shape)) \n",
    "print(np.transpose(multi).shape)"
   ]
  },
  {
   "cell_type": "code",
   "execution_count": 81,
   "id": "6de698b7",
   "metadata": {},
   "outputs": [
    {
     "data": {
      "text/plain": [
       "array([[[49, 33, 38],\n",
       "        [ 0, 93, 55],\n",
       "        [ 0,  1, 17],\n",
       "        [68,  0, 51],\n",
       "        [79, 35, 38]],\n",
       "\n",
       "       [[59, 19, 12],\n",
       "        [55, 26, 23],\n",
       "        [15, 90, 66],\n",
       "        [89, 62, 90],\n",
       "        [54, 29, 36]]])"
      ]
     },
     "execution_count": 81,
     "metadata": {},
     "output_type": "execute_result"
    }
   ],
   "source": [
    "#PODEMOS ESPECIFICAR\n",
    "\n",
    "np.transpose(multi, (0,2,1))"
   ]
  },
  {
   "cell_type": "code",
   "execution_count": 82,
   "id": "a70a6401",
   "metadata": {},
   "outputs": [
    {
     "data": {
      "text/plain": [
       "array([[1, 2, 3],\n",
       "       [4, 5, 6]])"
      ]
     },
     "execution_count": 82,
     "metadata": {},
     "output_type": "execute_result"
    }
   ],
   "source": [
    "#reshape\n",
    "\n",
    "lista5 = [[1,2,3],[4,5,6]]\n",
    "array5 = np.array(lista5)\n",
    "array5"
   ]
  },
  {
   "cell_type": "code",
   "execution_count": 83,
   "id": "f7990830",
   "metadata": {},
   "outputs": [
    {
     "data": {
      "text/plain": [
       "array([[1, 2],\n",
       "       [3, 4],\n",
       "       [5, 6]])"
      ]
     },
     "execution_count": 83,
     "metadata": {},
     "output_type": "execute_result"
    }
   ],
   "source": [
    "array5.reshape(3,2) #la diferencia con transpose bidimensional es que acá puedo decir el orden de como quiero ponerlo. "
   ]
  },
  {
   "cell_type": "code",
   "execution_count": 84,
   "id": "8c132709",
   "metadata": {},
   "outputs": [
    {
     "data": {
      "text/plain": [
       "array([[1],\n",
       "       [2],\n",
       "       [3],\n",
       "       [4],\n",
       "       [5],\n",
       "       [6]])"
      ]
     },
     "execution_count": 84,
     "metadata": {},
     "output_type": "execute_result"
    }
   ],
   "source": [
    "array5.reshape(6,1)"
   ]
  },
  {
   "cell_type": "code",
   "execution_count": 85,
   "id": "25069510",
   "metadata": {},
   "outputs": [
    {
     "data": {
      "text/plain": [
       "array([[[1, 2],\n",
       "        [3, 4],\n",
       "        [5, 6]]])"
      ]
     },
     "execution_count": 85,
     "metadata": {},
     "output_type": "execute_result"
    }
   ],
   "source": [
    "array5.reshape(1,3,2)"
   ]
  },
  {
   "cell_type": "code",
   "execution_count": 86,
   "id": "ddbbccc5",
   "metadata": {},
   "outputs": [
    {
     "data": {
      "text/plain": [
       "array([[1, 4],\n",
       "       [2, 5],\n",
       "       [3, 6]])"
      ]
     },
     "execution_count": 86,
     "metadata": {},
     "output_type": "execute_result"
    }
   ],
   "source": [
    "np.swapaxes(array5,1,0)"
   ]
  },
  {
   "cell_type": "code",
   "execution_count": 88,
   "id": "6182ff26",
   "metadata": {},
   "outputs": [
    {
     "data": {
      "text/plain": [
       "(array([1, 2, 3, 4, 5, 6]), array([0, 1, 2, 3, 4, 5], dtype=int64))"
      ]
     },
     "execution_count": 88,
     "metadata": {},
     "output_type": "execute_result"
    }
   ],
   "source": [
    "#NPUNIQUE \n",
    "\n",
    "#return_index -la posicion en donde está el valor unico\n",
    "#return_count -las veces que el valor unico se repite\n",
    "#return_inverse -da las posicion como el index\n",
    "#axis\n",
    "\n",
    "np.unique(array5, return_index = True) #set of array "
   ]
  },
  {
   "cell_type": "code",
   "execution_count": null,
   "id": "ad3af243",
   "metadata": {},
   "outputs": [],
   "source": []
  }
 ],
 "metadata": {
  "kernelspec": {
   "display_name": "Python 3 (ipykernel)",
   "language": "python",
   "name": "python3"
  },
  "language_info": {
   "codemirror_mode": {
    "name": "ipython",
    "version": 3
   },
   "file_extension": ".py",
   "mimetype": "text/x-python",
   "name": "python",
   "nbconvert_exporter": "python",
   "pygments_lexer": "ipython3",
   "version": "3.9.7"
  }
 },
 "nbformat": 4,
 "nbformat_minor": 5
}
