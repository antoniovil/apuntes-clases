{
 "cells": [
  {
   "cell_type": "code",
   "execution_count": 1,
   "id": "6b6f4ffa",
   "metadata": {},
   "outputs": [],
   "source": [
    "#1.crear una clase para el ejemplo de empleados\n",
    "#2.pensar los atributos - propiedades - variantes dentro de la clase. lo primero que hacer!\n",
    "#__init__ y self son MANDATORY\n",
    "\n",
    "class Empleados:\n",
    "    def __init__(self, nombre, apellido, edad, posicion, año, vacaciones, herramientas):\n",
    "        \n",
    "        self.nombre = nombre\n",
    "        self.apellido = apellido\n",
    "        self.edad = edad\n",
    "        self.posicion = posicion\n",
    "        self.año = año\n",
    "        self.vacaciones = vacaciones\n",
    "        self.herramientas = herramientas\n",
    "    \n",
    "    #metodo 1: presentar a los empleados\n",
    "    def descripcion(self):\n",
    "        return f'el/ella, es {self.nombre}, {self.posicion}, quien lleva con nosotros en la empresa {self.año}'\n",
    "    \n",
    "    #metodo 2: calcular vacaciones que le quedan\n",
    "    def calculo_vacaciones(self):\n",
    "        dias = int(input('cuantos dias te fuiste de vacaciones?'))\n",
    "        self.vacaciones -= dias\n",
    "        if self.vacaciones == 0:\n",
    "            return \"no te queda na\"\n",
    "        elif dias > self.vacaciones:\n",
    "            return \"ohoh te estas pasando\"\n",
    "        else:\n",
    "            return f'le quedan {self.vacaciones} para vacilar con sus panas'\n",
    "    \n",
    "    def posicion_(self):\n",
    "        for i in self.herramientas:\n",
    "            if i.lower() == \"python\":\n",
    "                return 'bien hecho crack, nos caes bien'\n",
    "            elif i.lower() == 'excel':\n",
    "                return \"mal asunto amigo\"\n",
    "            else:\n",
    "                return 'te dejamos en paz'"
   ]
  },
  {
   "cell_type": "code",
   "execution_count": 2,
   "id": "a632c056",
   "metadata": {},
   "outputs": [],
   "source": [
    "enrique = Empleados(\"Enrique\", \"Lopez\", 49, \"admin\",2000,23,[\"ho\",\"python\"])\n",
    "lorena = Empleados(\"Lorena\", \"Lopez\", 22, \"adminoo\",2020,21,[\"hola\",\"python\"])"
   ]
  },
  {
   "cell_type": "code",
   "execution_count": 3,
   "id": "f62f4eb0",
   "metadata": {
    "scrolled": true
   },
   "outputs": [
    {
     "name": "stdout",
     "output_type": "stream",
     "text": [
      "cuantos dias te fuiste de vacaciones?1\n"
     ]
    },
    {
     "data": {
      "text/plain": [
       "'le quedan 22 para vacilar con sus panas'"
      ]
     },
     "execution_count": 3,
     "metadata": {},
     "output_type": "execute_result"
    }
   ],
   "source": [
    "enrique.calculo_vacaciones()"
   ]
  },
  {
   "cell_type": "code",
   "execution_count": 4,
   "id": "4014f1b7",
   "metadata": {
    "scrolled": true
   },
   "outputs": [
    {
     "data": {
      "text/plain": [
       "'te dejamos en paz'"
      ]
     },
     "execution_count": 4,
     "metadata": {},
     "output_type": "execute_result"
    }
   ],
   "source": [
    "enrique.posicion_()"
   ]
  },
  {
   "cell_type": "code",
   "execution_count": 5,
   "id": "cf86b932",
   "metadata": {},
   "outputs": [],
   "source": [
    "#clase hereda de otra\n",
    "#classs NUEVA_CLASE (CLASE DE LA QUE SE HEREDA)\n",
    "#SIEMPRE SE TIENE QUE HACER ASÍ PARA UNA HERENCIA!!\n",
    "\n",
    "class Secretaria(Empleados):\n",
    "    def __init__(self, nombre, apellido, edad, posicion, año, vacaciones, herramientas):\n",
    "        super().__init__(nombre, apellido, edad, posicion, año, vacaciones, herramientas)\n",
    "        \n",
    "    def descripcion(self, roll = \"secretaria\"):\n",
    "        return f'buenos dias soy {self.nombre}, soy la {roll}, en que puedo ayudarte'\n",
    "    \n",
    "    def calculo_salario(self):\n",
    "        salario = int(input('cuanto cobras al año? '))\n",
    "        sueldo_mes = salario / 12\n",
    "        return f'tu sueldo al mes es {sueldo_mes}'"
   ]
  },
  {
   "cell_type": "code",
   "execution_count": 6,
   "id": "2acda97e",
   "metadata": {},
   "outputs": [],
   "source": [
    "laura = Secretaria('laura', 'ruiz',38,'secretaria',2015,30,['email','telefono'])"
   ]
  },
  {
   "cell_type": "code",
   "execution_count": 7,
   "id": "8637353d",
   "metadata": {
    "scrolled": true
   },
   "outputs": [
    {
     "data": {
      "text/plain": [
       "'buenos dias soy laura, soy la secretaria, en que puedo ayudarte'"
      ]
     },
     "execution_count": 7,
     "metadata": {},
     "output_type": "execute_result"
    }
   ],
   "source": [
    "laura.descripcion()"
   ]
  },
  {
   "cell_type": "code",
   "execution_count": 8,
   "id": "45bb2ccd",
   "metadata": {},
   "outputs": [
    {
     "name": "stdout",
     "output_type": "stream",
     "text": [
      "cuanto cobras al año? 5000\n"
     ]
    },
    {
     "data": {
      "text/plain": [
       "'tu sueldo al mes es 416.6666666666667'"
      ]
     },
     "execution_count": 8,
     "metadata": {},
     "output_type": "execute_result"
    }
   ],
   "source": [
    "laura.calculo_salario()"
   ]
  },
  {
   "cell_type": "code",
   "execution_count": 9,
   "id": "83b75bf9",
   "metadata": {},
   "outputs": [
    {
     "name": "stdout",
     "output_type": "stream",
     "text": [
      "Help on class Empleados in module __main__:\n",
      "\n",
      "class Empleados(builtins.object)\n",
      " |  Empleados(nombre, apellido, edad, posicion, año, vacaciones, herramientas)\n",
      " |  \n",
      " |  Methods defined here:\n",
      " |  \n",
      " |  __init__(self, nombre, apellido, edad, posicion, año, vacaciones, herramientas)\n",
      " |      Initialize self.  See help(type(self)) for accurate signature.\n",
      " |  \n",
      " |  calculo_vacaciones(self)\n",
      " |      #metodo 2: calcular vacaciones que le quedan\n",
      " |  \n",
      " |  descripcion(self)\n",
      " |      #metodo 1: presentar a los empleados\n",
      " |  \n",
      " |  posicion_(self)\n",
      " |  \n",
      " |  ----------------------------------------------------------------------\n",
      " |  Data descriptors defined here:\n",
      " |  \n",
      " |  __dict__\n",
      " |      dictionary for instance variables (if defined)\n",
      " |  \n",
      " |  __weakref__\n",
      " |      list of weak references to the object (if defined)\n",
      "\n",
      "None\n"
     ]
    }
   ],
   "source": [
    "print(help(Empleados))"
   ]
  },
  {
   "cell_type": "code",
   "execution_count": 10,
   "id": "f735d50b",
   "metadata": {},
   "outputs": [
    {
     "data": {
      "text/plain": [
       "{'nombre': 'laura',\n",
       " 'apellido': 'ruiz',\n",
       " 'edad': 38,\n",
       " 'posicion': 'secretaria',\n",
       " 'año': 2015,\n",
       " 'vacaciones': 30,\n",
       " 'herramientas': ['email', 'telefono']}"
      ]
     },
     "execution_count": 10,
     "metadata": {},
     "output_type": "execute_result"
    }
   ],
   "source": [
    "laura.__dict__ #dict"
   ]
  },
  {
   "cell_type": "code",
   "execution_count": 11,
   "id": "abf5241f",
   "metadata": {},
   "outputs": [
    {
     "data": {
      "text/plain": [
       "True"
      ]
     },
     "execution_count": 11,
     "metadata": {},
     "output_type": "execute_result"
    }
   ],
   "source": [
    "isinstance(laura, Empleados)"
   ]
  },
  {
   "cell_type": "code",
   "execution_count": null,
   "id": "4f058a42",
   "metadata": {},
   "outputs": [],
   "source": []
  }
 ],
 "metadata": {
  "kernelspec": {
   "display_name": "Python 3 (ipykernel)",
   "language": "python",
   "name": "python3"
  },
  "language_info": {
   "codemirror_mode": {
    "name": "ipython",
    "version": 3
   },
   "file_extension": ".py",
   "mimetype": "text/x-python",
   "name": "python",
   "nbconvert_exporter": "python",
   "pygments_lexer": "ipython3",
   "version": "3.9.7"
  }
 },
 "nbformat": 4,
 "nbformat_minor": 5
}
