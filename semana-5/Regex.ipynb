{
 "cells": [
  {
   "cell_type": "markdown",
   "id": "c4ec1a1f",
   "metadata": {},
   "source": [
    "**REGEX** - regular expressions, solo y unicamente para strings\n",
    "\n",
    "**Common operators**\n",
    "    + : match the preceding character one or more times.\n",
    "\n",
    "For example ab+c matches “abc”, “abbc”, “abbbc” but it doesn’t match “ac”.\n",
    "\n",
    "    * : match the preceding character zero or more times or optional\n",
    "\n",
    "For example ab*c matches “abc”, “abbc”, “abbbc” and “ac”\n",
    "\n",
    "    ? : indicates zero or one occurences of the preceding element.\n",
    "\n",
    "For example, colou?r matches both \"color\" and \"colour\".\n",
    "\n",
    "    . : matches any single character.\n",
    "\n",
    "    For example a.c matches “abc”, “adc”, “aec” etc.\n",
    "\n",
    "If we wanted to match multiple characters before the letter “c”, we would just use the star * from above like this: a.*c and this would match “abdefghc”.\n",
    "\n",
    "    ^ : matches the starting position of any string\n",
    "\n",
    "For example ^b matches bat, ball, basketball etc.\n",
    "\n",
    "    $ : matches the ending position of any string\n",
    "\n",
    "For example $t matches hat, cat etc."
   ]
  },
  {
   "cell_type": "markdown",
   "id": "02bfc2d0",
   "metadata": {},
   "source": [
    "**Syntaxis**\n",
    "\n",
    "    \\w - todas las letras\n",
    "    \\d - todos los numeros\n",
    "    \\s - captura un espacio\n",
    "    \\n - captura salto de linea\n",
    "    \\W - cualquier cosa que no sea una letra - simbolos\n",
    "    \\D - cualquier cosa que no sea un digito \n",
    "    \\S - algo que no sea un espacio"
   ]
  },
  {
   "cell_type": "markdown",
   "id": "f6147f4a",
   "metadata": {},
   "source": [
    "#respuestas de los ejercicios \n",
    "\n",
    "    1 - \\w\n",
    "    2 - \\d+\n",
    "    3 - \\W\n",
    "    4 - [cmf]an tambien funciona\n",
    "    5 - [^b]og\n",
    "    6 - [A-C]\\w+\n",
    "    7 - zz+ - \\wazz+\\up\n",
    "    8 - aa+ - a.*c\n",
    "    9 - \\d\n",
    "    9 - \\s\n",
    "    10 - ^M\n",
    "    11 - ^(file.+)\\.(pdf)\n",
    "    12 - (\\w+\\s(\\d+))\n",
    "    13 - (\\d+)x(\\d+) - preguntar a Ana si la \"x\" sirve de separador en general o solo este ejemplo\n",
    "    14 - cats|dogs\n",
    "    15 - \\W - ^T.*\\.$"
   ]
  },
  {
   "cell_type": "markdown",
   "id": "3ff5f15e",
   "metadata": {},
   "source": [
    "**Regex with Python**"
   ]
  },
  {
   "cell_type": "code",
   "execution_count": 1,
   "id": "346aa150",
   "metadata": {},
   "outputs": [],
   "source": [
    "import re\n",
    "import pandas as pd\n",
    "import numpy as np"
   ]
  },
  {
   "cell_type": "markdown",
   "id": "93918f93",
   "metadata": {},
   "source": [
    "**Principal Functions:**\n",
    "\n",
    "    sub : replaces one or many matches with a string.\n",
    "    split : returns a list where the string has been split at each match.\n",
    "    findall : returns a list containing all matches.\n",
    "    search : returns a Match object if there is a match anywhere in the string.\n",
    "    match : search the regular expression pattern and return the first occurrence."
   ]
  },
  {
   "cell_type": "markdown",
   "id": "25c8d2b2",
   "metadata": {},
   "source": [
    "**SUB**"
   ]
  },
  {
   "cell_type": "code",
   "execution_count": 2,
   "id": "a80d89ea",
   "metadata": {},
   "outputs": [
    {
     "data": {
      "text/plain": [
       "'C++ is th9 b9st languag9. C++ rocks!'"
      ]
     },
     "execution_count": 2,
     "metadata": {},
     "output_type": "execute_result"
    }
   ],
   "source": [
    "txt = \"C++ is the best language. C++ rocks!\"\n",
    "\n",
    "x = re.sub('e','9',txt)\n",
    "x"
   ]
  },
  {
   "cell_type": "code",
   "execution_count": 3,
   "id": "c30518af",
   "metadata": {},
   "outputs": [
    {
     "data": {
      "text/plain": [
       "'C++ is th9 b9st language. C++ rocks!'"
      ]
     },
     "execution_count": 3,
     "metadata": {},
     "output_type": "execute_result"
    }
   ],
   "source": [
    "#2 first ocurrences\n",
    "\n",
    "y = re.sub('e','9',txt, 2)\n",
    "y"
   ]
  },
  {
   "cell_type": "code",
   "execution_count": 4,
   "id": "94fea4a4",
   "metadata": {},
   "outputs": [
    {
     "data": {
      "text/plain": [
       "'Python is the best language. Python rocks!'"
      ]
     },
     "execution_count": 4,
     "metadata": {},
     "output_type": "execute_result"
    }
   ],
   "source": [
    "z = re.sub('C\\+\\+', 'Python', txt)\n",
    "z"
   ]
  },
  {
   "cell_type": "markdown",
   "id": "42a341fc",
   "metadata": {},
   "source": [
    "**SPLIT**"
   ]
  },
  {
   "cell_type": "code",
   "execution_count": 5,
   "id": "963b8fbc",
   "metadata": {},
   "outputs": [
    {
     "data": {
      "text/plain": [
       "['one', 'two', 'three', 'four']"
      ]
     },
     "execution_count": 5,
     "metadata": {},
     "output_type": "execute_result"
    }
   ],
   "source": [
    "s_nums = 'one1two22three333four'\n",
    "numbers = re.split(\"\\d+\", s_nums)\n",
    "numbers"
   ]
  },
  {
   "cell_type": "code",
   "execution_count": 6,
   "id": "621585bc",
   "metadata": {},
   "outputs": [
    {
     "data": {
      "text/plain": [
       "['one', 'two', 'three333four']"
      ]
     },
     "execution_count": 6,
     "metadata": {},
     "output_type": "execute_result"
    }
   ],
   "source": [
    "#par de splits\n",
    "\n",
    "number3 = re.split('\\d+',s_nums,2)\n",
    "number3"
   ]
  },
  {
   "cell_type": "code",
   "execution_count": 7,
   "id": "04fca64d",
   "metadata": {},
   "outputs": [
    {
     "data": {
      "text/plain": [
       "['one', 'two', 'three', 'four']"
      ]
     },
     "execution_count": 7,
     "metadata": {},
     "output_type": "execute_result"
    }
   ],
   "source": [
    "s_marks = 'one-two+three#four'\n",
    "marks = re.split('\\W',s_marks) #si es caracter especial lo tenemos que escapar siembre [-\\+#]\n",
    "marks"
   ]
  },
  {
   "cell_type": "markdown",
   "id": "9dcf5f12",
   "metadata": {},
   "source": [
    "**FINDALL**"
   ]
  },
  {
   "cell_type": "code",
   "execution_count": 8,
   "id": "d749434a",
   "metadata": {},
   "outputs": [
    {
     "data": {
      "text/plain": [
       "['123456789', '987654321']"
      ]
     },
     "execution_count": 8,
     "metadata": {},
     "output_type": "execute_result"
    }
   ],
   "source": [
    "string = \"\"\"Hello my Number is 123456789 and \n",
    "             my friend's number is 987654321\"\"\"  \n",
    "\n",
    "digitos = re.findall(\"\\d+\", string)\n",
    "digitos"
   ]
  },
  {
   "cell_type": "code",
   "execution_count": 9,
   "id": "ae72d07b",
   "metadata": {},
   "outputs": [
    {
     "data": {
      "text/plain": [
       "['programming']"
      ]
     },
     "execution_count": 9,
     "metadata": {},
     "output_type": "execute_result"
    }
   ],
   "source": [
    "target_string = \"Jessa is a Python developer. She also gives Python programming training\"\n",
    "palabras = re.findall('(p\\w+g)', target_string)\n",
    "palabras"
   ]
  },
  {
   "cell_type": "markdown",
   "id": "b2bb25e3",
   "metadata": {},
   "source": [
    "**MATCH** - Solo la primera !"
   ]
  },
  {
   "cell_type": "code",
   "execution_count": 10,
   "id": "95a1da98",
   "metadata": {},
   "outputs": [],
   "source": [
    "String1 ='''Regex! We are learning regex !!!\n",
    "         regex is very useful for string matching.\n",
    "          It is fast too.'''\n",
    "\n",
    "String2 ='''We are learning !!!\n",
    "         regex is very useful for string matching.\n",
    "          It is fast too.'''"
   ]
  },
  {
   "cell_type": "code",
   "execution_count": 11,
   "id": "2e99dc4e",
   "metadata": {},
   "outputs": [
    {
     "data": {
      "text/plain": [
       "<re.Match object; span=(0, 5), match='Regex'>"
      ]
     },
     "execution_count": 11,
     "metadata": {},
     "output_type": "execute_result"
    }
   ],
   "source": [
    "pat = re.match('[R|r]\\w+',String1)\n",
    "pat"
   ]
  },
  {
   "cell_type": "code",
   "execution_count": 12,
   "id": "7177a310",
   "metadata": {},
   "outputs": [
    {
     "data": {
      "text/plain": [
       "(0, 5)"
      ]
     },
     "execution_count": 12,
     "metadata": {},
     "output_type": "execute_result"
    }
   ],
   "source": [
    "pat.span()"
   ]
  },
  {
   "cell_type": "code",
   "execution_count": 13,
   "id": "2bed6388",
   "metadata": {},
   "outputs": [
    {
     "data": {
      "text/plain": [
       "'Regex'"
      ]
     },
     "execution_count": 13,
     "metadata": {},
     "output_type": "execute_result"
    }
   ],
   "source": [
    "pat.group()"
   ]
  },
  {
   "cell_type": "markdown",
   "id": "f93e0080",
   "metadata": {},
   "source": [
    "**SEARCH** - hace el primer match"
   ]
  },
  {
   "cell_type": "code",
   "execution_count": 14,
   "id": "d4061963",
   "metadata": {},
   "outputs": [
    {
     "data": {
      "text/plain": [
       "<re.Match object; span=(0, 19), match='Alice@mycompany.com'>"
      ]
     },
     "execution_count": 14,
     "metadata": {},
     "output_type": "execute_result"
    }
   ],
   "source": [
    "email = \"Alice@mycompany.com Hi my name is Alice and my email is Alice@mycompany.com  hola@mycompany.com\" \n",
    "t = re.search(\"\\w+@\\w+\\.\\w+\", email)\n",
    "t"
   ]
  },
  {
   "cell_type": "code",
   "execution_count": 15,
   "id": "f9348301",
   "metadata": {},
   "outputs": [
    {
     "data": {
      "text/plain": [
       "'Alice@mycompany.com'"
      ]
     },
     "execution_count": 15,
     "metadata": {},
     "output_type": "execute_result"
    }
   ],
   "source": [
    "t.group()"
   ]
  },
  {
   "cell_type": "markdown",
   "id": "ab7691ae",
   "metadata": {},
   "source": [
    "**REGEX on PANDAS**"
   ]
  },
  {
   "cell_type": "code",
   "execution_count": 16,
   "id": "ec75ad79",
   "metadata": {},
   "outputs": [],
   "source": [
    "# vamos a coger uno de los emails y sobre este trabajaremos\n",
    "\n",
    "email = '''\n",
    "Thu Oct 31 08:11:39 2002\n",
    "Return-Path: <bensul2004nng@spinfinder.com>\n",
    "X-Sieve: cmu-sieve 2.0\n",
    "Return-Path: <bensul2004nng@spinfinder.com>\n",
    "Message-Id: <200210311310.g9VDANt24674@bloodwork.mr.itd.UM>\n",
    "From: \"Mr. Ben Suleman\" <bensul2004nng@spinfinder.com>\n",
    "Date: Thu, 31 Oct 2002 05:10:00\n",
    "To: R@M\n",
    "Subject: URGENT ASSISTANCE /RELATIONSHIP (P)\n",
    "MIME-Version: 1.0\n",
    "Content-Type: text/plain;charset=\"iso-8859-1\"\n",
    "Content-Transfer-Encoding: 7bit\n",
    "Status: O\n",
    "\n",
    "Dear Friend,\n",
    "\n",
    "I am Mr. Ben Suleman a custom officer and work as Assistant controller of the Customs and Excise department Of the Federal Ministry of Internal Affairs stationed at the Murtala Mohammed International Airport, Ikeja, Lagos-Nigeria.\n",
    "\n",
    "After the sudden death of the former Head of state of Nigeria General Sanni Abacha on June 8th 1998 his aides and immediate members of his family were arrested while trying to escape from Nigeria in a Chartered jet to Saudi Arabia with 6 trunk boxes Marked \"Diplomatic Baggage\". Acting on a tip-off as they attempted to board the Air Craft,my officials carried out a thorough search on the air craft and discovered that the 6 trunk boxes contained foreign currencies amounting to US$197,570,000.00(One Hundred and  Ninety-Seven Million Five Hundred Seventy Thousand United States Dollars).\n",
    "\n",
    "I declared only (5) five boxes to the government and withheld one (1) in my custody containing the sum of (US$30,000,000.00) Thirty Million United States Dollars Only, which has been disguised to prevent their being discovered during transportation process.Due to several media reports on the late head of state about all the money him and his co-government officials stole from our government treasury amounting\n",
    "to US$55 Billion Dollars (ref:ngrguardiannews.com) of July 2nd 1999. Even the London times of July 1998 reported that General Abacha has over US$3.Billion dollars in one account overseas. We decided to conceal this one (1)box till the situation is calm and quite on the issue. The box was thus deposited with a security company here in Nigeria and tagged as \"Precious Stones and Jewellry\" in other that its\n",
    "content will not be discovered. Now that all is calm, we (myself and two of my colleagues in the operations team) are now ready to move this box out of the country through a diplomatic arrangement which is the safest means. \n",
    "\n",
    "However as government officials the Civil Service Code of Conduct does not allow us by law to operate any foreign account or own foreign investment and the amount of money that can be found in our account\n",
    "cannot be more than our salary on the average, thus our handicapp and our need for your assistance to help collect and keep safely in your account this money.\n",
    "\n",
    "Therefore we want you to assist us in moving this money out of Nigeria. We shall definitely compensate you handsomely for the assistance. We can do this by instructing the Security Company here in Nigeria to\n",
    "move the consignment to their affiliate branch office outside Nigeria through diplomatic means and the consignment will be termed as Precious Stones and Jewelleries\" which you bought during your visit to Nigeria and is being transfered to your country from here for safe keeping. Then we can arrange to meet at the destination country to take the delivery of the consignment. You will thereafter open an account there and lodge the Money there and gradually instruct remittance to your Country. \n",
    "\n",
    "This business is 100% risk free for you so please treat this matter with utmost confidentiality .If you indicate your interest to assist us please just e-mail me for more Explanation on how we plan to execute the transaction.\n",
    "\n",
    "Expecting your response urgently.\n",
    "\n",
    "Best regards,\n",
    "\n",
    "Mr. Ben Suleman\n",
    "\n",
    "'''"
   ]
  },
  {
   "cell_type": "code",
   "execution_count": 17,
   "id": "88744c02",
   "metadata": {},
   "outputs": [],
   "source": [
    "email_info = {}"
   ]
  },
  {
   "cell_type": "code",
   "execution_count": 18,
   "id": "e9ce8b28",
   "metadata": {},
   "outputs": [
    {
     "data": {
      "text/plain": [
       "['From: \"Mr. Ben Suleman\" <bensul2004nng@spinfinder.com']"
      ]
     },
     "execution_count": 18,
     "metadata": {},
     "output_type": "execute_result"
    }
   ],
   "source": [
    "info_sender = re.findall('From:.*\\.\\w+',email)\n",
    "info_sender"
   ]
  },
  {
   "cell_type": "code",
   "execution_count": 19,
   "id": "6c5bfa12",
   "metadata": {},
   "outputs": [],
   "source": [
    "patron_info_sender = '\\w+@\\w+\\.\\w+'"
   ]
  },
  {
   "cell_type": "code",
   "execution_count": 20,
   "id": "f7d687b5",
   "metadata": {},
   "outputs": [
    {
     "data": {
      "text/plain": [
       "['bensul2004nng@spinfinder.com']"
      ]
     },
     "execution_count": 20,
     "metadata": {},
     "output_type": "execute_result"
    }
   ],
   "source": [
    "from_ = re.findall(patron_info_sender, info_sender[0])\n",
    "from_"
   ]
  },
  {
   "cell_type": "code",
   "execution_count": 21,
   "id": "864735e9",
   "metadata": {},
   "outputs": [],
   "source": [
    "email_info['sender_email'] = []"
   ]
  },
  {
   "cell_type": "code",
   "execution_count": 22,
   "id": "0098cf34",
   "metadata": {},
   "outputs": [
    {
     "data": {
      "text/plain": [
       "{'sender_email': []}"
      ]
     },
     "execution_count": 22,
     "metadata": {},
     "output_type": "execute_result"
    }
   ],
   "source": [
    "email_info"
   ]
  },
  {
   "cell_type": "code",
   "execution_count": 23,
   "id": "63a905b3",
   "metadata": {},
   "outputs": [
    {
     "data": {
      "text/plain": [
       "{'sender_email': ['bensul2004nng@spinfinder.com']}"
      ]
     },
     "execution_count": 23,
     "metadata": {},
     "output_type": "execute_result"
    }
   ],
   "source": [
    "email_info['sender_email'].append(from_[0])\n",
    "email_info"
   ]
  },
  {
   "cell_type": "code",
   "execution_count": 24,
   "id": "673f516c",
   "metadata": {},
   "outputs": [
    {
     "data": {
      "text/html": [
       "<div>\n",
       "<style scoped>\n",
       "    .dataframe tbody tr th:only-of-type {\n",
       "        vertical-align: middle;\n",
       "    }\n",
       "\n",
       "    .dataframe tbody tr th {\n",
       "        vertical-align: top;\n",
       "    }\n",
       "\n",
       "    .dataframe thead th {\n",
       "        text-align: right;\n",
       "    }\n",
       "</style>\n",
       "<table border=\"1\" class=\"dataframe\">\n",
       "  <thead>\n",
       "    <tr style=\"text-align: right;\">\n",
       "      <th></th>\n",
       "      <th>sender_email</th>\n",
       "    </tr>\n",
       "  </thead>\n",
       "  <tbody>\n",
       "    <tr>\n",
       "      <th>0</th>\n",
       "      <td>bensul2004nng@spinfinder.com</td>\n",
       "    </tr>\n",
       "  </tbody>\n",
       "</table>\n",
       "</div>"
      ],
      "text/plain": [
       "                   sender_email\n",
       "0  bensul2004nng@spinfinder.com"
      ]
     },
     "execution_count": 24,
     "metadata": {},
     "output_type": "execute_result"
    }
   ],
   "source": [
    "pd.DataFrame(email_info)"
   ]
  },
  {
   "cell_type": "code",
   "execution_count": null,
   "id": "3f0d75dd",
   "metadata": {},
   "outputs": [],
   "source": []
  }
 ],
 "metadata": {
  "kernelspec": {
   "display_name": "Python 3 (ipykernel)",
   "language": "python",
   "name": "python3"
  },
  "language_info": {
   "codemirror_mode": {
    "name": "ipython",
    "version": 3
   },
   "file_extension": ".py",
   "mimetype": "text/x-python",
   "name": "python",
   "nbconvert_exporter": "python",
   "pygments_lexer": "ipython3",
   "version": "3.9.7"
  }
 },
 "nbformat": 4,
 "nbformat_minor": 5
}
