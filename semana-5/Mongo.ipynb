{
 "cells": [
  {
   "cell_type": "code",
   "execution_count": 1,
   "id": "d390dfb1",
   "metadata": {},
   "outputs": [],
   "source": [
    "import pandas as pd\n",
    "import numpy as np\n",
    "import pymongo\n",
    "cliente = pymongo.MongoClient()"
   ]
  },
  {
   "cell_type": "code",
   "execution_count": 2,
   "id": "db45ebcc",
   "metadata": {},
   "outputs": [
    {
     "data": {
      "text/plain": [
       "MongoClient(host=['localhost:27017'], document_class=dict, tz_aware=False, connect=True)"
      ]
     },
     "execution_count": 2,
     "metadata": {},
     "output_type": "execute_result"
    }
   ],
   "source": [
    "cliente"
   ]
  },
  {
   "cell_type": "code",
   "execution_count": 3,
   "id": "041645dd",
   "metadata": {},
   "outputs": [
    {
     "data": {
      "text/plain": [
       "['admin', 'alojamientos', 'config', 'ironhack', 'local']"
      ]
     },
     "execution_count": 3,
     "metadata": {},
     "output_type": "execute_result"
    }
   ],
   "source": [
    "#checa bases de dato\n",
    "\n",
    "cliente.list_database_names()"
   ]
  },
  {
   "cell_type": "code",
   "execution_count": 4,
   "id": "fa92f8ba",
   "metadata": {},
   "outputs": [],
   "source": [
    "#crear base de datos\n",
    "\n",
    "mydb = cliente['alojamientos']"
   ]
  },
  {
   "cell_type": "code",
   "execution_count": 5,
   "id": "86a4eb92",
   "metadata": {},
   "outputs": [],
   "source": [
    "#creamos una coleccion\n",
    "\n",
    "coleccion = mydb.detalles"
   ]
  },
  {
   "cell_type": "markdown",
   "id": "2d4ace76",
   "metadata": {},
   "source": [
    "**insertar datos en Mongo**"
   ]
  },
  {
   "cell_type": "code",
   "execution_count": 6,
   "id": "125d915d",
   "metadata": {},
   "outputs": [
    {
     "data": {
      "text/plain": [
       "<pymongo.results.InsertOneResult at 0x1d66c53af40>"
      ]
     },
     "execution_count": 6,
     "metadata": {},
     "output_type": "execute_result"
    }
   ],
   "source": [
    "#insert1\n",
    "\n",
    "dictio={'nombre':' Juan', 'edad':25}\n",
    "\n",
    "coleccion.insert_one(dictio)"
   ]
  },
  {
   "cell_type": "code",
   "execution_count": 7,
   "id": "67058207",
   "metadata": {},
   "outputs": [],
   "source": [
    "varios = [{\"nombre\": \"Maria\", \"apellidos\": \"López\", \"edad\": 43, \n",
    "           \"dirección\": \"Calle de Arenas\", \"provincia\": \"Madrid\"},\n",
    "          \n",
    "          {'nombre':\"Lorenzo\", 'apellidos': \"Hernández\", \"edad\": 23, \n",
    "           \"direccion\": \"Calle de Arenas de San Pedro\", \"provicia\": \"madrid\" }]"
   ]
  },
  {
   "cell_type": "code",
   "execution_count": 8,
   "id": "87a24495",
   "metadata": {},
   "outputs": [
    {
     "data": {
      "text/plain": [
       "<pymongo.results.InsertManyResult at 0x1d66c511c80>"
      ]
     },
     "execution_count": 8,
     "metadata": {},
     "output_type": "execute_result"
    }
   ],
   "source": [
    "coleccion.insert_many(varios)"
   ]
  },
  {
   "cell_type": "code",
   "execution_count": 9,
   "id": "c55d0fc8",
   "metadata": {},
   "outputs": [],
   "source": [
    "pd.options.display.max_columns = None"
   ]
  },
  {
   "cell_type": "code",
   "execution_count": 10,
   "id": "18578b41",
   "metadata": {},
   "outputs": [
    {
     "data": {
      "text/html": [
       "<div>\n",
       "<style scoped>\n",
       "    .dataframe tbody tr th:only-of-type {\n",
       "        vertical-align: middle;\n",
       "    }\n",
       "\n",
       "    .dataframe tbody tr th {\n",
       "        vertical-align: top;\n",
       "    }\n",
       "\n",
       "    .dataframe thead th {\n",
       "        text-align: right;\n",
       "    }\n",
       "</style>\n",
       "<table border=\"1\" class=\"dataframe\">\n",
       "  <thead>\n",
       "    <tr style=\"text-align: right;\">\n",
       "      <th></th>\n",
       "      <th>fid</th>\n",
       "      <th>etiqueta</th>\n",
       "      <th>granularidad</th>\n",
       "      <th>cod_tipocat</th>\n",
       "      <th>cod_tipo</th>\n",
       "      <th>nom_tipo</th>\n",
       "      <th>cod_categor</th>\n",
       "      <th>nom_categor</th>\n",
       "      <th>gcd_isla</th>\n",
       "      <th>nom_isla</th>\n",
       "      <th>gcd_entitur</th>\n",
       "      <th>nom_entitur</th>\n",
       "      <th>gcd_nucltur</th>\n",
       "      <th>nom_nucltur</th>\n",
       "      <th>gcd_municipio</th>\n",
       "      <th>nom_municipio</th>\n",
       "      <th>direccion</th>\n",
       "      <th>prc_habita</th>\n",
       "      <th>prc_plazas</th>\n",
       "      <th>longitud</th>\n",
       "      <th>latitud</th>\n",
       "      <th>geohash</th>\n",
       "      <th>utm_x</th>\n",
       "      <th>utm_y</th>\n",
       "    </tr>\n",
       "  </thead>\n",
       "  <tbody>\n",
       "    <tr>\n",
       "      <th>0</th>\n",
       "      <td>0</td>\n",
       "      <td>HOTEL RIU CLUB PARAISO LANZAROTE RESORT</td>\n",
       "      <td>ALOJAMIENTOS</td>\n",
       "      <td>H4</td>\n",
       "      <td>5510_L1</td>\n",
       "      <td>Hotel</td>\n",
       "      <td>4</td>\n",
       "      <td>4 Estrellas</td>\n",
       "      <td>ES708</td>\n",
       "      <td>Lanzarote</td>\n",
       "      <td>ES708B2</td>\n",
       "      <td>Puerto del Carmen</td>\n",
       "      <td>ES708B23</td>\n",
       "      <td>Puerto del Carmen: Matagorda - Los Pocillos</td>\n",
       "      <td>35028</td>\n",
       "      <td>Tías</td>\n",
       "      <td>CALLE SUIZA , 4.PLAYA DE LOS POCILLOS</td>\n",
       "      <td>300 o más habitaciones</td>\n",
       "      <td>650 o más plazas</td>\n",
       "      <td>-13.639328</td>\n",
       "      <td>28.926763</td>\n",
       "      <td>etnk99unse</td>\n",
       "      <td>632629.37</td>\n",
       "      <td>3200633.49</td>\n",
       "    </tr>\n",
       "    <tr>\n",
       "      <th>1</th>\n",
       "      <td>1</td>\n",
       "      <td>OCCIDENTAL LANZAROTE PLAYA</td>\n",
       "      <td>ALOJAMIENTOS</td>\n",
       "      <td>H4</td>\n",
       "      <td>5510_L1</td>\n",
       "      <td>Hotel</td>\n",
       "      <td>4</td>\n",
       "      <td>4 Estrellas</td>\n",
       "      <td>ES708</td>\n",
       "      <td>Lanzarote</td>\n",
       "      <td>ES708B1</td>\n",
       "      <td>Costa Teguise</td>\n",
       "      <td>ES708B12</td>\n",
       "      <td>Costa Teguise: Litoral</td>\n",
       "      <td>35024</td>\n",
       "      <td>Teguise</td>\n",
       "      <td>AVENIDA DEL MAR, 6</td>\n",
       "      <td>300 o más habitaciones</td>\n",
       "      <td>650 o más plazas</td>\n",
       "      <td>-13.509783</td>\n",
       "      <td>28.987312</td>\n",
       "      <td>etnkusfrr4</td>\n",
       "      <td>645173.54</td>\n",
       "      <td>3207494.99</td>\n",
       "    </tr>\n",
       "  </tbody>\n",
       "</table>\n",
       "</div>"
      ],
      "text/plain": [
       "   fid                                 etiqueta  granularidad cod_tipocat  \\\n",
       "0    0  HOTEL RIU CLUB PARAISO LANZAROTE RESORT  ALOJAMIENTOS          H4   \n",
       "1    1               OCCIDENTAL LANZAROTE PLAYA  ALOJAMIENTOS          H4   \n",
       "\n",
       "  cod_tipo nom_tipo  cod_categor  nom_categor gcd_isla   nom_isla gcd_entitur  \\\n",
       "0  5510_L1    Hotel            4  4 Estrellas    ES708  Lanzarote     ES708B2   \n",
       "1  5510_L1    Hotel            4  4 Estrellas    ES708  Lanzarote     ES708B1   \n",
       "\n",
       "         nom_entitur gcd_nucltur                                  nom_nucltur  \\\n",
       "0  Puerto del Carmen    ES708B23  Puerto del Carmen: Matagorda - Los Pocillos   \n",
       "1      Costa Teguise    ES708B12                       Costa Teguise: Litoral   \n",
       "\n",
       "   gcd_municipio nom_municipio                              direccion  \\\n",
       "0          35028          Tías  CALLE SUIZA , 4.PLAYA DE LOS POCILLOS   \n",
       "1          35024       Teguise                     AVENIDA DEL MAR, 6   \n",
       "\n",
       "               prc_habita        prc_plazas   longitud    latitud     geohash  \\\n",
       "0  300 o más habitaciones  650 o más plazas -13.639328  28.926763  etnk99unse   \n",
       "1  300 o más habitaciones  650 o más plazas -13.509783  28.987312  etnkusfrr4   \n",
       "\n",
       "       utm_x       utm_y  \n",
       "0  632629.37  3200633.49  \n",
       "1  645173.54  3207494.99  "
      ]
     },
     "execution_count": 10,
     "metadata": {},
     "output_type": "execute_result"
    }
   ],
   "source": [
    "df = pd.read_csv(\"data/alojamientos.csv\")\n",
    "df.head(2)"
   ]
  },
  {
   "cell_type": "code",
   "execution_count": 11,
   "id": "e3ed4859",
   "metadata": {},
   "outputs": [
    {
     "data": {
      "text/plain": [
       "<pymongo.results.InsertManyResult at 0x1d66c5d9500>"
      ]
     },
     "execution_count": 11,
     "metadata": {},
     "output_type": "execute_result"
    }
   ],
   "source": [
    "coleccion.insert_many(df.to_dict(\"records\"))"
   ]
  },
  {
   "cell_type": "markdown",
   "id": "bc484ec8",
   "metadata": {},
   "source": [
    "#como meter datos a partir de interfaz mongo\n",
    "\n",
    "**FIND**"
   ]
  },
  {
   "cell_type": "code",
   "execution_count": 12,
   "id": "f4acbe96",
   "metadata": {},
   "outputs": [
    {
     "data": {
      "text/plain": [
       "<pymongo.cursor.Cursor at 0x1d66c552250>"
      ]
     },
     "execution_count": 12,
     "metadata": {},
     "output_type": "execute_result"
    }
   ],
   "source": [
    "coleccion.find()"
   ]
  },
  {
   "cell_type": "code",
   "execution_count": 13,
   "id": "471bc3ab",
   "metadata": {},
   "outputs": [
    {
     "data": {
      "text/plain": [
       "{'_id': ObjectId('6204023ebf5e0f0abc417da5'), 'nombre': ' Juan', 'edad': 25}"
      ]
     },
     "execution_count": 13,
     "metadata": {},
     "output_type": "execute_result"
    }
   ],
   "source": [
    "list(coleccion.find())[0] #indice del primero, para que no se imprima todo. "
   ]
  },
  {
   "cell_type": "code",
   "execution_count": 14,
   "id": "7998d728",
   "metadata": {},
   "outputs": [
    {
     "data": {
      "text/plain": [
       "['El Hierro',\n",
       " 'Fuerteventura',\n",
       " 'Gran Canaria',\n",
       " 'La Gomera',\n",
       " 'La Palma',\n",
       " 'Lanzarote',\n",
       " 'Tenerife']"
      ]
     },
     "execution_count": 14,
     "metadata": {},
     "output_type": "execute_result"
    }
   ],
   "source": [
    "#valores unicos\n",
    "\n",
    "coleccion.distinct('nom_isla')"
   ]
  },
  {
   "cell_type": "code",
   "execution_count": 15,
   "id": "7e5db8d7",
   "metadata": {},
   "outputs": [
    {
     "data": {
      "text/plain": [
       "{'_id': ObjectId('62040504bf5e0f0abc417de7'),\n",
       " 'fid': 63,\n",
       " 'etiqueta': 'PENSION CARIBE',\n",
       " 'granularidad': 'ALOJAMIENTOS',\n",
       " 'cod_tipocat': 'H1',\n",
       " 'cod_tipo': '5510_L1',\n",
       " 'nom_tipo': 'Hotel',\n",
       " 'cod_categor': 1,\n",
       " 'nom_categor': '1 Estrella',\n",
       " 'gcd_isla': 'ES703',\n",
       " 'nom_isla': 'El Hierro',\n",
       " 'gcd_entitur': 'ES700B9',\n",
       " 'nom_entitur': 'Islas de Canarias sin entidades turísticas',\n",
       " 'gcd_nucltur': 'ES700B99',\n",
       " 'nom_nucltur': 'Islas de Canarias sin núcleos turísticos',\n",
       " 'gcd_municipio': 38013,\n",
       " 'nom_municipio': 'Frontera',\n",
       " 'direccion': 'PUNTA GRANDE, 1',\n",
       " 'prc_habita': 'Menor de 50 habitaciones',\n",
       " 'prc_plazas': 'Menor de 100 plazas',\n",
       " 'longitud': -17.99066516,\n",
       " 'latitud': 27.796579285,\n",
       " 'geohash': 'esgnns5wg1',\n",
       " 'utm_x': 205323.77,\n",
       " 'utm_y': 3078257.25}"
      ]
     },
     "execution_count": 15,
     "metadata": {},
     "output_type": "execute_result"
    }
   ],
   "source": [
    "list(coleccion.find({'nom_isla':'El Hierro'}))[0] #documento entero de un elemento de la isla. "
   ]
  },
  {
   "cell_type": "markdown",
   "id": "1f33d2fa",
   "metadata": {},
   "source": [
    "Búsqueda de campos de tipo numérico\n",
    "Para hacer búsquedas con valores númericos tendremos que usar los operadores de comparación, que en Mongo son un poco diferentes:\n",
    "\n",
    "    $eq: igual a\n",
    "    $gt: mayor que\n",
    "    $gte: mayor o igual que\n",
    "    $lt: menor que\n",
    "    $lte: menor o igual que\n",
    "    $in: dentro de\n",
    "    $nin: no dentro de\n",
    "    $ne: distinto de\n",
    "    1️⃣ $eq: igual a"
   ]
  },
  {
   "cell_type": "code",
   "execution_count": 16,
   "id": "20a33bf2",
   "metadata": {},
   "outputs": [
    {
     "data": {
      "text/plain": [
       "{'_id': ObjectId('62040504bf5e0f0abc417dad'),\n",
       " 'fid': 5,\n",
       " 'etiqueta': 'HOTEL PLAYA SUR TENERIFE',\n",
       " 'granularidad': 'ALOJAMIENTOS',\n",
       " 'cod_tipocat': 'H3',\n",
       " 'cod_tipo': '5510_L1',\n",
       " 'nom_tipo': 'Hotel',\n",
       " 'cod_categor': 3,\n",
       " 'nom_categor': '3 Estrellas',\n",
       " 'gcd_isla': 'ES709',\n",
       " 'nom_isla': 'Tenerife',\n",
       " 'gcd_entitur': 'ES709B3',\n",
       " 'nom_entitur': 'Abona',\n",
       " 'gcd_nucltur': 'ES709B32',\n",
       " 'nom_nucltur': 'El Médano',\n",
       " 'gcd_municipio': 38017,\n",
       " 'nom_municipio': 'Granadilla de Abona',\n",
       " 'direccion': 'PLAYA DEL MÉDANO, S/N',\n",
       " 'prc_habita': 'De 50 a 149 habitaciones',\n",
       " 'prc_plazas': 'De 100 a 349 plazas',\n",
       " 'longitud': -16.54282447,\n",
       " 'latitud': 28.041107416,\n",
       " 'geohash': 'esupx89zk3',\n",
       " 'utm_x': 348352.91,\n",
       " 'utm_y': 3102716.04}"
      ]
     },
     "execution_count": 16,
     "metadata": {},
     "output_type": "execute_result"
    }
   ],
   "source": [
    "list(coleccion.find({'cod_categor':{'$eq':3}}))[1]"
   ]
  },
  {
   "cell_type": "code",
   "execution_count": 17,
   "id": "8810b818",
   "metadata": {},
   "outputs": [
    {
     "data": {
      "text/html": [
       "<div>\n",
       "<style scoped>\n",
       "    .dataframe tbody tr th:only-of-type {\n",
       "        vertical-align: middle;\n",
       "    }\n",
       "\n",
       "    .dataframe tbody tr th {\n",
       "        vertical-align: top;\n",
       "    }\n",
       "\n",
       "    .dataframe thead th {\n",
       "        text-align: right;\n",
       "    }\n",
       "</style>\n",
       "<table border=\"1\" class=\"dataframe\">\n",
       "  <thead>\n",
       "    <tr style=\"text-align: right;\">\n",
       "      <th></th>\n",
       "      <th>_id</th>\n",
       "      <th>fid</th>\n",
       "      <th>etiqueta</th>\n",
       "      <th>granularidad</th>\n",
       "      <th>cod_tipocat</th>\n",
       "      <th>cod_tipo</th>\n",
       "      <th>nom_tipo</th>\n",
       "      <th>cod_categor</th>\n",
       "      <th>nom_categor</th>\n",
       "      <th>gcd_isla</th>\n",
       "      <th>nom_isla</th>\n",
       "      <th>gcd_entitur</th>\n",
       "      <th>nom_entitur</th>\n",
       "      <th>gcd_nucltur</th>\n",
       "      <th>nom_nucltur</th>\n",
       "      <th>gcd_municipio</th>\n",
       "      <th>nom_municipio</th>\n",
       "      <th>direccion</th>\n",
       "      <th>prc_habita</th>\n",
       "      <th>prc_plazas</th>\n",
       "      <th>longitud</th>\n",
       "      <th>latitud</th>\n",
       "      <th>geohash</th>\n",
       "      <th>utm_x</th>\n",
       "      <th>utm_y</th>\n",
       "    </tr>\n",
       "  </thead>\n",
       "  <tbody>\n",
       "    <tr>\n",
       "      <th>0</th>\n",
       "      <td>62040504bf5e0f0abc417da8</td>\n",
       "      <td>0</td>\n",
       "      <td>HOTEL RIU CLUB PARAISO LANZAROTE RESORT</td>\n",
       "      <td>ALOJAMIENTOS</td>\n",
       "      <td>H4</td>\n",
       "      <td>5510_L1</td>\n",
       "      <td>Hotel</td>\n",
       "      <td>4</td>\n",
       "      <td>4 Estrellas</td>\n",
       "      <td>ES708</td>\n",
       "      <td>Lanzarote</td>\n",
       "      <td>ES708B2</td>\n",
       "      <td>Puerto del Carmen</td>\n",
       "      <td>ES708B23</td>\n",
       "      <td>Puerto del Carmen: Matagorda - Los Pocillos</td>\n",
       "      <td>35028</td>\n",
       "      <td>Tías</td>\n",
       "      <td>CALLE SUIZA , 4.PLAYA DE LOS POCILLOS</td>\n",
       "      <td>300 o más habitaciones</td>\n",
       "      <td>650 o más plazas</td>\n",
       "      <td>-13.639328</td>\n",
       "      <td>28.926763</td>\n",
       "      <td>etnk99unse</td>\n",
       "      <td>632629.37</td>\n",
       "      <td>3200633.49</td>\n",
       "    </tr>\n",
       "    <tr>\n",
       "      <th>1</th>\n",
       "      <td>62040504bf5e0f0abc417da9</td>\n",
       "      <td>1</td>\n",
       "      <td>OCCIDENTAL LANZAROTE PLAYA</td>\n",
       "      <td>ALOJAMIENTOS</td>\n",
       "      <td>H4</td>\n",
       "      <td>5510_L1</td>\n",
       "      <td>Hotel</td>\n",
       "      <td>4</td>\n",
       "      <td>4 Estrellas</td>\n",
       "      <td>ES708</td>\n",
       "      <td>Lanzarote</td>\n",
       "      <td>ES708B1</td>\n",
       "      <td>Costa Teguise</td>\n",
       "      <td>ES708B12</td>\n",
       "      <td>Costa Teguise: Litoral</td>\n",
       "      <td>35024</td>\n",
       "      <td>Teguise</td>\n",
       "      <td>AVENIDA DEL MAR, 6</td>\n",
       "      <td>300 o más habitaciones</td>\n",
       "      <td>650 o más plazas</td>\n",
       "      <td>-13.509783</td>\n",
       "      <td>28.987312</td>\n",
       "      <td>etnkusfrr4</td>\n",
       "      <td>645173.54</td>\n",
       "      <td>3207494.99</td>\n",
       "    </tr>\n",
       "  </tbody>\n",
       "</table>\n",
       "</div>"
      ],
      "text/plain": [
       "                        _id  fid                                 etiqueta  \\\n",
       "0  62040504bf5e0f0abc417da8    0  HOTEL RIU CLUB PARAISO LANZAROTE RESORT   \n",
       "1  62040504bf5e0f0abc417da9    1               OCCIDENTAL LANZAROTE PLAYA   \n",
       "\n",
       "   granularidad cod_tipocat cod_tipo nom_tipo  cod_categor  nom_categor  \\\n",
       "0  ALOJAMIENTOS          H4  5510_L1    Hotel            4  4 Estrellas   \n",
       "1  ALOJAMIENTOS          H4  5510_L1    Hotel            4  4 Estrellas   \n",
       "\n",
       "  gcd_isla   nom_isla gcd_entitur        nom_entitur gcd_nucltur  \\\n",
       "0    ES708  Lanzarote     ES708B2  Puerto del Carmen    ES708B23   \n",
       "1    ES708  Lanzarote     ES708B1      Costa Teguise    ES708B12   \n",
       "\n",
       "                                   nom_nucltur  gcd_municipio nom_municipio  \\\n",
       "0  Puerto del Carmen: Matagorda - Los Pocillos          35028          Tías   \n",
       "1                       Costa Teguise: Litoral          35024       Teguise   \n",
       "\n",
       "                               direccion              prc_habita  \\\n",
       "0  CALLE SUIZA , 4.PLAYA DE LOS POCILLOS  300 o más habitaciones   \n",
       "1                     AVENIDA DEL MAR, 6  300 o más habitaciones   \n",
       "\n",
       "         prc_plazas   longitud    latitud     geohash      utm_x       utm_y  \n",
       "0  650 o más plazas -13.639328  28.926763  etnk99unse  632629.37  3200633.49  \n",
       "1  650 o más plazas -13.509783  28.987312  etnkusfrr4  645173.54  3207494.99  "
      ]
     },
     "execution_count": 17,
     "metadata": {},
     "output_type": "execute_result"
    }
   ],
   "source": [
    "mayor = pd.DataFrame(coleccion.find({'cod_categor': {\"$gt\": 3}}))\n",
    "mayor.head(2)"
   ]
  },
  {
   "cell_type": "code",
   "execution_count": 18,
   "id": "e2e09d84",
   "metadata": {},
   "outputs": [
    {
     "data": {
      "text/html": [
       "<div>\n",
       "<style scoped>\n",
       "    .dataframe tbody tr th:only-of-type {\n",
       "        vertical-align: middle;\n",
       "    }\n",
       "\n",
       "    .dataframe tbody tr th {\n",
       "        vertical-align: top;\n",
       "    }\n",
       "\n",
       "    .dataframe thead th {\n",
       "        text-align: right;\n",
       "    }\n",
       "</style>\n",
       "<table border=\"1\" class=\"dataframe\">\n",
       "  <thead>\n",
       "    <tr style=\"text-align: right;\">\n",
       "      <th></th>\n",
       "      <th>_id</th>\n",
       "      <th>fid</th>\n",
       "      <th>etiqueta</th>\n",
       "      <th>granularidad</th>\n",
       "      <th>cod_tipocat</th>\n",
       "      <th>cod_tipo</th>\n",
       "      <th>nom_tipo</th>\n",
       "      <th>cod_categor</th>\n",
       "      <th>nom_categor</th>\n",
       "      <th>gcd_isla</th>\n",
       "      <th>nom_isla</th>\n",
       "      <th>gcd_entitur</th>\n",
       "      <th>nom_entitur</th>\n",
       "      <th>gcd_nucltur</th>\n",
       "      <th>nom_nucltur</th>\n",
       "      <th>gcd_municipio</th>\n",
       "      <th>nom_municipio</th>\n",
       "      <th>direccion</th>\n",
       "      <th>prc_habita</th>\n",
       "      <th>prc_plazas</th>\n",
       "      <th>longitud</th>\n",
       "      <th>latitud</th>\n",
       "      <th>geohash</th>\n",
       "      <th>utm_x</th>\n",
       "      <th>utm_y</th>\n",
       "    </tr>\n",
       "  </thead>\n",
       "  <tbody>\n",
       "    <tr>\n",
       "      <th>0</th>\n",
       "      <td>62040504bf5e0f0abc417da8</td>\n",
       "      <td>0</td>\n",
       "      <td>HOTEL RIU CLUB PARAISO LANZAROTE RESORT</td>\n",
       "      <td>ALOJAMIENTOS</td>\n",
       "      <td>H4</td>\n",
       "      <td>5510_L1</td>\n",
       "      <td>Hotel</td>\n",
       "      <td>4</td>\n",
       "      <td>4 Estrellas</td>\n",
       "      <td>ES708</td>\n",
       "      <td>Lanzarote</td>\n",
       "      <td>ES708B2</td>\n",
       "      <td>Puerto del Carmen</td>\n",
       "      <td>ES708B23</td>\n",
       "      <td>Puerto del Carmen: Matagorda - Los Pocillos</td>\n",
       "      <td>35028</td>\n",
       "      <td>Tías</td>\n",
       "      <td>CALLE SUIZA , 4.PLAYA DE LOS POCILLOS</td>\n",
       "      <td>300 o más habitaciones</td>\n",
       "      <td>650 o más plazas</td>\n",
       "      <td>-13.639328</td>\n",
       "      <td>28.926763</td>\n",
       "      <td>etnk99unse</td>\n",
       "      <td>632629.37</td>\n",
       "      <td>3200633.49</td>\n",
       "    </tr>\n",
       "    <tr>\n",
       "      <th>1</th>\n",
       "      <td>62040504bf5e0f0abc417da9</td>\n",
       "      <td>1</td>\n",
       "      <td>OCCIDENTAL LANZAROTE PLAYA</td>\n",
       "      <td>ALOJAMIENTOS</td>\n",
       "      <td>H4</td>\n",
       "      <td>5510_L1</td>\n",
       "      <td>Hotel</td>\n",
       "      <td>4</td>\n",
       "      <td>4 Estrellas</td>\n",
       "      <td>ES708</td>\n",
       "      <td>Lanzarote</td>\n",
       "      <td>ES708B1</td>\n",
       "      <td>Costa Teguise</td>\n",
       "      <td>ES708B12</td>\n",
       "      <td>Costa Teguise: Litoral</td>\n",
       "      <td>35024</td>\n",
       "      <td>Teguise</td>\n",
       "      <td>AVENIDA DEL MAR, 6</td>\n",
       "      <td>300 o más habitaciones</td>\n",
       "      <td>650 o más plazas</td>\n",
       "      <td>-13.509783</td>\n",
       "      <td>28.987312</td>\n",
       "      <td>etnkusfrr4</td>\n",
       "      <td>645173.54</td>\n",
       "      <td>3207494.99</td>\n",
       "    </tr>\n",
       "  </tbody>\n",
       "</table>\n",
       "</div>"
      ],
      "text/plain": [
       "                        _id  fid                                 etiqueta  \\\n",
       "0  62040504bf5e0f0abc417da8    0  HOTEL RIU CLUB PARAISO LANZAROTE RESORT   \n",
       "1  62040504bf5e0f0abc417da9    1               OCCIDENTAL LANZAROTE PLAYA   \n",
       "\n",
       "   granularidad cod_tipocat cod_tipo nom_tipo  cod_categor  nom_categor  \\\n",
       "0  ALOJAMIENTOS          H4  5510_L1    Hotel            4  4 Estrellas   \n",
       "1  ALOJAMIENTOS          H4  5510_L1    Hotel            4  4 Estrellas   \n",
       "\n",
       "  gcd_isla   nom_isla gcd_entitur        nom_entitur gcd_nucltur  \\\n",
       "0    ES708  Lanzarote     ES708B2  Puerto del Carmen    ES708B23   \n",
       "1    ES708  Lanzarote     ES708B1      Costa Teguise    ES708B12   \n",
       "\n",
       "                                   nom_nucltur  gcd_municipio nom_municipio  \\\n",
       "0  Puerto del Carmen: Matagorda - Los Pocillos          35028          Tías   \n",
       "1                       Costa Teguise: Litoral          35024       Teguise   \n",
       "\n",
       "                               direccion              prc_habita  \\\n",
       "0  CALLE SUIZA , 4.PLAYA DE LOS POCILLOS  300 o más habitaciones   \n",
       "1                     AVENIDA DEL MAR, 6  300 o más habitaciones   \n",
       "\n",
       "         prc_plazas   longitud    latitud     geohash      utm_x       utm_y  \n",
       "0  650 o más plazas -13.639328  28.926763  etnk99unse  632629.37  3200633.49  \n",
       "1  650 o más plazas -13.509783  28.987312  etnkusfrr4  645173.54  3207494.99  "
      ]
     },
     "execution_count": 18,
     "metadata": {},
     "output_type": "execute_result"
    }
   ],
   "source": [
    "mayor = pd.DataFrame(coleccion.find({'cod_categor': {\"$gt\": 3}}))\n",
    "mayor.head(2)"
   ]
  },
  {
   "cell_type": "code",
   "execution_count": 19,
   "id": "ed57371f",
   "metadata": {},
   "outputs": [
    {
     "data": {
      "text/html": [
       "<div>\n",
       "<style scoped>\n",
       "    .dataframe tbody tr th:only-of-type {\n",
       "        vertical-align: middle;\n",
       "    }\n",
       "\n",
       "    .dataframe tbody tr th {\n",
       "        vertical-align: top;\n",
       "    }\n",
       "\n",
       "    .dataframe thead th {\n",
       "        text-align: right;\n",
       "    }\n",
       "</style>\n",
       "<table border=\"1\" class=\"dataframe\">\n",
       "  <thead>\n",
       "    <tr style=\"text-align: right;\">\n",
       "      <th></th>\n",
       "      <th>_id</th>\n",
       "      <th>fid</th>\n",
       "      <th>etiqueta</th>\n",
       "      <th>granularidad</th>\n",
       "      <th>cod_tipocat</th>\n",
       "      <th>cod_tipo</th>\n",
       "      <th>nom_tipo</th>\n",
       "      <th>cod_categor</th>\n",
       "      <th>nom_categor</th>\n",
       "      <th>gcd_isla</th>\n",
       "      <th>nom_isla</th>\n",
       "      <th>gcd_entitur</th>\n",
       "      <th>nom_entitur</th>\n",
       "      <th>gcd_nucltur</th>\n",
       "      <th>nom_nucltur</th>\n",
       "      <th>gcd_municipio</th>\n",
       "      <th>nom_municipio</th>\n",
       "      <th>direccion</th>\n",
       "      <th>prc_habita</th>\n",
       "      <th>prc_plazas</th>\n",
       "      <th>longitud</th>\n",
       "      <th>latitud</th>\n",
       "      <th>geohash</th>\n",
       "      <th>utm_x</th>\n",
       "      <th>utm_y</th>\n",
       "    </tr>\n",
       "  </thead>\n",
       "  <tbody>\n",
       "    <tr>\n",
       "      <th>0</th>\n",
       "      <td>62040504bf5e0f0abc417dae</td>\n",
       "      <td>6</td>\n",
       "      <td>PARADOR TURISMO LAS CAÑADAS DEL TEIDE</td>\n",
       "      <td>ALOJAMIENTOS</td>\n",
       "      <td>H2</td>\n",
       "      <td>5510_L1</td>\n",
       "      <td>Hotel</td>\n",
       "      <td>2</td>\n",
       "      <td>2 Estrellas</td>\n",
       "      <td>ES709</td>\n",
       "      <td>Tenerife</td>\n",
       "      <td>ES709B9</td>\n",
       "      <td>Resto de Tenerife</td>\n",
       "      <td>ES709B9</td>\n",
       "      <td>Resto de Tenerife</td>\n",
       "      <td>38026</td>\n",
       "      <td>La Orotava</td>\n",
       "      <td>CALLE LAS CAÑADAS DEL TEIDE</td>\n",
       "      <td>Menor de 50 habitaciones</td>\n",
       "      <td>Menor de 100 plazas</td>\n",
       "      <td>-16.627134</td>\n",
       "      <td>28.224400</td>\n",
       "      <td>eth0tdh7p9</td>\n",
       "      <td>340336.74</td>\n",
       "      <td>3123133.08</td>\n",
       "    </tr>\n",
       "    <tr>\n",
       "      <th>1</th>\n",
       "      <td>62040504bf5e0f0abc417daf</td>\n",
       "      <td>7</td>\n",
       "      <td>HOTEL SUN HOLIDAYS</td>\n",
       "      <td>ALOJAMIENTOS</td>\n",
       "      <td>H1</td>\n",
       "      <td>5510_L1</td>\n",
       "      <td>Hotel</td>\n",
       "      <td>1</td>\n",
       "      <td>1 Estrella</td>\n",
       "      <td>ES709</td>\n",
       "      <td>Tenerife</td>\n",
       "      <td>ES709B5</td>\n",
       "      <td>Puerto de la Cruz turístico</td>\n",
       "      <td>ES709B52</td>\n",
       "      <td>Conjunto Histórico</td>\n",
       "      <td>38028</td>\n",
       "      <td>Puerto de la Cruz</td>\n",
       "      <td>CALLE LA PEÑITA, 6</td>\n",
       "      <td>Menor de 50 habitaciones</td>\n",
       "      <td>Menor de 100 plazas</td>\n",
       "      <td>-16.553755</td>\n",
       "      <td>28.416832</td>\n",
       "      <td>eth1xm1uj9</td>\n",
       "      <td>347812.51</td>\n",
       "      <td>3144360.59</td>\n",
       "    </tr>\n",
       "  </tbody>\n",
       "</table>\n",
       "</div>"
      ],
      "text/plain": [
       "                        _id  fid                               etiqueta  \\\n",
       "0  62040504bf5e0f0abc417dae    6  PARADOR TURISMO LAS CAÑADAS DEL TEIDE   \n",
       "1  62040504bf5e0f0abc417daf    7                     HOTEL SUN HOLIDAYS   \n",
       "\n",
       "   granularidad cod_tipocat cod_tipo nom_tipo  cod_categor  nom_categor  \\\n",
       "0  ALOJAMIENTOS          H2  5510_L1    Hotel            2  2 Estrellas   \n",
       "1  ALOJAMIENTOS          H1  5510_L1    Hotel            1   1 Estrella   \n",
       "\n",
       "  gcd_isla  nom_isla gcd_entitur                  nom_entitur gcd_nucltur  \\\n",
       "0    ES709  Tenerife     ES709B9            Resto de Tenerife     ES709B9   \n",
       "1    ES709  Tenerife     ES709B5  Puerto de la Cruz turístico    ES709B52   \n",
       "\n",
       "          nom_nucltur  gcd_municipio      nom_municipio  \\\n",
       "0   Resto de Tenerife          38026         La Orotava   \n",
       "1  Conjunto Histórico          38028  Puerto de la Cruz   \n",
       "\n",
       "                     direccion                prc_habita           prc_plazas  \\\n",
       "0  CALLE LAS CAÑADAS DEL TEIDE  Menor de 50 habitaciones  Menor de 100 plazas   \n",
       "1           CALLE LA PEÑITA, 6  Menor de 50 habitaciones  Menor de 100 plazas   \n",
       "\n",
       "    longitud    latitud     geohash      utm_x       utm_y  \n",
       "0 -16.627134  28.224400  eth0tdh7p9  340336.74  3123133.08  \n",
       "1 -16.553755  28.416832  eth1xm1uj9  347812.51  3144360.59  "
      ]
     },
     "execution_count": 19,
     "metadata": {},
     "output_type": "execute_result"
    }
   ],
   "source": [
    "menor = pd.DataFrame(coleccion.find({'cod_categor': {\"$lt\": 3}}))\n",
    "menor.head(2)"
   ]
  },
  {
   "cell_type": "code",
   "execution_count": 20,
   "id": "cd4e64e1",
   "metadata": {},
   "outputs": [],
   "source": [
    "islas = [\"Lanzarote\", \"El Hierro\"]"
   ]
  },
  {
   "cell_type": "code",
   "execution_count": 21,
   "id": "3f1dd797",
   "metadata": {},
   "outputs": [
    {
     "data": {
      "text/plain": [
       "array(['Lanzarote', 'El Hierro'], dtype=object)"
      ]
     },
     "execution_count": 21,
     "metadata": {},
     "output_type": "execute_result"
    }
   ],
   "source": [
    "#IN\n",
    "df_islas = pd.DataFrame(coleccion.find({\"nom_isla\": {\"$in\": islas}}))\n",
    "df_islas.nom_isla.unique() #para confirmar "
   ]
  },
  {
   "cell_type": "code",
   "execution_count": 22,
   "id": "cc529602",
   "metadata": {},
   "outputs": [
    {
     "data": {
      "text/plain": [
       "array([nan, 'Tenerife', 'Fuerteventura', 'La Gomera', 'La Palma',\n",
       "       'Gran Canaria', 'El Hierro'], dtype=object)"
      ]
     },
     "execution_count": 22,
     "metadata": {},
     "output_type": "execute_result"
    }
   ],
   "source": [
    "#que no esten en lanzarote\n",
    "#NIN\n",
    "no_lanzarote = pd.DataFrame(coleccion.find({'nom_isla':{'$nin':['Lanzarote']}}))\n",
    "no_lanzarote.nom_isla.unique()"
   ]
  },
  {
   "cell_type": "code",
   "execution_count": 23,
   "id": "c4e6c04c",
   "metadata": {},
   "outputs": [],
   "source": [
    "cond1 = {'nom_isla':'El Hierro'}\n",
    "cond2 = {'cod_categor':{'$eq':3}}"
   ]
  },
  {
   "cell_type": "code",
   "execution_count": 24,
   "id": "c0143a80",
   "metadata": {},
   "outputs": [
    {
     "data": {
      "text/plain": [
       "{'_id': ObjectId('62040504bf5e0f0abc417dac'),\n",
       " 'fid': 4,\n",
       " 'etiqueta': 'HOTEL MEDANO',\n",
       " 'granularidad': 'ALOJAMIENTOS',\n",
       " 'cod_tipocat': 'H3',\n",
       " 'cod_tipo': '5510_L1',\n",
       " 'nom_tipo': 'Hotel',\n",
       " 'cod_categor': 3,\n",
       " 'nom_categor': '3 Estrellas',\n",
       " 'gcd_isla': 'ES709',\n",
       " 'nom_isla': 'Tenerife',\n",
       " 'gcd_entitur': 'ES709B3',\n",
       " 'nom_entitur': 'Abona',\n",
       " 'gcd_nucltur': 'ES709B32',\n",
       " 'nom_nucltur': 'El Médano',\n",
       " 'gcd_municipio': 38017,\n",
       " 'nom_municipio': 'Granadilla de Abona',\n",
       " 'direccion': 'PASEO PICACHO, 2',\n",
       " 'prc_habita': 'De 50 a 149 habitaciones',\n",
       " 'prc_plazas': 'De 100 a 349 plazas',\n",
       " 'longitud': -16.53800193,\n",
       " 'latitud': 28.044016879,\n",
       " 'geohash': 'esupx9m2hx',\n",
       " 'utm_x': 348831.06,\n",
       " 'utm_y': 3103032.41}"
      ]
     },
     "execution_count": 24,
     "metadata": {},
     "output_type": "execute_result"
    }
   ],
   "source": [
    "list(coleccion.find({'$or': [cond1, cond2]}))[0]"
   ]
  },
  {
   "cell_type": "markdown",
   "id": "a48108bf",
   "metadata": {},
   "source": [
    "**PROYECCIONES** - sacar cosas unicas, etiquetas"
   ]
  },
  {
   "cell_type": "code",
   "execution_count": 25,
   "id": "1188bd74",
   "metadata": {},
   "outputs": [
    {
     "data": {
      "text/plain": [
       "[{'etiqueta': 'PARADOR DE TURISMO DE EL HIERRO'},\n",
       " {'etiqueta': 'PARADOR DE TURISMO DE EL HIERRO'},\n",
       " {'etiqueta': 'PARADOR DE TURISMO DE EL HIERRO'},\n",
       " {'etiqueta': 'PARADOR DE TURISMO DE EL HIERRO'}]"
      ]
     },
     "execution_count": 25,
     "metadata": {},
     "output_type": "execute_result"
    }
   ],
   "source": [
    "list(coleccion.find({'$and': [cond1,cond2]}, {'etiqueta':1, '_id':0})) #no hay ordenes, van despues de la coma"
   ]
  },
  {
   "cell_type": "markdown",
   "id": "f275a362",
   "metadata": {},
   "source": [
    "**exists()**"
   ]
  },
  {
   "cell_type": "code",
   "execution_count": 26,
   "id": "34d8e972",
   "metadata": {},
   "outputs": [
    {
     "data": {
      "text/plain": [
       "[{'_id': ObjectId('6204023ebf5e0f0abc417da5'), 'nombre': ' Juan', 'edad': 25},\n",
       " {'_id': ObjectId('62040293bf5e0f0abc417da6'),\n",
       "  'nombre': 'Maria',\n",
       "  'apellidos': 'López',\n",
       "  'edad': 43,\n",
       "  'dirección': 'Calle de Arenas',\n",
       "  'provincia': 'Madrid'},\n",
       " {'_id': ObjectId('62040293bf5e0f0abc417da7'),\n",
       "  'nombre': 'Lorenzo',\n",
       "  'apellidos': 'Hernández',\n",
       "  'edad': 23,\n",
       "  'direccion': 'Calle de Arenas de San Pedro',\n",
       "  'provicia': 'madrid'},\n",
       " {'_id': ObjectId('6204052b0daedf326a765a41'), 'nombre': ' Juan', 'edad': 25},\n",
       " {'_id': ObjectId('6204052b0daedf326a765a42'),\n",
       "  'nombre': 'Maria',\n",
       "  'apellidos': 'López',\n",
       "  'edad': 43,\n",
       "  'dirección': 'Calle de Arenas',\n",
       "  'provincia': 'Madrid'},\n",
       " {'_id': ObjectId('6204052b0daedf326a765a43'),\n",
       "  'nombre': 'Lorenzo',\n",
       "  'apellidos': 'Hernández',\n",
       "  'edad': 23,\n",
       "  'direccion': 'Calle de Arenas de San Pedro',\n",
       "  'provicia': 'madrid'},\n",
       " {'_id': ObjectId('6204149349fdfe6191b35aea'), 'nombre': ' Juan', 'edad': 25},\n",
       " {'_id': ObjectId('6204149349fdfe6191b35aeb'),\n",
       "  'nombre': 'Maria',\n",
       "  'apellidos': 'López',\n",
       "  'edad': 43,\n",
       "  'dirección': 'Calle de Arenas',\n",
       "  'provincia': 'Madrid'},\n",
       " {'_id': ObjectId('6204149349fdfe6191b35aec'),\n",
       "  'nombre': 'Lorenzo',\n",
       "  'apellidos': 'Hernández',\n",
       "  'edad': 23,\n",
       "  'direccion': 'Calle de Arenas de San Pedro',\n",
       "  'provicia': 'madrid'},\n",
       " {'_id': ObjectId('62041e726f7ae1a98f78e0b7'), 'nombre': ' Juan', 'edad': 25},\n",
       " {'_id': ObjectId('62041e726f7ae1a98f78e0b8'),\n",
       "  'nombre': 'Maria',\n",
       "  'apellidos': 'López',\n",
       "  'edad': 43,\n",
       "  'dirección': 'Calle de Arenas',\n",
       "  'provincia': 'Madrid'},\n",
       " {'_id': ObjectId('62041e726f7ae1a98f78e0b9'),\n",
       "  'nombre': 'Lorenzo',\n",
       "  'apellidos': 'Hernández',\n",
       "  'edad': 23,\n",
       "  'direccion': 'Calle de Arenas de San Pedro',\n",
       "  'provicia': 'madrid'}]"
      ]
     },
     "execution_count": 26,
     "metadata": {},
     "output_type": "execute_result"
    }
   ],
   "source": [
    "list(coleccion.find({'nombre': {'$exists': True}}))"
   ]
  },
  {
   "cell_type": "markdown",
   "id": "22c1716c",
   "metadata": {},
   "source": [
    "**limit()**"
   ]
  },
  {
   "cell_type": "code",
   "execution_count": null,
   "id": "0e70a04f",
   "metadata": {},
   "outputs": [],
   "source": []
  }
 ],
 "metadata": {
  "kernelspec": {
   "display_name": "Python 3 (ipykernel)",
   "language": "python",
   "name": "python3"
  },
  "language_info": {
   "codemirror_mode": {
    "name": "ipython",
    "version": 3
   },
   "file_extension": ".py",
   "mimetype": "text/x-python",
   "name": "python",
   "nbconvert_exporter": "python",
   "pygments_lexer": "ipython3",
   "version": "3.9.7"
  }
 },
 "nbformat": 4,
 "nbformat_minor": 5
}
