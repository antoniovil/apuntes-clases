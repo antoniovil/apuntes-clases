{
 "cells": [
  {
   "cell_type": "code",
   "execution_count": 1,
   "id": "bc248e9a",
   "metadata": {},
   "outputs": [],
   "source": [
    "import pandas as pd\n",
    "import sqlalchemy as alch\n",
    "from getpass import getpass "
   ]
  },
  {
   "cell_type": "code",
   "execution_count": 2,
   "id": "9afa6f51",
   "metadata": {},
   "outputs": [],
   "source": [
    "clientes = pd.read_csv('datos_clientes.csv', index_col = 0)\n",
    "vehiculo = pd.read_csv('datos_vehiculos.csv', index_col = 0)\n",
    "seguro = pd.read_csv('datos_seguro.csv', index_col = 0)"
   ]
  },
  {
   "cell_type": "markdown",
   "id": "ff612179",
   "metadata": {},
   "source": [
    "**ley para conectar SQL**"
   ]
  },
  {
   "cell_type": "code",
   "execution_count": 14,
   "id": "2ea1dd38",
   "metadata": {},
   "outputs": [
    {
     "name": "stdout",
     "output_type": "stream",
     "text": [
      "Contraseña de MySQL: ········\n"
     ]
    }
   ],
   "source": [
    "password = getpass('Contraseña de MySQL: ')"
   ]
  },
  {
   "cell_type": "code",
   "execution_count": 15,
   "id": "258e7a22",
   "metadata": {},
   "outputs": [],
   "source": [
    "#almacenamos en base de datos\n",
    "\n",
    "db_name = 'seguros'\n",
    "\n",
    "conexion = f'mysql+pymysql://root{password}&localhost/{db_name}'"
   ]
  },
  {
   "cell_type": "code",
   "execution_count": 16,
   "id": "78732464",
   "metadata": {},
   "outputs": [],
   "source": [
    "engine = alch.create_engine(conexion)"
   ]
  },
  {
   "cell_type": "code",
   "execution_count": 17,
   "id": "678ef0be",
   "metadata": {},
   "outputs": [
    {
     "data": {
      "text/html": [
       "<div>\n",
       "<style scoped>\n",
       "    .dataframe tbody tr th:only-of-type {\n",
       "        vertical-align: middle;\n",
       "    }\n",
       "\n",
       "    .dataframe tbody tr th {\n",
       "        vertical-align: top;\n",
       "    }\n",
       "\n",
       "    .dataframe thead th {\n",
       "        text-align: right;\n",
       "    }\n",
       "</style>\n",
       "<table border=\"1\" class=\"dataframe\">\n",
       "  <thead>\n",
       "    <tr style=\"text-align: right;\">\n",
       "      <th></th>\n",
       "      <th>ID</th>\n",
       "      <th>GENDER</th>\n",
       "      <th>RACE</th>\n",
       "      <th>DRIVING_EXPERIENCE</th>\n",
       "      <th>EDUCATION</th>\n",
       "      <th>MARRIED</th>\n",
       "      <th>CHILDREN</th>\n",
       "      <th>INCOME</th>\n",
       "      <th>POSTAL_CODE</th>\n",
       "    </tr>\n",
       "  </thead>\n",
       "  <tbody>\n",
       "    <tr>\n",
       "      <th>0</th>\n",
       "      <td>569520</td>\n",
       "      <td>female</td>\n",
       "      <td>majority</td>\n",
       "      <td>0-9y</td>\n",
       "      <td>high school</td>\n",
       "      <td>0.0</td>\n",
       "      <td>1.0</td>\n",
       "      <td>upper class</td>\n",
       "      <td>10238</td>\n",
       "    </tr>\n",
       "    <tr>\n",
       "      <th>1</th>\n",
       "      <td>750365</td>\n",
       "      <td>male</td>\n",
       "      <td>majority</td>\n",
       "      <td>0-9y</td>\n",
       "      <td>none</td>\n",
       "      <td>0.0</td>\n",
       "      <td>0.0</td>\n",
       "      <td>poverty</td>\n",
       "      <td>10238</td>\n",
       "    </tr>\n",
       "  </tbody>\n",
       "</table>\n",
       "</div>"
      ],
      "text/plain": [
       "       ID  GENDER      RACE DRIVING_EXPERIENCE    EDUCATION  MARRIED  \\\n",
       "0  569520  female  majority               0-9y  high school      0.0   \n",
       "1  750365    male  majority               0-9y         none      0.0   \n",
       "\n",
       "   CHILDREN       INCOME  POSTAL_CODE  \n",
       "0       1.0  upper class        10238  \n",
       "1       0.0      poverty        10238  "
      ]
     },
     "execution_count": 17,
     "metadata": {},
     "output_type": "execute_result"
    }
   ],
   "source": [
    "#insertamos datos en SQL\n",
    "\n",
    "clientes.head(2)"
   ]
  },
  {
   "cell_type": "code",
   "execution_count": 21,
   "id": "f34cf6fc",
   "metadata": {},
   "outputs": [
    {
     "ename": "NameError",
     "evalue": "name 'fila' is not defined",
     "output_type": "error",
     "traceback": [
      "\u001b[1;31m---------------------------------------------------------------------------\u001b[0m",
      "\u001b[1;31mNameError\u001b[0m                                 Traceback (most recent call last)",
      "\u001b[1;32m~\\AppData\\Local\\Temp/ipykernel_4308/2728495330.py\u001b[0m in \u001b[0;36m<module>\u001b[1;34m\u001b[0m\n\u001b[0;32m      1\u001b[0m \u001b[1;32mfor\u001b[0m \u001b[0mindex\u001b[0m\u001b[1;33m,\u001b[0m \u001b[0mrow\u001b[0m \u001b[1;32min\u001b[0m \u001b[0mclientes\u001b[0m\u001b[1;33m.\u001b[0m\u001b[0miterrows\u001b[0m\u001b[1;33m(\u001b[0m\u001b[1;33m)\u001b[0m\u001b[1;33m:\u001b[0m\u001b[1;33m\u001b[0m\u001b[1;33m\u001b[0m\u001b[0m\n\u001b[0;32m      2\u001b[0m \u001b[1;33m\u001b[0m\u001b[0m\n\u001b[1;32m----> 3\u001b[1;33m     \u001b[0mclien_id\u001b[0m \u001b[1;33m=\u001b[0m \u001b[0mengine\u001b[0m\u001b[1;33m.\u001b[0m\u001b[0mexecute\u001b[0m\u001b[1;33m(\u001b[0m\u001b[1;34mf\"\"\"select idcliente from clientes where idcliente = \"{fila['ID']}\" \"\"\"\u001b[0m\u001b[1;33m)\u001b[0m\u001b[1;33m\u001b[0m\u001b[1;33m\u001b[0m\u001b[0m\n\u001b[0m\u001b[0;32m      4\u001b[0m \u001b[1;33m\u001b[0m\u001b[0m\n\u001b[0;32m      5\u001b[0m     \u001b[1;32mif\u001b[0m \u001b[0mlen\u001b[0m \u001b[1;33m(\u001b[0m\u001b[0mlist\u001b[0m\u001b[1;33m(\u001b[0m\u001b[0mclient_id\u001b[0m\u001b[1;33m)\u001b[0m\u001b[1;33m)\u001b[0m \u001b[1;33m>\u001b[0m \u001b[1;36m0\u001b[0m\u001b[1;33m:\u001b[0m\u001b[1;33m\u001b[0m\u001b[1;33m\u001b[0m\u001b[0m\n",
      "\u001b[1;31mNameError\u001b[0m: name 'fila' is not defined"
     ]
    }
   ],
   "source": [
    "for index, row in clientes.iterrows():\n",
    "    \n",
    "    clien_id = engine.execute(f\"\"\"select idcliente from clientes where idcliente = \"{fila['ID']}\" \"\"\")\n",
    "    \n",
    "    if len (list(client_id)) > 0:\n",
    "        pass #verificar si existe\n",
    "        \n",
    "    else:\n",
    "        engine.execute(f\"\"\"\n",
    "                INSERT INTO clientes (idclientes, genero, raza, experiencia, educacion, estado_civil, hijos, clase, codigo_postal) VALUES\n",
    "                (\"{row['ID']}\",\n",
    "                \"{row['GENDER']}\",\n",
    "                \"{row['RACE']}\",\n",
    "                \"{row['DRIVING_EXPERIENCE']}\", \n",
    "                \"{row['EDUCATION']}\",\n",
    "                \"{row['MARRIED']}\",\n",
    "                \"{row['CHILDREN']}\",\n",
    "                \"{row['INCOME']}\",\n",
    "                \"{row['POSTAL_CODE']}\");\n",
    "        \"\"\")"
   ]
  },
  {
   "cell_type": "code",
   "execution_count": 19,
   "id": "1c263508",
   "metadata": {},
   "outputs": [
    {
     "data": {
      "text/html": [
       "<div>\n",
       "<style scoped>\n",
       "    .dataframe tbody tr th:only-of-type {\n",
       "        vertical-align: middle;\n",
       "    }\n",
       "\n",
       "    .dataframe tbody tr th {\n",
       "        vertical-align: top;\n",
       "    }\n",
       "\n",
       "    .dataframe thead th {\n",
       "        text-align: right;\n",
       "    }\n",
       "</style>\n",
       "<table border=\"1\" class=\"dataframe\">\n",
       "  <thead>\n",
       "    <tr style=\"text-align: right;\">\n",
       "      <th></th>\n",
       "      <th>VEHICLE_OWNERSHIP</th>\n",
       "      <th>VEHICLE_YEAR</th>\n",
       "      <th>ID_VEHICULO</th>\n",
       "      <th>ID</th>\n",
       "    </tr>\n",
       "  </thead>\n",
       "  <tbody>\n",
       "    <tr>\n",
       "      <th>0</th>\n",
       "      <td>1.0</td>\n",
       "      <td>after 2015</td>\n",
       "      <td>BZ1WE0LF2U</td>\n",
       "      <td>569520</td>\n",
       "    </tr>\n",
       "    <tr>\n",
       "      <th>1</th>\n",
       "      <td>0.0</td>\n",
       "      <td>before 2015</td>\n",
       "      <td>78GJYCA4LI</td>\n",
       "      <td>750365</td>\n",
       "    </tr>\n",
       "    <tr>\n",
       "      <th>2</th>\n",
       "      <td>1.0</td>\n",
       "      <td>before 2015</td>\n",
       "      <td>TG2JSADVLY</td>\n",
       "      <td>199901</td>\n",
       "    </tr>\n",
       "    <tr>\n",
       "      <th>3</th>\n",
       "      <td>1.0</td>\n",
       "      <td>before 2015</td>\n",
       "      <td>DB1O2IYHP4</td>\n",
       "      <td>478866</td>\n",
       "    </tr>\n",
       "    <tr>\n",
       "      <th>4</th>\n",
       "      <td>1.0</td>\n",
       "      <td>before 2015</td>\n",
       "      <td>RIZYYIZNVG</td>\n",
       "      <td>731664</td>\n",
       "    </tr>\n",
       "  </tbody>\n",
       "</table>\n",
       "</div>"
      ],
      "text/plain": [
       "   VEHICLE_OWNERSHIP VEHICLE_YEAR ID_VEHICULO      ID\n",
       "0                1.0   after 2015  BZ1WE0LF2U  569520\n",
       "1                0.0  before 2015  78GJYCA4LI  750365\n",
       "2                1.0  before 2015  TG2JSADVLY  199901\n",
       "3                1.0  before 2015  DB1O2IYHP4  478866\n",
       "4                1.0  before 2015  RIZYYIZNVG  731664"
      ]
     },
     "execution_count": 19,
     "metadata": {},
     "output_type": "execute_result"
    }
   ],
   "source": [
    "vehiculo.head()"
   ]
  },
  {
   "cell_type": "markdown",
   "id": "367f7e91",
   "metadata": {},
   "source": [
    "**CASE - es como el IF**"
   ]
  },
  {
   "cell_type": "code",
   "execution_count": null,
   "id": "ac79c85c",
   "metadata": {},
   "outputs": [],
   "source": []
  }
 ],
 "metadata": {
  "kernelspec": {
   "display_name": "Python 3 (ipykernel)",
   "language": "python",
   "name": "python3"
  },
  "language_info": {
   "codemirror_mode": {
    "name": "ipython",
    "version": 3
   },
   "file_extension": ".py",
   "mimetype": "text/x-python",
   "name": "python",
   "nbconvert_exporter": "python",
   "pygments_lexer": "ipython3",
   "version": "3.9.7"
  }
 },
 "nbformat": 4,
 "nbformat_minor": 5
}
