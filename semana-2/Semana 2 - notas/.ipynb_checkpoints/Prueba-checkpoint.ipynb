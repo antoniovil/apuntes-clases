{
 "cells": [
  {
   "cell_type": "code",
   "execution_count": 1,
   "id": "5fc2f623",
   "metadata": {},
   "outputs": [],
   "source": [
    "list_test = [1,1,3,2,4,4,5]"
   ]
  },
  {
   "cell_type": "code",
   "execution_count": 2,
   "id": "b1afb06c",
   "metadata": {
    "scrolled": true
   },
   "outputs": [
    {
     "name": "stdout",
     "output_type": "stream",
     "text": [
      "{1: None, 3: None, 2: None, 4: None, 5: None}\n",
      "[1, 3, 2, 4, 5]\n"
     ]
    }
   ],
   "source": [
    "#7. Write a function that takes a list and returns a list of the unique values.\n",
    "#usando diccionarios frontkeys.\n",
    "\n",
    "dict_lista = dict.fromkeys(list_test)\n",
    "print(dict_lista)\n",
    "\n",
    "nueva = list(dict.keys(dict_lista))\n",
    "print(nueva)"
   ]
  },
  {
   "cell_type": "code",
   "execution_count": 3,
   "id": "1fcd8d32",
   "metadata": {},
   "outputs": [
    {
     "data": {
      "text/plain": [
       "[1, 3, 2, 4, 5]"
      ]
     },
     "execution_count": 3,
     "metadata": {},
     "output_type": "execute_result"
    }
   ],
   "source": [
    "def unicos(x):\n",
    "    dict.fromkeys(x)\n",
    "    return list(x)\n",
    "unicos(dict_lista)"
   ]
  },
  {
   "cell_type": "code",
   "execution_count": 4,
   "id": "b00ef8d0",
   "metadata": {},
   "outputs": [],
   "source": [
    "n = 5\n",
    "def factorial(n):\n",
    "    factor = 1\n",
    "    for i in range(1,n+1):\n",
    "        factor = factor*i\n",
    "    return factor"
   ]
  },
  {
   "cell_type": "code",
   "execution_count": 5,
   "id": "9f24ec53",
   "metadata": {},
   "outputs": [
    {
     "data": {
      "text/plain": [
       "120"
      ]
     },
     "execution_count": 5,
     "metadata": {},
     "output_type": "execute_result"
    }
   ],
   "source": [
    "factorial(n)"
   ]
  },
  {
   "cell_type": "code",
   "execution_count": 6,
   "id": "12275c0f",
   "metadata": {},
   "outputs": [],
   "source": [
    "list_test = [1,1,3,2,4,4,5]"
   ]
  },
  {
   "cell_type": "code",
   "execution_count": null,
   "id": "894115a2",
   "metadata": {},
   "outputs": [],
   "source": [
    "#Write a function that returns the mode of a list, i.e.: the element that appears the most times.\n",
    "\n",
    "contador = 0\n",
    "\n",
    "for i in list_test:\n",
    "    "
   ]
  }
 ],
 "metadata": {
  "kernelspec": {
   "display_name": "Python 3 (ipykernel)",
   "language": "python",
   "name": "python3"
  },
  "language_info": {
   "codemirror_mode": {
    "name": "ipython",
    "version": 3
   },
   "file_extension": ".py",
   "mimetype": "text/x-python",
   "name": "python",
   "nbconvert_exporter": "python",
   "pygments_lexer": "ipython3",
   "version": "3.9.7"
  }
 },
 "nbformat": 4,
 "nbformat_minor": 5
}
