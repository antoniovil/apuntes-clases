{
 "cells": [
  {
   "cell_type": "code",
   "execution_count": 1,
   "id": "4c51f0d4",
   "metadata": {},
   "outputs": [
    {
     "name": "stdout",
     "output_type": "stream",
     "text": [
      "condición cierta\n"
     ]
    }
   ],
   "source": [
    "expresion = True\n",
    "\n",
    "if expresion == True:\n",
    "    print(\"condición cierta\")"
   ]
  },
  {
   "cell_type": "code",
   "execution_count": 2,
   "id": "0a2b9550",
   "metadata": {},
   "outputs": [
    {
     "name": "stdout",
     "output_type": "stream",
     "text": [
      "condición cierta\n"
     ]
    }
   ],
   "source": [
    "if expresion:\n",
    "    print(\"condición cierta\")"
   ]
  },
  {
   "cell_type": "code",
   "execution_count": 3,
   "id": "fef13654",
   "metadata": {},
   "outputs": [
    {
     "name": "stdout",
     "output_type": "stream",
     "text": [
      "Qué temperatura hace?1\n"
     ]
    }
   ],
   "source": [
    "temperatura = int(input(\"Qué temperatura hace?\"))"
   ]
  },
  {
   "cell_type": "code",
   "execution_count": 4,
   "id": "05db0169",
   "metadata": {},
   "outputs": [
    {
     "name": "stdout",
     "output_type": "stream",
     "text": [
      "hace frío\n"
     ]
    }
   ],
   "source": [
    "if temperatura < 4:\n",
    "    print(\"hace frío\")"
   ]
  },
  {
   "cell_type": "code",
   "execution_count": 5,
   "id": "c33b94ae",
   "metadata": {},
   "outputs": [
    {
     "name": "stdout",
     "output_type": "stream",
     "text": [
      "max1\n"
     ]
    }
   ],
   "source": [
    "temperatura_max = int(input(\"max\"))"
   ]
  },
  {
   "cell_type": "code",
   "execution_count": 6,
   "id": "e93b5d87",
   "metadata": {},
   "outputs": [
    {
     "name": "stdout",
     "output_type": "stream",
     "text": [
      "min1\n"
     ]
    }
   ],
   "source": [
    "temp_min = int(input(\"min\"))"
   ]
  },
  {
   "cell_type": "code",
   "execution_count": 7,
   "id": "be76fdaf",
   "metadata": {},
   "outputs": [
    {
     "name": "stdout",
     "output_type": "stream",
     "text": [
      "hace frio\n"
     ]
    }
   ],
   "source": [
    "if temperatura_max <= 15 and temp_min < 6:\n",
    "    print(\"hace frio\")"
   ]
  },
  {
   "cell_type": "code",
   "execution_count": 8,
   "id": "76131f16",
   "metadata": {},
   "outputs": [
    {
     "name": "stdout",
     "output_type": "stream",
     "text": [
      "hace frio\n"
     ]
    }
   ],
   "source": [
    "if temperatura_max <= 15 or temp_min > 6:\n",
    "    print(\"hace frio\")"
   ]
  },
  {
   "cell_type": "code",
   "execution_count": 9,
   "id": "2feb8108",
   "metadata": {},
   "outputs": [],
   "source": [
    "import string"
   ]
  },
  {
   "cell_type": "code",
   "execution_count": 10,
   "id": "52f2b43a",
   "metadata": {},
   "outputs": [],
   "source": [
    "letras = string.ascii_lowercase"
   ]
  },
  {
   "cell_type": "code",
   "execution_count": 11,
   "id": "98c7ee72",
   "metadata": {},
   "outputs": [
    {
     "name": "stdout",
     "output_type": "stream",
     "text": [
      "abcdefghijklmnopqrstuvwxyz\n"
     ]
    }
   ],
   "source": [
    "print(letras)"
   ]
  },
  {
   "cell_type": "code",
   "execution_count": 12,
   "id": "b4976082",
   "metadata": {},
   "outputs": [
    {
     "name": "stdout",
     "output_type": "stream",
     "text": [
      "pasa un caracter1\n"
     ]
    }
   ],
   "source": [
    "caracter = input(\"pasa un caracter\")"
   ]
  },
  {
   "cell_type": "code",
   "execution_count": 13,
   "id": "7c337552",
   "metadata": {},
   "outputs": [],
   "source": [
    "if caracter in letras:\n",
    "    print(\"es una letra\")"
   ]
  },
  {
   "cell_type": "code",
   "execution_count": 14,
   "id": "a98529a0",
   "metadata": {},
   "outputs": [],
   "source": [
    "#mayuscula\n",
    "\n",
    "if caracter.lower() in letras:\n",
    "    print(caracter.lower())\n",
    "    print(\"letra\")"
   ]
  },
  {
   "cell_type": "code",
   "execution_count": 15,
   "id": "ce65c85b",
   "metadata": {},
   "outputs": [
    {
     "name": "stdout",
     "output_type": "stream",
     "text": [
      "Que temperatura hace hoy?1\n"
     ]
    }
   ],
   "source": [
    "#if... else\n",
    "\n",
    "temp = float(input(\"Que temperatura hace hoy?\"))"
   ]
  },
  {
   "cell_type": "code",
   "execution_count": 16,
   "id": "da3fbd09",
   "metadata": {},
   "outputs": [
    {
     "name": "stdout",
     "output_type": "stream",
     "text": [
      "friiio😊\n"
     ]
    }
   ],
   "source": [
    "if temp < 15:\n",
    "    print(\"friiio😊\")\n",
    "else:\n",
    "    print(\"calor\")"
   ]
  },
  {
   "cell_type": "code",
   "execution_count": 17,
   "id": "bc1671b5",
   "metadata": {},
   "outputs": [
    {
     "name": "stdout",
     "output_type": "stream",
     "text": [
      "empieza por a\n"
     ]
    }
   ],
   "source": [
    "palabra = \"abedul\"\n",
    "\n",
    "if palabra[0].lower() == \"a\":\n",
    "    print(\"empieza por a\")\n",
    "else:\n",
    "    print(\"no\")"
   ]
  },
  {
   "cell_type": "code",
   "execution_count": 18,
   "id": "e60f424c",
   "metadata": {},
   "outputs": [
    {
     "name": "stdout",
     "output_type": "stream",
     "text": [
      "empieza por a\n"
     ]
    }
   ],
   "source": [
    "#otra opcion\n",
    "palabra = \"abedul\"\n",
    "\n",
    "if palabra.startswith(\"a\"):\n",
    "    print(\"empieza por a\")\n",
    "else:\n",
    "    print(\"no\")"
   ]
  },
  {
   "cell_type": "code",
   "execution_count": 19,
   "id": "76886978",
   "metadata": {},
   "outputs": [
    {
     "name": "stdout",
     "output_type": "stream",
     "text": [
      "edad1\n"
     ]
    }
   ],
   "source": [
    "#edad de usuario\n",
    "\n",
    "edad = int(input(\"edad\"))"
   ]
  },
  {
   "cell_type": "code",
   "execution_count": 20,
   "id": "aef63e8a",
   "metadata": {},
   "outputs": [
    {
     "name": "stdout",
     "output_type": "stream",
     "text": [
      "a casa\n"
     ]
    }
   ],
   "source": [
    "if edad >= 18:\n",
    "    print(\"pasa\")\n",
    "else:\n",
    "    print(\"a casa\")"
   ]
  },
  {
   "cell_type": "code",
   "execution_count": 21,
   "id": "a3fdb0aa",
   "metadata": {},
   "outputs": [
    {
     "name": "stdout",
     "output_type": "stream",
     "text": [
      "temp1\n"
     ]
    }
   ],
   "source": [
    "#if buckle\n",
    "\n",
    "temp2 = float(input(\"temp\"))"
   ]
  },
  {
   "cell_type": "code",
   "execution_count": 22,
   "id": "0dd8af0f",
   "metadata": {},
   "outputs": [],
   "source": [
    "if temp2 > 15:\n",
    "    print(f\"la temperatura es {temp2} y have mucho frio\")"
   ]
  },
  {
   "cell_type": "code",
   "execution_count": 23,
   "id": "70ad7b33",
   "metadata": {},
   "outputs": [],
   "source": [
    "if temp2 > 15:\n",
    "    temp2 *= 2 #el *= sustituye el x2.. temp2 = el nuevo variable\n",
    "    print(temp2)"
   ]
  },
  {
   "cell_type": "code",
   "execution_count": 24,
   "id": "f90030b8",
   "metadata": {},
   "outputs": [
    {
     "name": "stdout",
     "output_type": "stream",
     "text": [
      "edad? 1\n"
     ]
    }
   ],
   "source": [
    "#NESTED IF - every IF needs to have it correspondent ELSE\n",
    "\n",
    "edad = int(input(\"edad? \"))"
   ]
  },
  {
   "cell_type": "code",
   "execution_count": 25,
   "id": "3d33c2c0",
   "metadata": {},
   "outputs": [
    {
     "name": "stdout",
     "output_type": "stream",
     "text": [
      "a casa\n"
     ]
    }
   ],
   "source": [
    "if edad >= 18:\n",
    "    print(\"pasa\")\n",
    "else:\n",
    "    if edad >= 10:\n",
    "        print(\"light\")\n",
    "    else:\n",
    "        print(\"a casa\")"
   ]
  },
  {
   "cell_type": "code",
   "execution_count": 26,
   "id": "ba39f2de",
   "metadata": {},
   "outputs": [
    {
     "name": "stdout",
     "output_type": "stream",
     "text": [
      "temp2\n"
     ]
    }
   ],
   "source": [
    "#IF ELIF ELSE \n",
    "\n",
    "temp3 = float(input(\"temp\"))"
   ]
  },
  {
   "cell_type": "code",
   "execution_count": 27,
   "id": "876db156",
   "metadata": {},
   "outputs": [
    {
     "name": "stdout",
     "output_type": "stream",
     "text": [
      "mucho frio\n"
     ]
    }
   ],
   "source": [
    "if temp3 > 15:\n",
    "    print(\"calorsito\")\n",
    "elif temp3 > 2 and temp3 < 15:\n",
    "    print(\"fresco\")\n",
    "else:\n",
    "    print(\"mucho frio\")"
   ]
  },
  {
   "cell_type": "code",
   "execution_count": 28,
   "id": "4b0eefff",
   "metadata": {},
   "outputs": [
    {
     "name": "stdout",
     "output_type": "stream",
     "text": [
      "edad? 12\n"
     ]
    }
   ],
   "source": [
    "#ejemplo del de la disco pero usando elif\n",
    "edad2 = int(input(\"edad? \"))"
   ]
  },
  {
   "cell_type": "code",
   "execution_count": 29,
   "id": "b6399b78",
   "metadata": {},
   "outputs": [
    {
     "name": "stdout",
     "output_type": "stream",
     "text": [
      "light\n"
     ]
    }
   ],
   "source": [
    "if edad2 > 18:\n",
    "    print(\"pasa\")\n",
    "elif edad2 > 10:\n",
    "    print(\"light\")\n",
    "else:\n",
    "    print(\"casa\")"
   ]
  },
  {
   "cell_type": "code",
   "execution_count": 30,
   "id": "8086fdc8",
   "metadata": {},
   "outputs": [
    {
     "name": "stdout",
     "output_type": "stream",
     "text": [
      "['Madrid', 'Paris', 'Varsovia', 'Londres', 'Barcelona', 'Casablanca', 'Berlin', 'Kenia', 'Zaragoza', 'Metz', 'Roma', 'Tokio']\n"
     ]
    }
   ],
   "source": [
    "#FOR and WHILE loops\n",
    "#WHILE - mientras x no \"cosa\" entonces ... \n",
    "ciudades = ['Madrid', 'Paris', 'Varsovia', 'Londres', 'Barcelona', 'Casablanca', 'Berlin', 'Kenia', 'Zaragoza', 'Metz', 'Roma', 'Tokio' ]\n",
    "print(ciudades)"
   ]
  },
  {
   "cell_type": "code",
   "execution_count": 31,
   "id": "c4ac5814",
   "metadata": {},
   "outputs": [
    {
     "name": "stdout",
     "output_type": "stream",
     "text": [
      "estoy iterando por:  Madrid y su longitud es de  6\n",
      "estoy iterando por:  Paris y su longitud es de  5\n",
      "estoy iterando por:  Varsovia y su longitud es de  8\n",
      "estoy iterando por:  Londres y su longitud es de  7\n",
      "estoy iterando por:  Barcelona y su longitud es de  9\n",
      "estoy iterando por:  Casablanca y su longitud es de  10\n",
      "estoy iterando por:  Berlin y su longitud es de  6\n",
      "estoy iterando por:  Kenia y su longitud es de  5\n",
      "estoy iterando por:  Zaragoza y su longitud es de  8\n",
      "estoy iterando por:  Metz y su longitud es de  4\n",
      "estoy iterando por:  Roma y su longitud es de  4\n",
      "estoy iterando por:  Tokio y su longitud es de  5\n"
     ]
    }
   ],
   "source": [
    "#FOR\n",
    "for x in ciudades:\n",
    "    print(\"estoy iterando por: \", x, \"y su longitud es de \", len(x))\n",
    "   # print(x.upper())\n",
    "   # print(\"\\n\") #espacio entre líneas"
   ]
  },
  {
   "cell_type": "code",
   "execution_count": 32,
   "id": "ff87ce68",
   "metadata": {},
   "outputs": [
    {
     "name": "stdout",
     "output_type": "stream",
     "text": [
      "['Madrid', 'Paris', 'Londres', 'Berlin', 'Kenia', 'Metz', 'Roma', 'Tokio']\n",
      "['Varsovia', 'Barcelona', 'Casablanca', 'Zaragoza']\n"
     ]
    }
   ],
   "source": [
    "ciudades_peque = []\n",
    "ciudades_grande = []\n",
    "\n",
    "for x in ciudades:\n",
    "    if len(x) > 7:\n",
    "        ciudades_grande.append(x)\n",
    "    else:\n",
    "        ciudades_peque.append(x)\n",
    "        \n",
    "print(ciudades_peque)\n",
    "print(ciudades_grande)"
   ]
  },
  {
   "cell_type": "code",
   "execution_count": 33,
   "id": "02beca82",
   "metadata": {},
   "outputs": [
    {
     "name": "stdout",
     "output_type": "stream",
     "text": [
      "Madrid\n",
      "Paris\n",
      "Varsovia\n"
     ]
    }
   ],
   "source": [
    "for x in range(3):\n",
    "    print(ciudades[x]) #asignar la x a los index de la lista, te da la ciudad. "
   ]
  },
  {
   "cell_type": "code",
   "execution_count": 34,
   "id": "3ced86ba",
   "metadata": {},
   "outputs": [],
   "source": [
    "#DICCIONARIO\n",
    "\n",
    "dicc = {'Lola': 34, \n",
    "       'Pepe': 45,\n",
    "       'Laura': 7, \n",
    "       'Antonio': 23, \n",
    "       'Irene': 25, \n",
    "       \"Rocio\": 13, \n",
    "       'Lorenzo': 9}"
   ]
  },
  {
   "cell_type": "code",
   "execution_count": 35,
   "id": "63f18103",
   "metadata": {},
   "outputs": [
    {
     "name": "stdout",
     "output_type": "stream",
     "text": [
      "Lola ---> 34\n",
      "Pepe ---> 45\n",
      "Laura ---> 7\n",
      "Antonio ---> 23\n",
      "Irene ---> 25\n",
      "Rocio ---> 13\n",
      "Lorenzo ---> 9\n"
     ]
    }
   ],
   "source": [
    "for k, v in dicc.items():\n",
    "    print(k, \"--->\",v)"
   ]
  },
  {
   "cell_type": "code",
   "execution_count": 36,
   "id": "eaaada80",
   "metadata": {},
   "outputs": [
    {
     "name": "stdout",
     "output_type": "stream",
     "text": [
      "{'Lola': 35, 'Pepe': 46, 'Laura': 8, 'Antonio': 24, 'Irene': 26, 'Rocio': 14, 'Lorenzo': 10}\n"
     ]
    }
   ],
   "source": [
    "#sumar un año a todos\n",
    "\n",
    "for k, v in dicc.items():\n",
    "    dicc[k] = v + 1\n",
    "\n",
    "print(dicc)"
   ]
  },
  {
   "cell_type": "code",
   "execution_count": 37,
   "id": "43cc840b",
   "metadata": {},
   "outputs": [],
   "source": [
    "numeros = [13, 67, 88, 55, 54, 109, 200]"
   ]
  },
  {
   "cell_type": "code",
   "execution_count": 38,
   "id": "d355d30d",
   "metadata": {},
   "outputs": [
    {
     "name": "stdout",
     "output_type": "stream",
     "text": [
      "13 es impar\n",
      "67 es impar\n",
      "55 es impar\n",
      "109 es impar\n",
      "[88, 54, 200]\n"
     ]
    }
   ],
   "source": [
    "pares = []\n",
    "\n",
    "for x in numeros:\n",
    "    if x %2 == 0:\n",
    "        pares.append(x)\n",
    "    else:\n",
    "        print(f'{x} es impar')\n",
    "        \n",
    "print(pares)"
   ]
  },
  {
   "cell_type": "code",
   "execution_count": 39,
   "id": "2558078c",
   "metadata": {},
   "outputs": [
    {
     "name": "stdout",
     "output_type": "stream",
     "text": [
      "dia12\n"
     ]
    }
   ],
   "source": [
    "#WHILE \n",
    "\n",
    "dia =int(input(\"dia\"))"
   ]
  },
  {
   "cell_type": "code",
   "execution_count": 40,
   "id": "feb56419",
   "metadata": {},
   "outputs": [
    {
     "name": "stdout",
     "output_type": "stream",
     "text": [
      "12\n",
      "13\n",
      "-----\n",
      "13\n",
      "14\n",
      "-----\n",
      "14\n",
      "15\n",
      "-----\n",
      "15\n",
      "16\n",
      "-----\n",
      "16\n",
      "17\n",
      "-----\n",
      "17\n",
      "18\n",
      "-----\n",
      "18\n",
      "19\n",
      "-----\n",
      "19\n",
      "20\n",
      "-----\n",
      "20\n",
      "21\n",
      "-----\n",
      "21\n",
      "22\n",
      "-----\n",
      "22\n",
      "23\n",
      "-----\n",
      "23\n",
      "24\n",
      "-----\n",
      "24\n",
      "25\n",
      "-----\n",
      "25\n",
      "26\n",
      "-----\n",
      "26\n",
      "27\n",
      "-----\n",
      "27\n",
      "28\n",
      "-----\n",
      "28\n",
      "29\n",
      "-----\n",
      "29\n",
      "30\n",
      "-----\n"
     ]
    }
   ],
   "source": [
    "while dia < 30:\n",
    "    print(dia)\n",
    "    dia += 1\n",
    "    print(dia)\n",
    "    print(\"-----\")"
   ]
  },
  {
   "cell_type": "code",
   "execution_count": 41,
   "id": "7e3a4dc8",
   "metadata": {},
   "outputs": [],
   "source": [
    "#BREAK \n",
    "\n",
    "words = ['cat', 'window', 'defenestrate', 'car', 'arrow', 'hello']"
   ]
  },
  {
   "cell_type": "code",
   "execution_count": 42,
   "id": "a264486c",
   "metadata": {},
   "outputs": [
    {
     "name": "stdout",
     "output_type": "stream",
     "text": [
      "cat\n",
      "window\n",
      "defenestrate\n",
      "car\n",
      "arrow\n",
      "hello\n"
     ]
    }
   ],
   "source": [
    "for x in words:\n",
    "    print(x) #aca es para que imprima abjo\n",
    "    if \"l\" in x:\n",
    "        #print(X) aca te saca \"defenestrate\"\n",
    "        break\n",
    "        #print(X) nada"
   ]
  },
  {
   "cell_type": "code",
   "execution_count": 43,
   "id": "c321f09b",
   "metadata": {},
   "outputs": [],
   "source": [
    "#PASS\n",
    "\n",
    "list_of_names = ['Mario','Alice', 'Bob', 'Jack', 'Mary', 'Manuel', 'Amanda', 'Ignacio', 'Fernando']"
   ]
  },
  {
   "cell_type": "code",
   "execution_count": 44,
   "id": "4dabf150",
   "metadata": {},
   "outputs": [
    {
     "name": "stdout",
     "output_type": "stream",
     "text": [
      "Alice\n",
      "Jack\n",
      "Mary\n",
      "Manuel\n",
      "Amanda\n"
     ]
    }
   ],
   "source": [
    "#si tiene \"o\" no pasa nada\n",
    "\n",
    "for x in list_of_names:\n",
    "    if \"o\" in x:\n",
    "        pass\n",
    "    else:\n",
    "        print(x)"
   ]
  },
  {
   "cell_type": "code",
   "execution_count": 45,
   "id": "6c4e8b58",
   "metadata": {},
   "outputs": [
    {
     "name": "stdout",
     "output_type": "stream",
     "text": [
      "0 ----> apple\n",
      "apple\n",
      "1 ----> banana\n",
      "banana\n",
      "2 ----> cherry\n",
      "cherry\n"
     ]
    }
   ],
   "source": [
    "#enumerate\n",
    "fruits = ['apple', 'banana', 'cherry']\n",
    "\n",
    "for x, fruit in enumerate(fruits):\n",
    "    print(x, \"---->\", fruit)\n",
    "    print(fruits[x])"
   ]
  },
  {
   "cell_type": "code",
   "execution_count": 46,
   "id": "8403064f",
   "metadata": {},
   "outputs": [],
   "source": [
    "#ZIP\n",
    "\n",
    "nombres = ['Laura', 'Marta', 'Rocio']\n",
    "apellidos = ['López', 'Casas', 'Pérez']"
   ]
  },
  {
   "cell_type": "code",
   "execution_count": 47,
   "id": "b8989d0a",
   "metadata": {},
   "outputs": [
    {
     "name": "stdout",
     "output_type": "stream",
     "text": [
      "Laura ---> López\n",
      "Marta ---> Casas\n",
      "Rocio ---> Pérez\n"
     ]
    }
   ],
   "source": [
    "for n, a in zip(nombres, apellidos):\n",
    "    print(n, \"--->\", a)"
   ]
  },
  {
   "cell_type": "code",
   "execution_count": 48,
   "id": "110846dd",
   "metadata": {},
   "outputs": [],
   "source": [
    "nombres = ['Laura', 'Marta', 'Rocio']\n",
    "años = [1929, 1930, 1950, 1915]\n",
    "bodas = [1967, 1950, 1977, 1927]"
   ]
  },
  {
   "cell_type": "code",
   "execution_count": 49,
   "id": "f4912fe7",
   "metadata": {},
   "outputs": [
    {
     "name": "stdout",
     "output_type": "stream",
     "text": [
      "Laura :se casó con 38 años\n",
      "Marta :se casó con 20 años\n",
      "Rocio :se casó con 27 años\n"
     ]
    }
   ],
   "source": [
    "for nombre, año, boda in zip(nombres, años, bodas):\n",
    "    print(nombre,\":se casó con\", boda-año, \"años\")"
   ]
  },
  {
   "cell_type": "code",
   "execution_count": 50,
   "id": "e84f4598",
   "metadata": {},
   "outputs": [
    {
     "name": "stdout",
     "output_type": "stream",
     "text": [
      "3\n"
     ]
    }
   ],
   "source": [
    "x = 0\n",
    "\n",
    "for i in nombres:\n",
    "    x += 1\n",
    "\n",
    "print(x)"
   ]
  },
  {
   "cell_type": "code",
   "execution_count": 51,
   "id": "d03e415e",
   "metadata": {},
   "outputs": [
    {
     "name": "stdout",
     "output_type": "stream",
     "text": [
      "Wall time: 1e+03 µs\n"
     ]
    }
   ],
   "source": [
    "%%time\n",
    "cuadrado = []\n",
    "for i in range(5000):\n",
    "    cuadrado.append(i ** 2)"
   ]
  },
  {
   "cell_type": "code",
   "execution_count": 52,
   "id": "a9fd632e",
   "metadata": {},
   "outputs": [],
   "source": [
    "palabras = ['data', 'science', 'machine', 'learning', 'math', 'python', 'code']"
   ]
  },
  {
   "cell_type": "code",
   "execution_count": 53,
   "id": "e41ca514",
   "metadata": {},
   "outputs": [
    {
     "name": "stdout",
     "output_type": "stream",
     "text": [
      "[4, 7, 7, 8, 4, 6, 4]\n"
     ]
    }
   ],
   "source": [
    "#tradicional\n",
    "\n",
    "long = []\n",
    "\n",
    "for x in palabras:\n",
    "    long.append(len(x))\n",
    "    \n",
    "print(long)"
   ]
  },
  {
   "cell_type": "code",
   "execution_count": 54,
   "id": "26e41fc3",
   "metadata": {},
   "outputs": [
    {
     "name": "stdout",
     "output_type": "stream",
     "text": [
      "[4, 7, 7, 8, 4, 6, 4]\n"
     ]
    }
   ],
   "source": [
    "#list comprehension - no se puede usar ELIF - SIEMPRE VA A APPENDEAR, Creo una lista desde cero a partir de otra lista.\n",
    "#NO SE PUEDE USAR WHILE TAMPOCO \n",
    "\n",
    "long2 = [len(x) for x in palabras]\n",
    "print(long2)"
   ]
  },
  {
   "cell_type": "code",
   "execution_count": 55,
   "id": "ca0f2ce6",
   "metadata": {},
   "outputs": [
    {
     "name": "stdout",
     "output_type": "stream",
     "text": [
      "[22, 40, 8, 28, 53, 35, 29, 75, 58, 70]\n"
     ]
    }
   ],
   "source": [
    "import random\n",
    "num = random.sample(range(1,100),10)\n",
    "print(num)"
   ]
  },
  {
   "cell_type": "code",
   "execution_count": 56,
   "id": "7cbdeed5",
   "metadata": {},
   "outputs": [],
   "source": [
    "#tradicional\n",
    "\n",
    "cuadrados = []\n",
    "for x in num:\n",
    "    cuadrados.append(x ** 2)"
   ]
  },
  {
   "cell_type": "code",
   "execution_count": 57,
   "id": "53c44cc6",
   "metadata": {},
   "outputs": [
    {
     "name": "stdout",
     "output_type": "stream",
     "text": [
      "[484, 1600, 64, 784, 2809, 1225, 841, 5625, 3364, 4900]\n"
     ]
    }
   ],
   "source": [
    "print(cuadrados)"
   ]
  },
  {
   "cell_type": "code",
   "execution_count": 58,
   "id": "f45540ba",
   "metadata": {},
   "outputs": [
    {
     "name": "stdout",
     "output_type": "stream",
     "text": [
      "[484, 1600, 64, 784, 2809, 1225, 841, 5625, 3364, 4900]\n"
     ]
    }
   ],
   "source": [
    "#list comprehension\n",
    "\n",
    "cuadrados2 = [i ** 2 for i in num]\n",
    "print(cuadrados2)"
   ]
  },
  {
   "cell_type": "code",
   "execution_count": 59,
   "id": "8d0e5e5f",
   "metadata": {},
   "outputs": [
    {
     "data": {
      "text/plain": [
       "['data', 'science', 'machine', 'learning', 'math', 'python', 'code']"
      ]
     },
     "execution_count": 59,
     "metadata": {},
     "output_type": "execute_result"
    }
   ],
   "source": [
    "palabras"
   ]
  },
  {
   "cell_type": "code",
   "execution_count": 61,
   "id": "b00505d2",
   "metadata": {},
   "outputs": [
    {
     "data": {
      "text/plain": [
       "['sciAncA', 'machinA', 'lAarning', 'python']"
      ]
     },
     "execution_count": 61,
     "metadata": {},
     "output_type": "execute_result"
    }
   ],
   "source": [
    "#tradicional\n",
    "#reemplazar e con a\n",
    "con_A = []\n",
    "\n",
    "for i in palabras:\n",
    "    if len(i) > 4:\n",
    "        con_A.append(i.replace(\"e\",\"A\"))\n",
    "\n",
    "con_A"
   ]
  },
  {
   "cell_type": "code",
   "execution_count": 64,
   "id": "cc0804e3",
   "metadata": {},
   "outputs": [
    {
     "data": {
      "text/plain": [
       "['sciAncA', 'machinA', 'lAarning', 'python']"
      ]
     },
     "execution_count": 64,
     "metadata": {},
     "output_type": "execute_result"
    }
   ],
   "source": [
    "#list comprehension \n",
    "con_A2 = [i.replace(\"e\",\"A\") for i in palabras if len(i) > 4]\n",
    "con_A2"
   ]
  },
  {
   "cell_type": "code",
   "execution_count": 65,
   "id": "e000338e",
   "metadata": {},
   "outputs": [
    {
     "name": "stdout",
     "output_type": "stream",
     "text": [
      "[890, 546, 561, 1342, 618, 801, 718, 958, 1686, 661, 1383, 254, 217, 1129, 1077, 61, 353, 897, 1778, 814, 1415, 162, 484, 933, 1333, 145, 1704, 802, 1066, 423, 577, 482, 893, 575, 1879, 1679, 574, 248, 700, 861, 912, 1521, 624, 1118, 1258, 454, 1693, 578, 1862, 1659, 1538, 733, 746, 1634, 1891, 1640, 192, 1933, 31, 1120, 1451, 609, 1259, 1603, 685, 737, 441, 1596, 1299, 1890, 1298, 1471, 93, 1073, 768, 1526, 483, 830, 240, 120, 1818, 1630, 1711, 815, 1749, 642, 1202, 1699, 1295, 1761, 1724, 735, 1371, 1401, 467, 1474, 1028, 844, 1914, 1552]\n"
     ]
    }
   ],
   "source": [
    "numeros = random.sample(range(1, 2000), 100)\n",
    "print(numeros)"
   ]
  },
  {
   "cell_type": "code",
   "execution_count": 66,
   "id": "0f53f5a9",
   "metadata": {},
   "outputs": [
    {
     "name": "stdout",
     "output_type": "stream",
     "text": [
      "[891, 547, 1343, 619, 719, 959, 1687, 255, 1779, 815, 163, 485, 1705, 803, 1067, 483, 575, 249, 701, 913, 625, 1119, 1259, 455, 579, 1863, 1539, 747, 1635, 1641, 193, 1121, 1597, 1891, 1299, 769, 1527, 831, 241, 121, 1819, 1631, 643, 1203, 1725, 1475, 1029, 845, 1915, 1553]\n"
     ]
    }
   ],
   "source": [
    "pares = []\n",
    "\n",
    "for i in numeros:\n",
    "    if i % 2 == 0:\n",
    "        pares.append(i + 1)\n",
    "print(pares)       "
   ]
  },
  {
   "cell_type": "code",
   "execution_count": 68,
   "id": "dfc97d77",
   "metadata": {},
   "outputs": [
    {
     "name": "stdout",
     "output_type": "stream",
     "text": [
      "[891, 547, 1343, 619, 719, 959, 1687, 255, 1779, 815, 163, 485, 1705, 803, 1067, 483, 575, 249, 701, 913, 625, 1119, 1259, 455, 579, 1863, 1539, 747, 1635, 1641, 193, 1121, 1597, 1891, 1299, 769, 1527, 831, 241, 121, 1819, 1631, 643, 1203, 1725, 1475, 1029, 845, 1915, 1553]\n"
     ]
    }
   ],
   "source": [
    "#list comprehension\n",
    "\n",
    "pares_2 = [i + 1 for i in numeros if i % 2 == 0]\n",
    "print(pares_2)"
   ]
  },
  {
   "cell_type": "code",
   "execution_count": 73,
   "id": "5b63d23b",
   "metadata": {},
   "outputs": [
    {
     "data": {
      "text/plain": [
       "['data', 'science', 'machine', 'learning', 'math', 'python', 'code']"
      ]
     },
     "execution_count": 73,
     "metadata": {},
     "output_type": "execute_result"
    }
   ],
   "source": [
    "#if..else en list comprehensions\n",
    "\n",
    "palabras"
   ]
  },
  {
   "cell_type": "code",
   "execution_count": 74,
   "id": "c8beb6ae",
   "metadata": {},
   "outputs": [
    {
     "data": {
      "text/plain": [
       "['corta', 'larga', 'larga', 'larga', 'corta', 'larga', 'corta']"
      ]
     },
     "execution_count": 74,
     "metadata": {},
     "output_type": "execute_result"
    }
   ],
   "source": [
    "#<4 corta\n",
    "#>4 lrga\n",
    "longi = []\n",
    "\n",
    "for x in palabras:\n",
    "    if len(x) > 4:\n",
    "        longi.append(\"larga\")\n",
    "    else:\n",
    "        longi.append(\"corta\")\n",
    "longi"
   ]
  },
  {
   "cell_type": "code",
   "execution_count": 75,
   "id": "c4d8d6f2",
   "metadata": {},
   "outputs": [
    {
     "data": {
      "text/plain": [
       "['corta', 'corta', 'corta', 'corta', 'corta', 'corta', 'corta']"
      ]
     },
     "execution_count": 75,
     "metadata": {},
     "output_type": "execute_result"
    }
   ],
   "source": [
    "#list comprehension\n",
    "\n",
    "longi_2 = [\"larga\" if len(x) > 4 else \"corta\" for i in palabras]\n",
    "longi_2"
   ]
  },
  {
   "cell_type": "code",
   "execution_count": 76,
   "id": "09ddc67d",
   "metadata": {},
   "outputs": [
    {
     "data": {
      "text/plain": [
       "[[1, 2], [3, 4, 5, 6, 7], [8, 9, 10]]"
      ]
     },
     "execution_count": 76,
     "metadata": {},
     "output_type": "execute_result"
    }
   ],
   "source": [
    "#aplanando listas de listas\n",
    "\n",
    "lista_2d = [[1,2], [3,4,5,6,7], [8,9,10]]\n",
    "lista_2d"
   ]
  },
  {
   "cell_type": "code",
   "execution_count": 77,
   "id": "35d7479f",
   "metadata": {},
   "outputs": [
    {
     "data": {
      "text/plain": [
       "[1, 2, 3, 4, 5, 6, 7, 8, 9, 10]"
      ]
     },
     "execution_count": 77,
     "metadata": {},
     "output_type": "execute_result"
    }
   ],
   "source": [
    "#UNA UNICA LISTA\n",
    "\n",
    "#Tradicional\n",
    "aplanada = []\n",
    "for i in lista_2d:\n",
    "    aplanada.extend(i)\n",
    "aplanada"
   ]
  },
  {
   "cell_type": "code",
   "execution_count": 78,
   "id": "51a011c1",
   "metadata": {},
   "outputs": [
    {
     "name": "stdout",
     "output_type": "stream",
     "text": [
      "[1, 2]\n",
      "1\n",
      "2\n",
      "[3, 4, 5, 6, 7]\n",
      "3\n",
      "4\n",
      "5\n",
      "6\n",
      "7\n",
      "[8, 9, 10]\n",
      "8\n",
      "9\n",
      "10\n"
     ]
    },
    {
     "data": {
      "text/plain": [
       "[1, 2, 3, 4, 5, 6, 7, 8, 9, 10]"
      ]
     },
     "execution_count": 78,
     "metadata": {},
     "output_type": "execute_result"
    }
   ],
   "source": [
    "aplanada2 = []\n",
    "for i in lista_2d:\n",
    "    print(i)\n",
    "    for z in i:\n",
    "        print(z)\n",
    "        aplanada2.append(z)\n",
    "aplanada2"
   ]
  },
  {
   "cell_type": "code",
   "execution_count": 79,
   "id": "e46546f4",
   "metadata": {},
   "outputs": [
    {
     "data": {
      "text/plain": [
       "[1, 2, 3, 4, 5, 6, 7, 8, 9, 10]"
      ]
     },
     "execution_count": 79,
     "metadata": {},
     "output_type": "execute_result"
    }
   ],
   "source": [
    "aplanada3 = [num for sublista in lista_2d for num in sublista]\n",
    "aplanada3"
   ]
  },
  {
   "cell_type": "code",
   "execution_count": null,
   "id": "1b8dc5b2",
   "metadata": {},
   "outputs": [],
   "source": []
  }
 ],
 "metadata": {
  "kernelspec": {
   "display_name": "Python 3 (ipykernel)",
   "language": "python",
   "name": "python3"
  },
  "language_info": {
   "codemirror_mode": {
    "name": "ipython",
    "version": 3
   },
   "file_extension": ".py",
   "mimetype": "text/x-python",
   "name": "python",
   "nbconvert_exporter": "python",
   "pygments_lexer": "ipython3",
   "version": "3.9.7"
  }
 },
 "nbformat": 4,
 "nbformat_minor": 5
}
