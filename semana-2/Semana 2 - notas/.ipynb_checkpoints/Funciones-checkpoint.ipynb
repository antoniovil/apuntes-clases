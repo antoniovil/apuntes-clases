{
 "cells": [
  {
   "cell_type": "code",
   "execution_count": 1,
   "id": "7a1f531f",
   "metadata": {},
   "outputs": [],
   "source": [
    "#funciones\n",
    "#estructura de codigo que nos ayudan a no repetir el código\n",
    "#tiene que tener un return\n",
    "#requiere argumento\n",
    "#se puede gráficar, son universales "
   ]
  },
  {
   "cell_type": "code",
   "execution_count": 2,
   "id": "67a10f4b",
   "metadata": {},
   "outputs": [
    {
     "data": {
      "text/plain": [
       "builtin_function_or_method"
      ]
     },
     "execution_count": 2,
     "metadata": {},
     "output_type": "execute_result"
    }
   ],
   "source": [
    "#BUILT in functions\n",
    "type(len)"
   ]
  },
  {
   "cell_type": "code",
   "execution_count": 3,
   "id": "e85f0904",
   "metadata": {},
   "outputs": [],
   "source": [
    "#sintaxis básico\n",
    "\n",
    "def fahr_to_celcius(temp): #temp es parámetro\n",
    "    return ((temp-32) * (5/9))"
   ]
  },
  {
   "cell_type": "code",
   "execution_count": 4,
   "id": "fc309d9c",
   "metadata": {},
   "outputs": [
    {
     "data": {
      "text/plain": [
       "'me gusta python'"
      ]
     },
     "execution_count": 4,
     "metadata": {},
     "output_type": "execute_result"
    }
   ],
   "source": [
    "#variables locales\n",
    "\n",
    "def mi_funcion():\n",
    "    #variable local\n",
    "    verdad = \"me gusta python\"\n",
    "    return verdad\n",
    "\n",
    "mi_funcion()"
   ]
  },
  {
   "cell_type": "code",
   "execution_count": 5,
   "id": "c53330a3",
   "metadata": {},
   "outputs": [
    {
     "data": {
      "text/plain": [
       "'python es el mejor lenguaje'"
      ]
     },
     "execution_count": 5,
     "metadata": {},
     "output_type": "execute_result"
    }
   ],
   "source": [
    "#variables globales\n",
    "\n",
    "la_verdad = \"python es el mejor lenguaje\"\n",
    "\n",
    "def mi_funcion2():\n",
    "    return la_verdad\n",
    "\n",
    "mi_funcion2()"
   ]
  },
  {
   "cell_type": "code",
   "execution_count": 6,
   "id": "e151cb2d",
   "metadata": {},
   "outputs": [
    {
     "data": {
      "text/plain": [
       "'python es el mejor lenguajepython es el mejor lenguaje'"
      ]
     },
     "execution_count": 6,
     "metadata": {},
     "output_type": "execute_result"
    }
   ],
   "source": [
    "def mi_funcion3(a):\n",
    "    a = a * 2\n",
    "    return a\n",
    "\n",
    "mi_funcion3(la_verdad)\n",
    "#aca lo que hace es reemplazar a por la_verdad, reemplazando la variable. "
   ]
  },
  {
   "cell_type": "code",
   "execution_count": 7,
   "id": "b56ec3da",
   "metadata": {},
   "outputs": [
    {
     "name": "stdout",
     "output_type": "stream",
     "text": [
      "python es el mejor lenguaje\n"
     ]
    }
   ],
   "source": [
    "def mi_funcion3():\n",
    "    la_verdad = \"Hola\"\n",
    "    return la_verdad\n",
    "\n",
    "print(la_verdad)"
   ]
  },
  {
   "cell_type": "code",
   "execution_count": 8,
   "id": "985a6835",
   "metadata": {},
   "outputs": [
    {
     "data": {
      "text/plain": [
       "'Hola'"
      ]
     },
     "execution_count": 8,
     "metadata": {},
     "output_type": "execute_result"
    }
   ],
   "source": [
    "mi_funcion3()"
   ]
  },
  {
   "cell_type": "code",
   "execution_count": 9,
   "id": "90b3588e",
   "metadata": {},
   "outputs": [],
   "source": [
    "lst = [1,2,3,4]\n",
    "\n",
    "def multiplicacion(lista):\n",
    "    mult = []\n",
    "    for i in lista:\n",
    "        mult.append(i * 2)\n",
    "    return mult\n",
    "        "
   ]
  },
  {
   "cell_type": "code",
   "execution_count": 10,
   "id": "a18fa9c8",
   "metadata": {},
   "outputs": [
    {
     "data": {
      "text/plain": [
       "[2, 4, 6, 8]"
      ]
     },
     "execution_count": 10,
     "metadata": {},
     "output_type": "execute_result"
    }
   ],
   "source": [
    "multiplicacion(lst)"
   ]
  },
  {
   "cell_type": "code",
   "execution_count": 11,
   "id": "16b136e0",
   "metadata": {},
   "outputs": [
    {
     "data": {
      "text/plain": [
       "[1, 2, 3, 4]"
      ]
     },
     "execution_count": 11,
     "metadata": {},
     "output_type": "execute_result"
    }
   ],
   "source": [
    "lst"
   ]
  },
  {
   "cell_type": "code",
   "execution_count": 12,
   "id": "1e7f11af",
   "metadata": {},
   "outputs": [],
   "source": [
    "lst = multiplicacion(lst)"
   ]
  },
  {
   "cell_type": "code",
   "execution_count": 13,
   "id": "336baa50",
   "metadata": {},
   "outputs": [
    {
     "data": {
      "text/plain": [
       "[4, 8, 12, 16]"
      ]
     },
     "execution_count": 13,
     "metadata": {},
     "output_type": "execute_result"
    }
   ],
   "source": [
    "multiplicacion(lst)"
   ]
  },
  {
   "cell_type": "code",
   "execution_count": 14,
   "id": "61a744ff",
   "metadata": {},
   "outputs": [],
   "source": [
    "def multi(num):\n",
    "    tabla = []\n",
    "    for i in range(0,10):\n",
    "        tabla.append(num * i)\n",
    "    return tabla"
   ]
  },
  {
   "cell_type": "code",
   "execution_count": 15,
   "id": "ee654713",
   "metadata": {},
   "outputs": [
    {
     "data": {
      "text/plain": [
       "[0, 3, 6, 9, 12, 15, 18, 21, 24, 27]"
      ]
     },
     "execution_count": 15,
     "metadata": {},
     "output_type": "execute_result"
    }
   ],
   "source": [
    "multi(3)"
   ]
  },
  {
   "cell_type": "code",
   "execution_count": 16,
   "id": "6e4303d1",
   "metadata": {},
   "outputs": [
    {
     "name": "stdout",
     "output_type": "stream",
     "text": [
      "[0, 3, 6, 9, 12, 15, 18, 21, 24, 27]\n"
     ]
    }
   ],
   "source": [
    "tabla3 = multi(3)\n",
    "print(tabla3)"
   ]
  },
  {
   "cell_type": "code",
   "execution_count": 17,
   "id": "cb106022",
   "metadata": {},
   "outputs": [],
   "source": [
    "def saludo(nombre):\n",
    "    if len(nombre) > 4:\n",
    "        return \"Bienvenido\"\n",
    "    else:\n",
    "        return \"No te queremos aqui\""
   ]
  },
  {
   "cell_type": "code",
   "execution_count": 18,
   "id": "f933848c",
   "metadata": {},
   "outputs": [
    {
     "data": {
      "text/plain": [
       "'No te queremos aqui'"
      ]
     },
     "execution_count": 18,
     "metadata": {},
     "output_type": "execute_result"
    }
   ],
   "source": [
    "saludo(\"Ana\")"
   ]
  },
  {
   "cell_type": "code",
   "execution_count": 19,
   "id": "ce6c4599",
   "metadata": {},
   "outputs": [],
   "source": [
    "alumno_1 = 9\n",
    "alumno_2 = 7"
   ]
  },
  {
   "cell_type": "code",
   "execution_count": 20,
   "id": "c1a70779",
   "metadata": {},
   "outputs": [
    {
     "data": {
      "text/plain": [
       "16"
      ]
     },
     "execution_count": 20,
     "metadata": {},
     "output_type": "execute_result"
    }
   ],
   "source": [
    "suma = alumno_1 + alumno_2\n",
    "suma"
   ]
  },
  {
   "cell_type": "code",
   "execution_count": 21,
   "id": "1c0854ed",
   "metadata": {},
   "outputs": [
    {
     "data": {
      "text/plain": [
       "8.0"
      ]
     },
     "execution_count": 21,
     "metadata": {},
     "output_type": "execute_result"
    }
   ],
   "source": [
    "media = suma / 2\n",
    "media"
   ]
  },
  {
   "cell_type": "code",
   "execution_count": 22,
   "id": "6b36d74d",
   "metadata": {},
   "outputs": [],
   "source": [
    "def media(nota1, nota2):\n",
    "    return (nota1 + nota2) / 2\n"
   ]
  },
  {
   "cell_type": "code",
   "execution_count": 23,
   "id": "0cb0edca",
   "metadata": {},
   "outputs": [
    {
     "data": {
      "text/plain": [
       "3.0"
      ]
     },
     "execution_count": 23,
     "metadata": {},
     "output_type": "execute_result"
    }
   ],
   "source": [
    "media(1,5)"
   ]
  },
  {
   "cell_type": "code",
   "execution_count": 24,
   "id": "3daab8b9",
   "metadata": {},
   "outputs": [
    {
     "data": {
      "text/plain": [
       "5.833333333333333"
      ]
     },
     "execution_count": 24,
     "metadata": {},
     "output_type": "execute_result"
    }
   ],
   "source": [
    "import math as mt\n",
    "lista_notas = [6,7,3,9,5,5]\n",
    "\n",
    "def media2(x):\n",
    "    suma = sum(x)\n",
    "    total = len(x)\n",
    "    return suma/total \n",
    "\n",
    "media2(lista_notas)\n",
    "        "
   ]
  },
  {
   "cell_type": "code",
   "execution_count": 25,
   "id": "9195012b",
   "metadata": {},
   "outputs": [
    {
     "data": {
      "text/plain": [
       "5.833333333333333"
      ]
     },
     "execution_count": 25,
     "metadata": {},
     "output_type": "execute_result"
    }
   ],
   "source": [
    "suma = 0\n",
    "for i in lista_notas:\n",
    "    suma+= i\n",
    "suma / len (lista_notas)"
   ]
  },
  {
   "cell_type": "code",
   "execution_count": 26,
   "id": "1f821a0e",
   "metadata": {},
   "outputs": [],
   "source": [
    "frase = \"buenos días\""
   ]
  },
  {
   "cell_type": "code",
   "execution_count": 27,
   "id": "c8b978e9",
   "metadata": {},
   "outputs": [
    {
     "data": {
      "text/plain": [
       "'BUENOS DÍAS'"
      ]
     },
     "execution_count": 27,
     "metadata": {},
     "output_type": "execute_result"
    }
   ],
   "source": [
    "def mayus(x):\n",
    "    return x.upper()\n",
    "\n",
    "mayus(frase)"
   ]
  },
  {
   "cell_type": "code",
   "execution_count": 28,
   "id": "92b3d1c6",
   "metadata": {},
   "outputs": [],
   "source": [
    "frase = mayus(frase)"
   ]
  },
  {
   "cell_type": "code",
   "execution_count": 29,
   "id": "6c10dc31",
   "metadata": {},
   "outputs": [
    {
     "data": {
      "text/plain": [
       "'BUENOS DÍAS'"
      ]
     },
     "execution_count": 29,
     "metadata": {},
     "output_type": "execute_result"
    }
   ],
   "source": [
    "frase"
   ]
  },
  {
   "cell_type": "code",
   "execution_count": 30,
   "id": "2e8670e2",
   "metadata": {},
   "outputs": [],
   "source": [
    "def suma(parametro1, parametro2):\n",
    "    \"\"\"\n",
    "    Lo que hace la función\n",
    "    Args: (los parámetros que recibe)\n",
    "        parametro1 (tipo): que es\n",
    "        parámetro2 (tipo): que es\n",
    "    Returns: \n",
    "        Lo que nos devuelve la función\n",
    "    \"\"\"\n",
    "    return parametro1 + parametro2"
   ]
  },
  {
   "cell_type": "code",
   "execution_count": 31,
   "id": "c09733db",
   "metadata": {},
   "outputs": [],
   "source": [
    "def cuadrado(x):\n",
    "    \"\"\"\n",
    "    Calcula el cuadrado de un número que le pasemos\n",
    "    Args: \n",
    "        x (int or float): el número que elevaremos al cuadrado\n",
    "    Returns:\n",
    "        int or float: el cuadrado del número que hemos pasado\n",
    "    \"\"\"\n",
    "    return x ** 2"
   ]
  },
  {
   "cell_type": "code",
   "execution_count": 32,
   "id": "b57b19cc",
   "metadata": {},
   "outputs": [
    {
     "name": "stdout",
     "output_type": "stream",
     "text": [
      "\n",
      "    Calcula el cuadrado de un número que le pasemos\n",
      "    Args: \n",
      "        x (int or float): el número que elevaremos al cuadrado\n",
      "    Returns:\n",
      "        int or float: el cuadrado del número que hemos pasado\n",
      "    \n"
     ]
    }
   ],
   "source": [
    "print(cuadrado.__doc__)"
   ]
  },
  {
   "cell_type": "code",
   "execution_count": 33,
   "id": "1d1a79b6",
   "metadata": {},
   "outputs": [
    {
     "data": {
      "text/plain": [
       "25"
      ]
     },
     "execution_count": 33,
     "metadata": {},
     "output_type": "execute_result"
    }
   ],
   "source": [
    "cuadrado(5)"
   ]
  },
  {
   "cell_type": "code",
   "execution_count": 34,
   "id": "011aa709",
   "metadata": {},
   "outputs": [],
   "source": [
    "lst = [1,1,2,3,4,45,45,67,88,89]"
   ]
  },
  {
   "cell_type": "code",
   "execution_count": 35,
   "id": "7eb248de",
   "metadata": {},
   "outputs": [],
   "source": [
    "def no_duplicados(jamon):\n",
    "    return set(jamon)"
   ]
  },
  {
   "cell_type": "code",
   "execution_count": 36,
   "id": "7147bfe0",
   "metadata": {},
   "outputs": [
    {
     "data": {
      "text/plain": [
       "{1, 2, 3, 4, 45, 67, 88, 89}"
      ]
     },
     "execution_count": 36,
     "metadata": {},
     "output_type": "execute_result"
    }
   ],
   "source": [
    "no_duplicados(lst)"
   ]
  },
  {
   "cell_type": "code",
   "execution_count": 37,
   "id": "460a3cdc",
   "metadata": {},
   "outputs": [
    {
     "data": {
      "text/plain": [
       "[2, 3, 4, 67, 88, 89]"
      ]
     },
     "execution_count": 37,
     "metadata": {},
     "output_type": "execute_result"
    }
   ],
   "source": [
    "def no_dup(jamon):\n",
    "    unicos = []\n",
    "    for i in jamon:\n",
    "        if jamon.count(i) == 1:\n",
    "            unicos.append(i)\n",
    "    return unicos\n",
    "\n",
    "no_dup(lst)"
   ]
  },
  {
   "cell_type": "code",
   "execution_count": 38,
   "id": "cd8bd25b",
   "metadata": {},
   "outputs": [],
   "source": [
    "#funciones sin parámetros\n",
    "\n",
    "from datetime import datetime"
   ]
  },
  {
   "cell_type": "code",
   "execution_count": 39,
   "id": "06ff7592",
   "metadata": {},
   "outputs": [],
   "source": [
    "now = datetime.today() "
   ]
  },
  {
   "cell_type": "code",
   "execution_count": 40,
   "id": "a13fd6f4",
   "metadata": {},
   "outputs": [
    {
     "data": {
      "text/plain": [
       "datetime.datetime(2022, 1, 22, 13, 17, 33, 564464)"
      ]
     },
     "execution_count": 40,
     "metadata": {},
     "output_type": "execute_result"
    }
   ],
   "source": [
    "now"
   ]
  },
  {
   "cell_type": "code",
   "execution_count": 41,
   "id": "1e5d9e9c",
   "metadata": {},
   "outputs": [],
   "source": [
    "def hoy():\n",
    "    return datetime.today()"
   ]
  },
  {
   "cell_type": "code",
   "execution_count": 42,
   "id": "b7f5e77f",
   "metadata": {},
   "outputs": [
    {
     "data": {
      "text/plain": [
       "'Saturday'"
      ]
     },
     "execution_count": 42,
     "metadata": {},
     "output_type": "execute_result"
    }
   ],
   "source": [
    "now.strftime(\"%A\")"
   ]
  },
  {
   "cell_type": "code",
   "execution_count": 43,
   "id": "f197b11c",
   "metadata": {},
   "outputs": [
    {
     "data": {
      "text/plain": [
       "'January'"
      ]
     },
     "execution_count": 43,
     "metadata": {},
     "output_type": "execute_result"
    }
   ],
   "source": [
    "now.strftime(\"%B\")"
   ]
  },
  {
   "cell_type": "code",
   "execution_count": 44,
   "id": "ce90a34b",
   "metadata": {},
   "outputs": [],
   "source": [
    "#funciones que devuelven elementos\n",
    "\n",
    "def desguazar (num1, num2):\n",
    "    resultado = num1 // num2\n",
    "    resto = num1 % num2 \n",
    "    return resultado, resto"
   ]
  },
  {
   "cell_type": "code",
   "execution_count": 45,
   "id": "2883f85d",
   "metadata": {},
   "outputs": [
    {
     "data": {
      "text/plain": [
       "(4, 3)"
      ]
     },
     "execution_count": 45,
     "metadata": {},
     "output_type": "execute_result"
    }
   ],
   "source": [
    "desguazar(23,5)"
   ]
  },
  {
   "cell_type": "code",
   "execution_count": 46,
   "id": "f08c3955",
   "metadata": {},
   "outputs": [],
   "source": [
    "import math as mt"
   ]
  },
  {
   "cell_type": "code",
   "execution_count": 47,
   "id": "10b7b7bc",
   "metadata": {},
   "outputs": [
    {
     "data": {
      "text/plain": [
       "8.0"
      ]
     },
     "execution_count": 47,
     "metadata": {},
     "output_type": "execute_result"
    }
   ],
   "source": [
    "mt.sqrt(64)"
   ]
  },
  {
   "cell_type": "code",
   "execution_count": 48,
   "id": "21114b99",
   "metadata": {},
   "outputs": [],
   "source": [
    "#almacenar resultado\n",
    "\n",
    "jamon, broccoli = desguazar(23,5)"
   ]
  },
  {
   "cell_type": "code",
   "execution_count": 49,
   "id": "b807baa3",
   "metadata": {},
   "outputs": [
    {
     "data": {
      "text/plain": [
       "4"
      ]
     },
     "execution_count": 49,
     "metadata": {},
     "output_type": "execute_result"
    }
   ],
   "source": [
    "jamon"
   ]
  },
  {
   "cell_type": "code",
   "execution_count": 50,
   "id": "22123821",
   "metadata": {},
   "outputs": [
    {
     "data": {
      "text/plain": [
       "3"
      ]
     },
     "execution_count": 50,
     "metadata": {},
     "output_type": "execute_result"
    }
   ],
   "source": [
    "broccoli"
   ]
  },
  {
   "cell_type": "code",
   "execution_count": 51,
   "id": "2bbef7a4",
   "metadata": {},
   "outputs": [],
   "source": [
    "#parametros por defecto\n",
    "\n",
    "def buenos_dias (nombre, saludo = \"buenos días\"):\n",
    "    frase = f\"Hola {nombre} {saludo}\"\n",
    "    return frase"
   ]
  },
  {
   "cell_type": "code",
   "execution_count": 52,
   "id": "ba576aca",
   "metadata": {},
   "outputs": [
    {
     "data": {
      "text/plain": [
       "'Hola Antonio buenos días'"
      ]
     },
     "execution_count": 52,
     "metadata": {},
     "output_type": "execute_result"
    }
   ],
   "source": [
    "buenos_dias(\"Antonio\")"
   ]
  },
  {
   "cell_type": "code",
   "execution_count": 53,
   "id": "f5d98d5f",
   "metadata": {},
   "outputs": [],
   "source": [
    "def calculadora(num1,num2, operacion = \"multiplicacion\"):\n",
    "    if operacion == \"multiplicacion\":\n",
    "        return num1 * num2\n",
    "    elif operacion == \"suma\":\n",
    "        return num1 + num2"
   ]
  },
  {
   "cell_type": "code",
   "execution_count": 54,
   "id": "dcaace8a",
   "metadata": {},
   "outputs": [
    {
     "data": {
      "text/plain": [
       "6"
      ]
     },
     "execution_count": 54,
     "metadata": {},
     "output_type": "execute_result"
    }
   ],
   "source": [
    "calculadora(2,3)"
   ]
  },
  {
   "cell_type": "code",
   "execution_count": 55,
   "id": "c706fb89",
   "metadata": {},
   "outputs": [
    {
     "data": {
      "text/plain": [
       "5"
      ]
     },
     "execution_count": 55,
     "metadata": {},
     "output_type": "execute_result"
    }
   ],
   "source": [
    "calculadora(2,3,\"suma\")"
   ]
  },
  {
   "cell_type": "code",
   "execution_count": 56,
   "id": "53f9ad0a",
   "metadata": {
    "scrolled": true
   },
   "outputs": [
    {
     "data": {
      "text/plain": [
       "6"
      ]
     },
     "execution_count": 56,
     "metadata": {},
     "output_type": "execute_result"
    }
   ],
   "source": [
    "#ARGS Y KARGS!!!!!! Mega importante! \n",
    "\n",
    "#definimos una funcion que nos sume 3 numeros\n",
    "\n",
    "def suma(a,b,c):\n",
    "    return a + b + c\n",
    "suma(1,2,3)"
   ]
  },
  {
   "cell_type": "code",
   "execution_count": 57,
   "id": "7562d405",
   "metadata": {},
   "outputs": [],
   "source": [
    "numeros = [1,2,3,4,6,23,6,213,12,52]"
   ]
  },
  {
   "cell_type": "code",
   "execution_count": 58,
   "id": "137d3dd9",
   "metadata": {},
   "outputs": [],
   "source": [
    "def suma2(*args):\n",
    "    suma = 0\n",
    "    for i in args:\n",
    "        suma += i\n",
    "    return suma"
   ]
  },
  {
   "cell_type": "code",
   "execution_count": 59,
   "id": "09922b47",
   "metadata": {},
   "outputs": [
    {
     "data": {
      "text/plain": [
       "322"
      ]
     },
     "execution_count": 59,
     "metadata": {},
     "output_type": "execute_result"
    }
   ],
   "source": [
    "suma2(*numeros)"
   ]
  },
  {
   "cell_type": "code",
   "execution_count": 60,
   "id": "f882d532",
   "metadata": {},
   "outputs": [],
   "source": [
    "def suma3 (lista_):\n",
    "    suma = 0\n",
    "    for i in lista_:\n",
    "        suma += i\n",
    "    return suma"
   ]
  },
  {
   "cell_type": "code",
   "execution_count": 61,
   "id": "2de8b372",
   "metadata": {},
   "outputs": [
    {
     "data": {
      "text/plain": [
       "322"
      ]
     },
     "execution_count": 61,
     "metadata": {},
     "output_type": "execute_result"
    }
   ],
   "source": [
    "suma3(numeros)"
   ]
  },
  {
   "cell_type": "code",
   "execution_count": 62,
   "id": "602fa214",
   "metadata": {},
   "outputs": [
    {
     "name": "stdout",
     "output_type": "stream",
     "text": [
      "0\n",
      "1\n",
      "2\n",
      "3\n",
      "4\n",
      "5\n",
      "6\n",
      "7\n",
      "8\n",
      "9\n"
     ]
    }
   ],
   "source": [
    "for i in range(len(numeros)):\n",
    "    print(i)"
   ]
  },
  {
   "cell_type": "code",
   "execution_count": 63,
   "id": "91a0c90a",
   "metadata": {},
   "outputs": [],
   "source": [
    "#KWARGS!\n",
    "\n",
    "diccionario = {'brocoli': 1.50, \n",
    "              'chorizo': 4.5, \n",
    "              'zanahoria': 1.30, \n",
    "              'jamon': 7.90}"
   ]
  },
  {
   "cell_type": "code",
   "execution_count": 64,
   "id": "6913e52e",
   "metadata": {},
   "outputs": [],
   "source": [
    "def precio (**kwargs):\n",
    "    for k, v in kwargs.items():\n",
    "        print(k,\"----->\",v)"
   ]
  },
  {
   "cell_type": "code",
   "execution_count": 65,
   "id": "0b4b1884",
   "metadata": {},
   "outputs": [
    {
     "name": "stdout",
     "output_type": "stream",
     "text": [
      "brocoli -----> 1.5\n",
      "chorizo -----> 4.5\n",
      "zanahoria -----> 1.3\n",
      "jamon -----> 7.9\n"
     ]
    }
   ],
   "source": [
    "precio(**diccionario)"
   ]
  },
  {
   "cell_type": "code",
   "execution_count": 66,
   "id": "848cfbe8",
   "metadata": {},
   "outputs": [],
   "source": [
    "#SI JUNTAMOS ARGS CON KWARS!!!!\n",
    "\n",
    "alimentos = [\"broccoli\", \"chorizo\"]\n",
    "precios = [1.5,3]\n"
   ]
  },
  {
   "cell_type": "code",
   "execution_count": 67,
   "id": "0404058e",
   "metadata": {},
   "outputs": [],
   "source": [
    "##def (*args, **kwargs)\n",
    "\n",
    "def precio3 (*args, **kwargs):\n",
    "    total = []\n",
    "    count = 0\n",
    "    for k, v in kwargs.items():\n",
    "        total.append(kwargs[k] * args[count])\n",
    "        count += 1\n",
    "    return sum(total)"
   ]
  },
  {
   "cell_type": "code",
   "execution_count": 68,
   "id": "7d06e3bc",
   "metadata": {},
   "outputs": [
    {
     "data": {
      "text/plain": [
       "39.75"
      ]
     },
     "execution_count": 68,
     "metadata": {},
     "output_type": "execute_result"
    }
   ],
   "source": [
    "precio3(2,1,0.5,4,**diccionario)"
   ]
  },
  {
   "cell_type": "code",
   "execution_count": 69,
   "id": "abdeeacf",
   "metadata": {},
   "outputs": [],
   "source": [
    "#RECURSIVIDAD \n",
    "\n",
    "def cuenta_atras(start):\n",
    "    print(start)\n",
    "    next_ = start - 1\n",
    "    if next_ > 0:\n",
    "        cuenta_atras(next_)"
   ]
  },
  {
   "cell_type": "code",
   "execution_count": 70,
   "id": "a0242db1",
   "metadata": {},
   "outputs": [
    {
     "name": "stdout",
     "output_type": "stream",
     "text": [
      "3\n",
      "2\n",
      "1\n"
     ]
    }
   ],
   "source": [
    "cuenta_atras(3)"
   ]
  },
  {
   "cell_type": "code",
   "execution_count": 71,
   "id": "ba444c32",
   "metadata": {},
   "outputs": [],
   "source": [
    "#LAMBDA!!!!! List comprehension de funciones\n",
    "\n",
    "#Visto de otra forma, la sintaxis de una lambda es:\n",
    "\n",
    "#lambda parámetro_1, parámetro_2: action(parámetro_1, parámetro_2)\n",
    "\n",
    "# también puede tener parámetros por defecto\n",
    "#lambda parámetro_1, parámetro_2='valor_por_defecto': action(parámetro_1, parámetro_2)"
   ]
  },
  {
   "cell_type": "code",
   "execution_count": 73,
   "id": "08198495",
   "metadata": {},
   "outputs": [
    {
     "data": {
      "text/plain": [
       "<function __main__.<lambda>(a, b)>"
      ]
     },
     "execution_count": 73,
     "metadata": {},
     "output_type": "execute_result"
    }
   ],
   "source": [
    "lambda a,b: a+b"
   ]
  },
  {
   "cell_type": "code",
   "execution_count": 79,
   "id": "ed98076c",
   "metadata": {},
   "outputs": [
    {
     "name": "stdout",
     "output_type": "stream",
     "text": [
      "25\n",
      "25\n"
     ]
    }
   ],
   "source": [
    "#funcion\n",
    "\n",
    "def cuadrado(x):\n",
    "    return x ** 2\n",
    "print(cuadrado(5))\n",
    "\n",
    "cuadrados2 = lambda x : x ** 2\n",
    "print(cuadrados2(5))"
   ]
  },
  {
   "cell_type": "code",
   "execution_count": 87,
   "id": "cdf32046",
   "metadata": {},
   "outputs": [
    {
     "name": "stdout",
     "output_type": "stream",
     "text": [
      "Antonio, que tal estas?\n",
      "Antonio, que tal estas?\n"
     ]
    }
   ],
   "source": [
    "#funcion original\n",
    "def saludo (nombre, texto = \"que tal estas?\"):\n",
    "    return f\"{nombre}, {texto}\"\n",
    "print(saludo(\"Antonio\"))\n",
    "\n",
    "#lambda\n",
    "\n",
    "saludo2 = lambda nombre, texto = \"que tal estas?\" : f\"{nombre}, {texto}\"\n",
    "print(saludo2(\"Antonio\"))"
   ]
  },
  {
   "cell_type": "code",
   "execution_count": 88,
   "id": "d511446d",
   "metadata": {},
   "outputs": [
    {
     "data": {
      "text/plain": [
       "8"
      ]
     },
     "execution_count": 88,
     "metadata": {},
     "output_type": "execute_result"
    }
   ],
   "source": [
    "#lambda 2 parametros\n",
    "\n",
    "def mult (a,b):\n",
    "    return a*b\n",
    "mult(2,4)"
   ]
  },
  {
   "cell_type": "code",
   "execution_count": 89,
   "id": "534afcf8",
   "metadata": {},
   "outputs": [
    {
     "data": {
      "text/plain": [
       "8"
      ]
     },
     "execution_count": 89,
     "metadata": {},
     "output_type": "execute_result"
    }
   ],
   "source": [
    "#lambda \n",
    "mulp2 = lambda a,b : a*b\n",
    "mulp2(2,4)"
   ]
  },
  {
   "cell_type": "code",
   "execution_count": 92,
   "id": "98e4a019",
   "metadata": {},
   "outputs": [],
   "source": [
    "import random"
   ]
  },
  {
   "cell_type": "code",
   "execution_count": 98,
   "id": "31c65457",
   "metadata": {},
   "outputs": [
    {
     "data": {
      "text/plain": [
       "[15, 44, 13, 41, 2, 47, 18, 23, 31, 42, 10, 11, 3, 39, 8, 34, 20, 32, 26, 21]"
      ]
     },
     "execution_count": 98,
     "metadata": {},
     "output_type": "execute_result"
    }
   ],
   "source": [
    "list = random.sample(range(1,50),20)\n",
    "list"
   ]
  },
  {
   "cell_type": "code",
   "execution_count": 99,
   "id": "50b5dcbe",
   "metadata": {},
   "outputs": [],
   "source": [
    "#funcion\n",
    "def impares (lst):\n",
    "    impares = []\n",
    "    for i in lst:\n",
    "        if i % 2 != 0:\n",
    "            impares.append(i)\n",
    "    return impares"
   ]
  },
  {
   "cell_type": "code",
   "execution_count": 100,
   "id": "6d18e39a",
   "metadata": {},
   "outputs": [
    {
     "data": {
      "text/plain": [
       "[15, 13, 41, 47, 23, 31, 11, 3, 39, 21]"
      ]
     },
     "execution_count": 100,
     "metadata": {},
     "output_type": "execute_result"
    }
   ],
   "source": [
    "impares(list)"
   ]
  },
  {
   "cell_type": "code",
   "execution_count": 103,
   "id": "758c75db",
   "metadata": {},
   "outputs": [],
   "source": [
    "#Lambda\n",
    "\n",
    "list_ = [i for i in list if i % 2 != 0]"
   ]
  },
  {
   "cell_type": "code",
   "execution_count": 108,
   "id": "2c4c5373",
   "metadata": {},
   "outputs": [
    {
     "data": {
      "text/plain": [
       "[15, 13, 41, 47, 23, 31, 11, 3, 39, 21]"
      ]
     },
     "execution_count": 108,
     "metadata": {},
     "output_type": "execute_result"
    }
   ],
   "source": [
    "impares2 = lambda num: [i for i in list if i % 2 != 0]\n",
    "impares2(list)"
   ]
  }
 ],
 "metadata": {
  "kernelspec": {
   "display_name": "Python 3 (ipykernel)",
   "language": "python",
   "name": "python3"
  },
  "language_info": {
   "codemirror_mode": {
    "name": "ipython",
    "version": 3
   },
   "file_extension": ".py",
   "mimetype": "text/x-python",
   "name": "python",
   "nbconvert_exporter": "python",
   "pygments_lexer": "ipython3",
   "version": "3.9.7"
  }
 },
 "nbformat": 4,
 "nbformat_minor": 5
}
