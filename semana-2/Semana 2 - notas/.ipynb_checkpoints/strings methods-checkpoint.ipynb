{
 "cells": [
  {
   "cell_type": "code",
   "execution_count": 1,
   "id": "aa464f1e",
   "metadata": {},
   "outputs": [],
   "source": [
    "string = \"python and data science\""
   ]
  },
  {
   "cell_type": "code",
   "execution_count": 2,
   "id": "17885eb3",
   "metadata": {},
   "outputs": [
    {
     "data": {
      "text/plain": [
       "'PYTHON AND DATA SCIENCE'"
      ]
     },
     "execution_count": 2,
     "metadata": {},
     "output_type": "execute_result"
    }
   ],
   "source": [
    "string.upper() #variable no declarad, entonces se mantiene el original"
   ]
  },
  {
   "cell_type": "code",
   "execution_count": 3,
   "id": "4da37d36",
   "metadata": {},
   "outputs": [],
   "source": [
    "string2 = string.upper()"
   ]
  },
  {
   "cell_type": "code",
   "execution_count": 4,
   "id": "4d360687",
   "metadata": {},
   "outputs": [
    {
     "name": "stdout",
     "output_type": "stream",
     "text": [
      "PYTHON AND DATA SCIENCE\n"
     ]
    }
   ],
   "source": [
    "print(string2)"
   ]
  },
  {
   "cell_type": "code",
   "execution_count": 5,
   "id": "85ecd9ab",
   "metadata": {},
   "outputs": [
    {
     "data": {
      "text/plain": [
       "False"
      ]
     },
     "execution_count": 5,
     "metadata": {},
     "output_type": "execute_result"
    }
   ],
   "source": [
    "string.isupper()"
   ]
  },
  {
   "cell_type": "code",
   "execution_count": 6,
   "id": "9131f4a6",
   "metadata": {},
   "outputs": [
    {
     "data": {
      "text/plain": [
       "True"
      ]
     },
     "execution_count": 6,
     "metadata": {},
     "output_type": "execute_result"
    }
   ],
   "source": [
    "string2.isupper()"
   ]
  },
  {
   "cell_type": "code",
   "execution_count": 7,
   "id": "639e233f",
   "metadata": {},
   "outputs": [
    {
     "data": {
      "text/plain": [
       "'python and data science'"
      ]
     },
     "execution_count": 7,
     "metadata": {},
     "output_type": "execute_result"
    }
   ],
   "source": [
    "#lower\n",
    "string2.lower()"
   ]
  },
  {
   "cell_type": "code",
   "execution_count": 8,
   "id": "a751ab73",
   "metadata": {},
   "outputs": [
    {
     "data": {
      "text/plain": [
       "True"
      ]
     },
     "execution_count": 8,
     "metadata": {},
     "output_type": "execute_result"
    }
   ],
   "source": [
    "string.islower()"
   ]
  },
  {
   "cell_type": "code",
   "execution_count": 9,
   "id": "e472bb3e",
   "metadata": {},
   "outputs": [
    {
     "data": {
      "text/plain": [
       "'Python and data science'"
      ]
     },
     "execution_count": 9,
     "metadata": {},
     "output_type": "execute_result"
    }
   ],
   "source": [
    "string.capitalize() #poner en mayuscula la primera letra de tu string. "
   ]
  },
  {
   "cell_type": "code",
   "execution_count": 10,
   "id": "10e457fe",
   "metadata": {},
   "outputs": [
    {
     "data": {
      "text/plain": [
       "1"
      ]
     },
     "execution_count": 10,
     "metadata": {},
     "output_type": "execute_result"
    }
   ],
   "source": [
    "string.count(\"python\")"
   ]
  },
  {
   "cell_type": "code",
   "execution_count": 11,
   "id": "87440938",
   "metadata": {},
   "outputs": [
    {
     "data": {
      "text/plain": [
       "3"
      ]
     },
     "execution_count": 11,
     "metadata": {},
     "output_type": "execute_result"
    }
   ],
   "source": [
    "string.count(\"n\")"
   ]
  },
  {
   "cell_type": "code",
   "execution_count": 12,
   "id": "d3547da3",
   "metadata": {},
   "outputs": [
    {
     "data": {
      "text/plain": [
       "'Python And Data Science'"
      ]
     },
     "execution_count": 12,
     "metadata": {},
     "output_type": "execute_result"
    }
   ],
   "source": [
    "string.title() #todas las primeras palabras son mayúscula"
   ]
  },
  {
   "cell_type": "code",
   "execution_count": 13,
   "id": "32c7ebf4",
   "metadata": {},
   "outputs": [
    {
     "data": {
      "text/plain": [
       "4"
      ]
     },
     "execution_count": 13,
     "metadata": {},
     "output_type": "execute_result"
    }
   ],
   "source": [
    "string.find(\"o\") #posición de donde el valor indicado se encuentra por primera vez. "
   ]
  },
  {
   "cell_type": "code",
   "execution_count": 14,
   "id": "9c2a891f",
   "metadata": {},
   "outputs": [
    {
     "data": {
      "text/plain": [
       "7"
      ]
     },
     "execution_count": 14,
     "metadata": {},
     "output_type": "execute_result"
    }
   ],
   "source": [
    "string.find(\"a\")"
   ]
  },
  {
   "cell_type": "code",
   "execution_count": 15,
   "id": "4fb07bf3",
   "metadata": {},
   "outputs": [
    {
     "data": {
      "text/plain": [
       "12"
      ]
     },
     "execution_count": 15,
     "metadata": {},
     "output_type": "execute_result"
    }
   ],
   "source": [
    "string.find(\"a\", 8) #el número despues es la posición que inicia a contar. "
   ]
  },
  {
   "cell_type": "code",
   "execution_count": 16,
   "id": "dc118157",
   "metadata": {},
   "outputs": [
    {
     "data": {
      "text/plain": [
       "-1"
      ]
     },
     "execution_count": 16,
     "metadata": {},
     "output_type": "execute_result"
    }
   ],
   "source": [
    "string.find(\"asd\") #-1 es error!!!! "
   ]
  },
  {
   "cell_type": "code",
   "execution_count": 17,
   "id": "40790dbc",
   "metadata": {},
   "outputs": [
    {
     "data": {
      "text/plain": [
       "False"
      ]
     },
     "execution_count": 17,
     "metadata": {},
     "output_type": "execute_result"
    }
   ],
   "source": [
    "string.isnumeric()"
   ]
  },
  {
   "cell_type": "code",
   "execution_count": 18,
   "id": "d9df68cc",
   "metadata": {},
   "outputs": [
    {
     "data": {
      "text/plain": [
       "False"
      ]
     },
     "execution_count": 18,
     "metadata": {},
     "output_type": "execute_result"
    }
   ],
   "source": [
    "string.isalpha()"
   ]
  },
  {
   "cell_type": "code",
   "execution_count": 19,
   "id": "7e3282f8",
   "metadata": {},
   "outputs": [
    {
     "data": {
      "text/plain": [
       "'python and data science'"
      ]
     },
     "execution_count": 19,
     "metadata": {},
     "output_type": "execute_result"
    }
   ],
   "source": [
    "string"
   ]
  },
  {
   "cell_type": "code",
   "execution_count": 20,
   "id": "026eade1",
   "metadata": {},
   "outputs": [
    {
     "data": {
      "text/plain": [
       "'pythonanddatascience'"
      ]
     },
     "execution_count": 20,
     "metadata": {},
     "output_type": "execute_result"
    }
   ],
   "source": [
    "#reemplazar espacios por nada\n",
    "\n",
    "string_sin_espa = string.replace(\" \",\"\")\n",
    "string_sin_espa "
   ]
  },
  {
   "cell_type": "code",
   "execution_count": 21,
   "id": "78dbe54d",
   "metadata": {},
   "outputs": [
    {
     "data": {
      "text/plain": [
       "True"
      ]
     },
     "execution_count": 21,
     "metadata": {},
     "output_type": "execute_result"
    }
   ],
   "source": [
    "string_sin_espa.isalpha()"
   ]
  },
  {
   "cell_type": "code",
   "execution_count": 22,
   "id": "fa572fc3",
   "metadata": {},
   "outputs": [
    {
     "data": {
      "text/plain": [
       "False"
      ]
     },
     "execution_count": 22,
     "metadata": {},
     "output_type": "execute_result"
    }
   ],
   "source": [
    "#isalnum\n",
    "string.isalnum()"
   ]
  },
  {
   "cell_type": "code",
   "execution_count": 23,
   "id": "5b741fde",
   "metadata": {},
   "outputs": [
    {
     "data": {
      "text/plain": [
       "'python and data science'"
      ]
     },
     "execution_count": 23,
     "metadata": {},
     "output_type": "execute_result"
    }
   ],
   "source": [
    "string"
   ]
  },
  {
   "cell_type": "code",
   "execution_count": 24,
   "id": "883b7570",
   "metadata": {},
   "outputs": [
    {
     "name": "stdout",
     "output_type": "stream",
     "text": [
      "True\n",
      "False\n"
     ]
    }
   ],
   "source": [
    "print(string.startswith(\"py\")) #todo el string como un elemento. Case sensitive. \n",
    "print(string.startswith(\"d\"))"
   ]
  },
  {
   "cell_type": "code",
   "execution_count": 25,
   "id": "f69d95c4",
   "metadata": {},
   "outputs": [
    {
     "data": {
      "text/plain": [
       "True"
      ]
     },
     "execution_count": 25,
     "metadata": {},
     "output_type": "execute_result"
    }
   ],
   "source": [
    "string.endswith(\"e\") #todo el string como un elemento. Case sensitive. "
   ]
  },
  {
   "cell_type": "code",
   "execution_count": 26,
   "id": "c93a3f1e",
   "metadata": {},
   "outputs": [
    {
     "data": {
      "text/plain": [
       "['hola', 'mundo,', 'somos', 'programadores']"
      ]
     },
     "execution_count": 26,
     "metadata": {},
     "output_type": "execute_result"
    }
   ],
   "source": [
    "string2 = \"hola mundo, somos programadores\"\n",
    "string2.split() #los split siempre devuelven lista!!!!"
   ]
  },
  {
   "cell_type": "code",
   "execution_count": 27,
   "id": "11449461",
   "metadata": {},
   "outputs": [],
   "source": [
    "string3 = string2.split(\",\") #indexar cual de los elementos que has dividido quieres ver. "
   ]
  },
  {
   "cell_type": "code",
   "execution_count": 28,
   "id": "02b311c6",
   "metadata": {},
   "outputs": [
    {
     "data": {
      "text/plain": [
       "['hola mundo', ' somos programadores']"
      ]
     },
     "execution_count": 28,
     "metadata": {},
     "output_type": "execute_result"
    }
   ],
   "source": [
    "string3"
   ]
  },
  {
   "cell_type": "code",
   "execution_count": 29,
   "id": "196913b5",
   "metadata": {},
   "outputs": [
    {
     "name": "stdout",
     "output_type": "stream",
     "text": [
      "hola \n"
     ]
    }
   ],
   "source": [
    "#partition\n",
    "\n",
    "string_tupla = string2.partition(\"mundo\")[0]\n",
    "print(string_tupla)"
   ]
  },
  {
   "cell_type": "code",
   "execution_count": 30,
   "id": "31a832b4",
   "metadata": {},
   "outputs": [],
   "source": [
    "#JOIN !! cuando haces join en un diccionario, pone las keys!\n",
    "\n",
    "string3\n",
    "string7 = \"\".join(string3)\n",
    "\n"
   ]
  },
  {
   "cell_type": "code",
   "execution_count": 31,
   "id": "5b55f89e",
   "metadata": {},
   "outputs": [
    {
     "name": "stdout",
     "output_type": "stream",
     "text": [
      "{'hola': 1, 'holis': 2}\n"
     ]
    }
   ],
   "source": [
    "#para un Diccionario\n",
    "diccionario = {\"hola\":1,\"holis\":2}\n",
    "print(diccionario)"
   ]
  },
  {
   "cell_type": "code",
   "execution_count": 32,
   "id": "6a0ca70d",
   "metadata": {},
   "outputs": [
    {
     "data": {
      "text/plain": [
       "'holaholis'"
      ]
     },
     "execution_count": 32,
     "metadata": {},
     "output_type": "execute_result"
    }
   ],
   "source": [
    "\"\".join(diccionario) #defecto por las keys"
   ]
  },
  {
   "cell_type": "code",
   "execution_count": 33,
   "id": "2bb1877a",
   "metadata": {},
   "outputs": [
    {
     "data": {
      "text/plain": [
       "'hola mundo, somos programadores'"
      ]
     },
     "execution_count": 33,
     "metadata": {},
     "output_type": "execute_result"
    }
   ],
   "source": [
    "string2"
   ]
  },
  {
   "cell_type": "code",
   "execution_count": 34,
   "id": "4280215c",
   "metadata": {},
   "outputs": [],
   "source": [
    "string8 = [\"estamos añadiendo cosas\"]"
   ]
  },
  {
   "cell_type": "code",
   "execution_count": 35,
   "id": "c144a668",
   "metadata": {},
   "outputs": [],
   "source": [
    "stringnuevo = \"    hola que hace somos programadores, y tu----\""
   ]
  },
  {
   "cell_type": "code",
   "execution_count": 36,
   "id": "3fe47cf8",
   "metadata": {},
   "outputs": [
    {
     "data": {
      "text/plain": [
       "'    hola que hace somos programadores, y tu----'"
      ]
     },
     "execution_count": 36,
     "metadata": {},
     "output_type": "execute_result"
    }
   ],
   "source": [
    "stringnuevo"
   ]
  },
  {
   "cell_type": "code",
   "execution_count": 37,
   "id": "1cd62f36",
   "metadata": {},
   "outputs": [
    {
     "data": {
      "text/plain": [
       "'hola que hace somos programadores, y tu'"
      ]
     },
     "execution_count": 37,
     "metadata": {},
     "output_type": "execute_result"
    }
   ],
   "source": [
    "stringnuevo.strip().strip(\"-\")"
   ]
  },
  {
   "cell_type": "code",
   "execution_count": 38,
   "id": "a5702086",
   "metadata": {},
   "outputs": [
    {
     "data": {
      "text/plain": [
       "'    hola que hace somos programadores, y tu----'"
      ]
     },
     "execution_count": 38,
     "metadata": {},
     "output_type": "execute_result"
    }
   ],
   "source": [
    "#rstrip \n",
    "#como el strip pero unicamente lo que esta en la derecha\n",
    "\n",
    "stringnuevo"
   ]
  },
  {
   "cell_type": "code",
   "execution_count": 39,
   "id": "d9ae87d9",
   "metadata": {},
   "outputs": [
    {
     "data": {
      "text/plain": [
       "'-----Hola Mundooo'"
      ]
     },
     "execution_count": 39,
     "metadata": {},
     "output_type": "execute_result"
    }
   ],
   "source": [
    "string3 = \"-----Hola Mundooo----\"\n",
    "string3.rstrip(\"-\")"
   ]
  },
  {
   "cell_type": "code",
   "execution_count": 40,
   "id": "df948ed7",
   "metadata": {},
   "outputs": [
    {
     "data": {
      "text/plain": [
       "'    hJla que hace sJmJs prJgramadJres, y tu----'"
      ]
     },
     "execution_count": 40,
     "metadata": {},
     "output_type": "execute_result"
    }
   ],
   "source": [
    "#REPLACE!!\n",
    "\n",
    "stringnuevo\n",
    "stringnuevo.replace(\"o\",\"J\").replace(\"i\",\"k\")\n",
    "\n",
    "#time to do practice excercises!!!!"
   ]
  }
 ],
 "metadata": {
  "kernelspec": {
   "display_name": "Python 3 (ipykernel)",
   "language": "python",
   "name": "python3"
  },
  "language_info": {
   "codemirror_mode": {
    "name": "ipython",
    "version": 3
   },
   "file_extension": ".py",
   "mimetype": "text/x-python",
   "name": "python",
   "nbconvert_exporter": "python",
   "pygments_lexer": "ipython3",
   "version": "3.9.7"
  }
 },
 "nbformat": 4,
 "nbformat_minor": 5
}
