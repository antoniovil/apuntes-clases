{
 "cells": [
  {
   "cell_type": "code",
   "execution_count": 3,
   "id": "a4dca192",
   "metadata": {},
   "outputs": [
    {
     "ename": "SyntaxError",
     "evalue": "EOL while scanning string literal (Temp/ipykernel_15216/764166517.py, line 5)",
     "output_type": "error",
     "traceback": [
      "\u001b[1;36m  File \u001b[1;32m\"C:\\Users\\anton\\AppData\\Local\\Temp/ipykernel_15216/764166517.py\"\u001b[1;36m, line \u001b[1;32m5\u001b[0m\n\u001b[1;33m    print(\"hola')\u001b[0m\n\u001b[1;37m                 ^\u001b[0m\n\u001b[1;31mSyntaxError\u001b[0m\u001b[1;31m:\u001b[0m EOL while scanning string literal\n"
     ]
    }
   ],
   "source": [
    "#syntax error\n",
    "#algo que nosotros hemos escrito mal\n",
    "#error es error-1\n",
    "\n",
    "print(\"hola')"
   ]
  },
  {
   "cell_type": "code",
   "execution_count": 4,
   "id": "5cb4b156",
   "metadata": {},
   "outputs": [
    {
     "ename": "TypeError",
     "evalue": "unsupported operand type(s) for -: 'str' and 'int'",
     "output_type": "error",
     "traceback": [
      "\u001b[1;31m---------------------------------------------------------------------------\u001b[0m",
      "\u001b[1;31mTypeError\u001b[0m                                 Traceback (most recent call last)",
      "\u001b[1;32m~\\AppData\\Local\\Temp/ipykernel_15216/162902092.py\u001b[0m in \u001b[0;36m<module>\u001b[1;34m\u001b[0m\n\u001b[0;32m      3\u001b[0m \u001b[0msaludo\u001b[0m \u001b[1;33m=\u001b[0m \u001b[1;34m\"hola majos\"\u001b[0m\u001b[1;33m\u001b[0m\u001b[1;33m\u001b[0m\u001b[0m\n\u001b[0;32m      4\u001b[0m \u001b[1;33m\u001b[0m\u001b[0m\n\u001b[1;32m----> 5\u001b[1;33m \u001b[0msaludo\u001b[0m \u001b[1;33m-\u001b[0m \u001b[1;36m1\u001b[0m\u001b[1;33m\u001b[0m\u001b[1;33m\u001b[0m\u001b[0m\n\u001b[0m",
      "\u001b[1;31mTypeError\u001b[0m: unsupported operand type(s) for -: 'str' and 'int'"
     ]
    }
   ],
   "source": [
    "#excepciones\n",
    "\n",
    "#Typerror:\n",
    "\n",
    "saludo = \"hola majos\"\n",
    "\n",
    "saludo - 1"
   ]
  },
  {
   "cell_type": "code",
   "execution_count": 5,
   "id": "d67c1053",
   "metadata": {},
   "outputs": [
    {
     "ename": "ZeroDivisionError",
     "evalue": "division by zero",
     "output_type": "error",
     "traceback": [
      "\u001b[1;31m---------------------------------------------------------------------------\u001b[0m",
      "\u001b[1;31mZeroDivisionError\u001b[0m                         Traceback (most recent call last)",
      "\u001b[1;32m~\\AppData\\Local\\Temp/ipykernel_15216/3227585923.py\u001b[0m in \u001b[0;36m<module>\u001b[1;34m\u001b[0m\n\u001b[0;32m      4\u001b[0m \u001b[1;33m\u001b[0m\u001b[0m\n\u001b[0;32m      5\u001b[0m \u001b[1;32mfor\u001b[0m \u001b[0mi\u001b[0m \u001b[1;32min\u001b[0m \u001b[0mrange\u001b[0m\u001b[1;33m(\u001b[0m\u001b[1;33m-\u001b[0m\u001b[1;36m1\u001b[0m\u001b[1;33m,\u001b[0m\u001b[1;36m5\u001b[0m\u001b[1;33m)\u001b[0m\u001b[1;33m:\u001b[0m\u001b[1;33m\u001b[0m\u001b[1;33m\u001b[0m\u001b[0m\n\u001b[1;32m----> 6\u001b[1;33m     \u001b[0mdivisiones\u001b[0m\u001b[1;33m.\u001b[0m\u001b[0mappend\u001b[0m\u001b[1;33m(\u001b[0m\u001b[1;36m2\u001b[0m \u001b[1;33m/\u001b[0m \u001b[0mi\u001b[0m\u001b[1;33m)\u001b[0m\u001b[1;33m\u001b[0m\u001b[1;33m\u001b[0m\u001b[0m\n\u001b[0m\u001b[0;32m      7\u001b[0m \u001b[1;33m\u001b[0m\u001b[0m\n\u001b[0;32m      8\u001b[0m \u001b[0mprint\u001b[0m\u001b[1;33m(\u001b[0m\u001b[0mdivisiones\u001b[0m\u001b[1;33m)\u001b[0m\u001b[1;33m\u001b[0m\u001b[1;33m\u001b[0m\u001b[0m\n",
      "\u001b[1;31mZeroDivisionError\u001b[0m: division by zero"
     ]
    }
   ],
   "source": [
    "#zerodivisionerror\n",
    "\n",
    "divisiones = []\n",
    "\n",
    "for i in range(-1,5):\n",
    "    divisiones.append(2 / i)\n",
    "    \n",
    "print(divisiones)"
   ]
  },
  {
   "cell_type": "code",
   "execution_count": 6,
   "id": "a721176d",
   "metadata": {},
   "outputs": [
    {
     "data": {
      "text/plain": [
       "'A'"
      ]
     },
     "execution_count": 6,
     "metadata": {},
     "output_type": "execute_result"
    }
   ],
   "source": [
    "#indexerror\n",
    "\n",
    "letters = [\"A\", \"B\", \"C\"]\n",
    "letters[0]"
   ]
  },
  {
   "cell_type": "code",
   "execution_count": 7,
   "id": "990eadb7",
   "metadata": {},
   "outputs": [
    {
     "ename": "IndexError",
     "evalue": "list index out of range",
     "output_type": "error",
     "traceback": [
      "\u001b[1;31m---------------------------------------------------------------------------\u001b[0m",
      "\u001b[1;31mIndexError\u001b[0m                                Traceback (most recent call last)",
      "\u001b[1;32m~\\AppData\\Local\\Temp/ipykernel_15216/1041981562.py\u001b[0m in \u001b[0;36m<module>\u001b[1;34m\u001b[0m\n\u001b[1;32m----> 1\u001b[1;33m \u001b[0mletters\u001b[0m\u001b[1;33m[\u001b[0m\u001b[1;36m10\u001b[0m\u001b[1;33m]\u001b[0m\u001b[1;33m\u001b[0m\u001b[1;33m\u001b[0m\u001b[0m\n\u001b[0m",
      "\u001b[1;31mIndexError\u001b[0m: list index out of range"
     ]
    }
   ],
   "source": [
    "letters[10]"
   ]
  },
  {
   "cell_type": "code",
   "execution_count": 8,
   "id": "344de493",
   "metadata": {},
   "outputs": [
    {
     "ename": "KeyError",
     "evalue": "'Hola'",
     "output_type": "error",
     "traceback": [
      "\u001b[1;31m---------------------------------------------------------------------------\u001b[0m",
      "\u001b[1;31mKeyError\u001b[0m                                  Traceback (most recent call last)",
      "\u001b[1;32m~\\AppData\\Local\\Temp/ipykernel_15216/2619484941.py\u001b[0m in \u001b[0;36m<module>\u001b[1;34m\u001b[0m\n\u001b[0;32m      3\u001b[0m                 \u001b[1;34m\"Rafa\"\u001b[0m\u001b[1;33m:\u001b[0m \u001b[1;34m\"Kenia\"\u001b[0m\u001b[1;33m,\u001b[0m\u001b[1;33m\u001b[0m\u001b[1;33m\u001b[0m\u001b[0m\n\u001b[0;32m      4\u001b[0m                 \"Lorenzo\": \"Perú\"}\n\u001b[1;32m----> 5\u001b[1;33m \u001b[0mdiccionario\u001b[0m\u001b[1;33m[\u001b[0m\u001b[1;34m\"Hola\"\u001b[0m\u001b[1;33m]\u001b[0m\u001b[1;33m\u001b[0m\u001b[1;33m\u001b[0m\u001b[0m\n\u001b[0m\u001b[0;32m      6\u001b[0m \u001b[1;31m#error en las llaves que  no existe.\u001b[0m\u001b[1;33m\u001b[0m\u001b[1;33m\u001b[0m\u001b[0m\n",
      "\u001b[1;31mKeyError\u001b[0m: 'Hola'"
     ]
    }
   ],
   "source": [
    "#keyerror \n",
    "diccionario = {\"Ana\": \"Islandia\", \n",
    "                \"Rafa\": \"Kenia\", \n",
    "                \"Lorenzo\": \"Perú\"}\n",
    "diccionario[\"Hola\"]\n",
    "#error en las llaves que  no existe. "
   ]
  },
  {
   "cell_type": "code",
   "execution_count": 11,
   "id": "8c489c75",
   "metadata": {},
   "outputs": [
    {
     "ename": "AttributeError",
     "evalue": "'int' object has no attribute 'append'",
     "output_type": "error",
     "traceback": [
      "\u001b[1;31m---------------------------------------------------------------------------\u001b[0m",
      "\u001b[1;31mAttributeError\u001b[0m                            Traceback (most recent call last)",
      "\u001b[1;32m~\\AppData\\Local\\Temp/ipykernel_15216/1282201361.py\u001b[0m in \u001b[0;36m<module>\u001b[1;34m\u001b[0m\n\u001b[0;32m      2\u001b[0m \u001b[1;33m\u001b[0m\u001b[0m\n\u001b[0;32m      3\u001b[0m \u001b[0mx\u001b[0m \u001b[1;33m=\u001b[0m \u001b[1;36m10\u001b[0m\u001b[1;33m\u001b[0m\u001b[1;33m\u001b[0m\u001b[0m\n\u001b[1;32m----> 4\u001b[1;33m \u001b[0mx\u001b[0m\u001b[1;33m.\u001b[0m\u001b[0mappend\u001b[0m\u001b[1;33m(\u001b[0m\u001b[1;34m\"a\"\u001b[0m\u001b[1;33m)\u001b[0m\u001b[1;33m\u001b[0m\u001b[1;33m\u001b[0m\u001b[0m\n\u001b[0m",
      "\u001b[1;31mAttributeError\u001b[0m: 'int' object has no attribute 'append'"
     ]
    }
   ],
   "source": [
    "#attributeerror\n",
    "\n",
    "x = 10\n",
    "x.append(\"a\")"
   ]
  },
  {
   "cell_type": "code",
   "execution_count": 14,
   "id": "cab495db",
   "metadata": {},
   "outputs": [],
   "source": [
    "#filenotfounderror\n",
    "import pandas as pd"
   ]
  },
  {
   "cell_type": "code",
   "execution_count": 29,
   "id": "e15a0f85",
   "metadata": {},
   "outputs": [],
   "source": [
    "#Definición de errores\n",
    "#RAISE\n",
    "\n",
    "num = 10\n",
    "mensaje = \"hola\""
   ]
  },
  {
   "cell_type": "code",
   "execution_count": 30,
   "id": "ae006476",
   "metadata": {},
   "outputs": [
    {
     "ename": "TypeError",
     "evalue": "unsupported operand type(s) for +: 'int' and 'str'",
     "output_type": "error",
     "traceback": [
      "\u001b[1;31m---------------------------------------------------------------------------\u001b[0m",
      "\u001b[1;31mTypeError\u001b[0m                                 Traceback (most recent call last)",
      "\u001b[1;32m~\\AppData\\Local\\Temp/ipykernel_15216/361429852.py\u001b[0m in \u001b[0;36m<module>\u001b[1;34m\u001b[0m\n\u001b[1;32m----> 1\u001b[1;33m \u001b[0mnum\u001b[0m \u001b[1;33m+\u001b[0m \u001b[0mmensaje\u001b[0m\u001b[1;33m\u001b[0m\u001b[1;33m\u001b[0m\u001b[0m\n\u001b[0m",
      "\u001b[1;31mTypeError\u001b[0m: unsupported operand type(s) for +: 'int' and 'str'"
     ]
    }
   ],
   "source": [
    "num + mensaje"
   ]
  },
  {
   "cell_type": "code",
   "execution_count": 31,
   "id": "34875893",
   "metadata": {},
   "outputs": [
    {
     "ename": "Exception",
     "evalue": "oye majo a dormir",
     "output_type": "error",
     "traceback": [
      "\u001b[1;31m---------------------------------------------------------------------------\u001b[0m",
      "\u001b[1;31mException\u001b[0m                                 Traceback (most recent call last)",
      "\u001b[1;32m~\\AppData\\Local\\Temp/ipykernel_15216/3548416515.py\u001b[0m in \u001b[0;36m<module>\u001b[1;34m\u001b[0m\n\u001b[0;32m      1\u001b[0m \u001b[1;32mif\u001b[0m \u001b[0mtype\u001b[0m\u001b[1;33m(\u001b[0m\u001b[0mmensaje\u001b[0m\u001b[1;33m)\u001b[0m \u001b[1;33m!=\u001b[0m \u001b[0mint\u001b[0m\u001b[1;33m:\u001b[0m\u001b[1;33m\u001b[0m\u001b[1;33m\u001b[0m\u001b[0m\n\u001b[1;32m----> 2\u001b[1;33m     \u001b[1;32mraise\u001b[0m \u001b[0mException\u001b[0m \u001b[1;33m(\u001b[0m\u001b[1;34m\"oye majo a dormir\"\u001b[0m\u001b[1;33m)\u001b[0m\u001b[1;33m\u001b[0m\u001b[1;33m\u001b[0m\u001b[0m\n\u001b[0m\u001b[0;32m      3\u001b[0m \u001b[1;32melse\u001b[0m\u001b[1;33m:\u001b[0m\u001b[1;33m\u001b[0m\u001b[1;33m\u001b[0m\u001b[0m\n\u001b[0;32m      4\u001b[0m     \u001b[0mprint\u001b[0m\u001b[1;33m(\u001b[0m\u001b[0mmensaje\u001b[0m \u001b[1;33m+\u001b[0m \u001b[0mnum\u001b[0m\u001b[1;33m)\u001b[0m\u001b[1;33m\u001b[0m\u001b[1;33m\u001b[0m\u001b[0m\n",
      "\u001b[1;31mException\u001b[0m: oye majo a dormir"
     ]
    }
   ],
   "source": [
    "if type(mensaje) != int:\n",
    "    raise Exception (\"oye majo a dormir\")\n",
    "else:\n",
    "    print(mensaje + num)"
   ]
  },
  {
   "cell_type": "code",
   "execution_count": 32,
   "id": "096a1861",
   "metadata": {},
   "outputs": [],
   "source": [
    "#Control de errores\n",
    "\n",
    "#try:\n",
    "       # Some Code.... \n",
    "\n",
    "#except:\n",
    "       # optional block\n",
    "       # Handling of exception (if required)\n"
   ]
  },
  {
   "cell_type": "code",
   "execution_count": 42,
   "id": "bcb0f516",
   "metadata": {},
   "outputs": [
    {
     "name": "stdout",
     "output_type": "stream",
     "text": [
      "no se puede dividir entre 0\n",
      "[-0.6666666666666666, -1.0, -2.0, 'aquí va el', 2.0, 1.0, 0.6666666666666666, 0.5]\n"
     ]
    }
   ],
   "source": [
    "divisiones = []\n",
    "for i in range(-3, 5):\n",
    "    try:\n",
    "        divisiones.append(2/i)\n",
    "    except:\n",
    "        print(f'no se puede dividir entre {i}')\n",
    "        divisiones.append(\"aquí va el\")\n",
    "\n",
    "print(divisiones)"
   ]
  },
  {
   "cell_type": "code",
   "execution_count": 43,
   "id": "d4dfb9c9",
   "metadata": {},
   "outputs": [
    {
     "ename": "NameError",
     "evalue": "name 'dia' is not defined",
     "output_type": "error",
     "traceback": [
      "\u001b[1;31m---------------------------------------------------------------------------\u001b[0m",
      "\u001b[1;31mNameError\u001b[0m                                 Traceback (most recent call last)",
      "\u001b[1;32m~\\AppData\\Local\\Temp/ipykernel_15216/2996648550.py\u001b[0m in \u001b[0;36m<module>\u001b[1;34m\u001b[0m\n\u001b[1;32m----> 1\u001b[1;33m \u001b[0mprint\u001b[0m\u001b[1;33m(\u001b[0m\u001b[0mdia\u001b[0m\u001b[1;33m)\u001b[0m\u001b[1;33m\u001b[0m\u001b[1;33m\u001b[0m\u001b[0m\n\u001b[0m",
      "\u001b[1;31mNameError\u001b[0m: name 'dia' is not defined"
     ]
    }
   ],
   "source": [
    "print(dia)"
   ]
  },
  {
   "cell_type": "code",
   "execution_count": 44,
   "id": "2114bb59",
   "metadata": {},
   "outputs": [
    {
     "name": "stdout",
     "output_type": "stream",
     "text": [
      "no\n"
     ]
    }
   ],
   "source": [
    "try:\n",
    "    print(dia)\n",
    "except:\n",
    "    print(\"no\")"
   ]
  },
  {
   "cell_type": "code",
   "execution_count": 48,
   "id": "1b67bb22",
   "metadata": {},
   "outputs": [],
   "source": [
    "dia2 = 15"
   ]
  },
  {
   "cell_type": "code",
   "execution_count": 50,
   "id": "a2bca7a3",
   "metadata": {},
   "outputs": [
    {
     "name": "stdout",
     "output_type": "stream",
     "text": [
      "no puedes sumar string y numeros\n"
     ]
    }
   ],
   "source": [
    "try:\n",
    "    resultado = dia2 + \"hola\"\n",
    "except NameError: #hay que poner el tipo de error por cada except que va a tener. \n",
    "    print(\"no definida\")\n",
    "except TypeError:\n",
    "    #resultado = dia2 + \"hola\"\n",
    "    print(\"no puedes sumar string y numeros\")"
   ]
  },
  {
   "cell_type": "code",
   "execution_count": 51,
   "id": "1be0e0a2",
   "metadata": {},
   "outputs": [
    {
     "name": "stdout",
     "output_type": "stream",
     "text": [
      "Yeah ! Your answer is : -1.3333333333333333\n",
      "Yeah ! Your answer is : -2.0\n",
      "Yeah ! Your answer is : -4.0\n",
      "Sorry ! You are dividing by zero \n",
      "Yeah ! Your answer is : 4.0\n",
      "Yeah ! Your answer is : 2.0\n",
      "Yeah ! Your answer is : 1.3333333333333333\n",
      "Yeah ! Your answer is : 1.0\n"
     ]
    }
   ],
   "source": [
    "#try: # este bloque chequeará si hay algún error en nuestro código. \n",
    "\n",
    "    # PASAN COSAS.... \n",
    "\n",
    "#except: # manejamos el error.\n",
    "\n",
    "    # CÓDIGO DE BLOQUE OPCIONAL MANEJANDO EL ERROR\n",
    "\n",
    "#else: # si no hay ninguna excepción este bloque será ejecutado.\n",
    "\n",
    "    # PASAN OTRAS COSAS\n",
    "for i in range(-3, 5): \n",
    "    try:\n",
    "        result = 2 / i\n",
    "    except ZeroDivisionError:\n",
    "        print(\"Sorry ! You are dividing by zero \")\n",
    "    else:\n",
    "        result *=2\n",
    "        print(\"Yeah ! Your answer is :\", result)"
   ]
  },
  {
   "cell_type": "code",
   "execution_count": 52,
   "id": "e8627dee",
   "metadata": {},
   "outputs": [
    {
     "name": "stdout",
     "output_type": "stream",
     "text": [
      "Yeah ! Your answer is : -1.3333333333333333\n",
      "esto siempre se ejecuta\n",
      "Yeah ! Your answer is : -2.0\n",
      "esto siempre se ejecuta\n",
      "Yeah ! Your answer is : -4.0\n",
      "esto siempre se ejecuta\n",
      "Sorry ! You are dividing by zero \n",
      "esto siempre se ejecuta\n",
      "Yeah ! Your answer is : 4.0\n",
      "esto siempre se ejecuta\n",
      "Yeah ! Your answer is : 2.0\n",
      "esto siempre se ejecuta\n",
      "Yeah ! Your answer is : 1.3333333333333333\n",
      "esto siempre se ejecuta\n",
      "Yeah ! Your answer is : 1.0\n",
      "esto siempre se ejecuta\n"
     ]
    }
   ],
   "source": [
    "#finally: # este código siempre se ejecutará haya errror o no\n",
    "\n",
    "    # PASAN COSAS. SIEMPRE SE VA A EJECUTAR\n",
    "    \n",
    "for i in range(-3, 5): \n",
    "    try:\n",
    "        result = 2 / i\n",
    "    except ZeroDivisionError:\n",
    "        print(\"Sorry ! You are dividing by zero \")\n",
    "    else:\n",
    "        result *=2\n",
    "        print(\"Yeah ! Your answer is :\", result)\n",
    "    finally: \n",
    "        print('esto siempre se ejecuta')"
   ]
  },
  {
   "cell_type": "code",
   "execution_count": null,
   "id": "b67c5ce2",
   "metadata": {},
   "outputs": [],
   "source": []
  }
 ],
 "metadata": {
  "kernelspec": {
   "display_name": "Python 3 (ipykernel)",
   "language": "python",
   "name": "python3"
  },
  "language_info": {
   "codemirror_mode": {
    "name": "ipython",
    "version": 3
   },
   "file_extension": ".py",
   "mimetype": "text/x-python",
   "name": "python",
   "nbconvert_exporter": "python",
   "pygments_lexer": "ipython3",
   "version": "3.9.7"
  }
 },
 "nbformat": 4,
 "nbformat_minor": 5
}
