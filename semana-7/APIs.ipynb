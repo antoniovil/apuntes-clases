{
 "cells": [
  {
   "cell_type": "markdown",
   "id": "d4bdd561",
   "metadata": {},
   "source": [
    "**API**"
   ]
  },
  {
   "cell_type": "code",
   "execution_count": 1,
   "id": "abbdfe97",
   "metadata": {},
   "outputs": [],
   "source": [
    "import pandas as pd\n",
    "import requests"
   ]
  },
  {
   "cell_type": "code",
   "execution_count": 2,
   "id": "755172c6",
   "metadata": {
    "scrolled": true
   },
   "outputs": [
    {
     "data": {
      "text/html": [
       "<div>\n",
       "<style scoped>\n",
       "    .dataframe tbody tr th:only-of-type {\n",
       "        vertical-align: middle;\n",
       "    }\n",
       "\n",
       "    .dataframe tbody tr th {\n",
       "        vertical-align: top;\n",
       "    }\n",
       "\n",
       "    .dataframe thead th {\n",
       "        text-align: right;\n",
       "    }\n",
       "</style>\n",
       "<table border=\"1\" class=\"dataframe\">\n",
       "  <thead>\n",
       "    <tr style=\"text-align: right;\">\n",
       "      <th></th>\n",
       "      <th>Title</th>\n",
       "      <th>Videourl</th>\n",
       "      <th>Category</th>\n",
       "      <th>Description</th>\n",
       "    </tr>\n",
       "  </thead>\n",
       "  <tbody>\n",
       "    <tr>\n",
       "      <th>0</th>\n",
       "      <td>Madagascar Street Food!!! Super RARE Malagasy ...</td>\n",
       "      <td>/watch?v=EwBA1fOQ96c</td>\n",
       "      <td>Food</td>\n",
       "      <td>🎥GIANT ALIEN SNAIL IN JAPAN! » https://youtu.b...</td>\n",
       "    </tr>\n",
       "    <tr>\n",
       "      <th>1</th>\n",
       "      <td>42 Foods You Need To Eat Before You Die</td>\n",
       "      <td>/watch?v=0SPwwpruGIA</td>\n",
       "      <td>Food</td>\n",
       "      <td>This is the ultimate must-try food bucket list...</td>\n",
       "    </tr>\n",
       "    <tr>\n",
       "      <th>2</th>\n",
       "      <td>Gordon Ramsay’s Top 5 Indian Dishes</td>\n",
       "      <td>/watch?v=upfu5nQB2ks</td>\n",
       "      <td>Food</td>\n",
       "      <td>We found 5 of the best and most interesting In...</td>\n",
       "    </tr>\n",
       "    <tr>\n",
       "      <th>3</th>\n",
       "      <td>How To Use Chopsticks - In About A Minute 🍜</td>\n",
       "      <td>/watch?v=xFRzzSF_6gk</td>\n",
       "      <td>Food</td>\n",
       "      <td>You're most likely sitting in a restaurant wit...</td>\n",
       "    </tr>\n",
       "    <tr>\n",
       "      <th>4</th>\n",
       "      <td>Trying Indian Food 1st Time!</td>\n",
       "      <td>/watch?v=K79bXtaRwcM</td>\n",
       "      <td>Food</td>\n",
       "      <td>HELP SUPPORT SINSTV!! Shop Our Sponsors!\\nLast...</td>\n",
       "    </tr>\n",
       "  </tbody>\n",
       "</table>\n",
       "</div>"
      ],
      "text/plain": [
       "                                               Title              Videourl  \\\n",
       "0  Madagascar Street Food!!! Super RARE Malagasy ...  /watch?v=EwBA1fOQ96c   \n",
       "1            42 Foods You Need To Eat Before You Die  /watch?v=0SPwwpruGIA   \n",
       "2                Gordon Ramsay’s Top 5 Indian Dishes  /watch?v=upfu5nQB2ks   \n",
       "3        How To Use Chopsticks - In About A Minute 🍜  /watch?v=xFRzzSF_6gk   \n",
       "4                       Trying Indian Food 1st Time!  /watch?v=K79bXtaRwcM   \n",
       "\n",
       "  Category                                        Description  \n",
       "0     Food  🎥GIANT ALIEN SNAIL IN JAPAN! » https://youtu.b...  \n",
       "1     Food  This is the ultimate must-try food bucket list...  \n",
       "2     Food  We found 5 of the best and most interesting In...  \n",
       "3     Food  You're most likely sitting in a restaurant wit...  \n",
       "4     Food  HELP SUPPORT SINSTV!! Shop Our Sponsors!\\nLast...  "
      ]
     },
     "execution_count": 2,
     "metadata": {},
     "output_type": "execute_result"
    }
   ],
   "source": [
    "df = pd.read_csv(\"data/youtube.csv\")\n",
    "df.head()"
   ]
  },
  {
   "cell_type": "code",
   "execution_count": 3,
   "id": "1f67de4c",
   "metadata": {},
   "outputs": [
    {
     "data": {
      "text/plain": [
       "True"
      ]
     },
     "execution_count": 3,
     "metadata": {},
     "output_type": "execute_result"
    }
   ],
   "source": [
    "import os \n",
    "from dotenv import load_dotenv\n",
    "\n",
    "load_dotenv()"
   ]
  },
  {
   "cell_type": "code",
   "execution_count": 4,
   "id": "16df9f8e",
   "metadata": {},
   "outputs": [],
   "source": [
    "token = os.getenv(\"YOUTUBE_APIKEY\")"
   ]
  },
  {
   "cell_type": "code",
   "execution_count": 5,
   "id": "861e5b67",
   "metadata": {},
   "outputs": [
    {
     "data": {
      "text/plain": [
       "'/watch?v=EwBA1fOQ96c'"
      ]
     },
     "execution_count": 5,
     "metadata": {},
     "output_type": "execute_result"
    }
   ],
   "source": [
    "id_ = df.Videourl[0]\n",
    "id_"
   ]
  },
  {
   "cell_type": "code",
   "execution_count": 6,
   "id": "054ad3db",
   "metadata": {},
   "outputs": [],
   "source": [
    "id_ = id_.split('=')[1]"
   ]
  },
  {
   "cell_type": "code",
   "execution_count": 7,
   "id": "f5f4d19e",
   "metadata": {},
   "outputs": [],
   "source": [
    "#definimos la url de la request \n",
    "\n",
    "endpoint = \"https://www.googleapis.com/youtube/v3/videos\"\n",
    "\n",
    "#parametros\n",
    "\n",
    "params = {'part':'contentDetails',\n",
    "         'id': id_,\n",
    "         'key': token}"
   ]
  },
  {
   "cell_type": "code",
   "execution_count": 8,
   "id": "608b0d13",
   "metadata": {},
   "outputs": [],
   "source": [
    "res = requests.get(endpoint,params)"
   ]
  },
  {
   "cell_type": "code",
   "execution_count": 9,
   "id": "5304fff4",
   "metadata": {},
   "outputs": [
    {
     "data": {
      "text/plain": [
       "200"
      ]
     },
     "execution_count": 9,
     "metadata": {},
     "output_type": "execute_result"
    }
   ],
   "source": [
    "res.status_code"
   ]
  },
  {
   "cell_type": "code",
   "execution_count": 10,
   "id": "e8de1bad",
   "metadata": {},
   "outputs": [
    {
     "data": {
      "text/plain": [
       "{'kind': 'youtube#videoListResponse',\n",
       " 'etag': '0zcuVm7JVaTPS09esJ15cCuihZQ',\n",
       " 'items': [{'kind': 'youtube#video',\n",
       "   'etag': 'IQITEUl6cBsuX06yFZXn3TAS4Qc',\n",
       "   'id': 'EwBA1fOQ96c',\n",
       "   'contentDetails': {'duration': 'PT15M44S',\n",
       "    'dimension': '2d',\n",
       "    'definition': 'hd',\n",
       "    'caption': 'true',\n",
       "    'licensedContent': True,\n",
       "    'contentRating': {},\n",
       "    'projection': 'rectangular'}}],\n",
       " 'pageInfo': {'totalResults': 1, 'resultsPerPage': 1}}"
      ]
     },
     "execution_count": 10,
     "metadata": {},
     "output_type": "execute_result"
    }
   ],
   "source": [
    "res.json()"
   ]
  },
  {
   "cell_type": "code",
   "execution_count": 11,
   "id": "66209541",
   "metadata": {},
   "outputs": [
    {
     "data": {
      "text/html": [
       "<div>\n",
       "<style scoped>\n",
       "    .dataframe tbody tr th:only-of-type {\n",
       "        vertical-align: middle;\n",
       "    }\n",
       "\n",
       "    .dataframe tbody tr th {\n",
       "        vertical-align: top;\n",
       "    }\n",
       "\n",
       "    .dataframe thead th {\n",
       "        text-align: right;\n",
       "    }\n",
       "</style>\n",
       "<table border=\"1\" class=\"dataframe\">\n",
       "  <thead>\n",
       "    <tr style=\"text-align: right;\">\n",
       "      <th></th>\n",
       "      <th>Title</th>\n",
       "      <th>Videourl</th>\n",
       "      <th>Category</th>\n",
       "      <th>Description</th>\n",
       "    </tr>\n",
       "  </thead>\n",
       "  <tbody>\n",
       "    <tr>\n",
       "      <th>0</th>\n",
       "      <td>Madagascar Street Food!!! Super RARE Malagasy ...</td>\n",
       "      <td>/watch?v=EwBA1fOQ96c</td>\n",
       "      <td>Food</td>\n",
       "      <td>🎥GIANT ALIEN SNAIL IN JAPAN! » https://youtu.b...</td>\n",
       "    </tr>\n",
       "  </tbody>\n",
       "</table>\n",
       "</div>"
      ],
      "text/plain": [
       "                                               Title              Videourl  \\\n",
       "0  Madagascar Street Food!!! Super RARE Malagasy ...  /watch?v=EwBA1fOQ96c   \n",
       "\n",
       "  Category                                        Description  \n",
       "0     Food  🎥GIANT ALIEN SNAIL IN JAPAN! » https://youtu.b...  "
      ]
     },
     "execution_count": 11,
     "metadata": {},
     "output_type": "execute_result"
    }
   ],
   "source": [
    "df.head(1)"
   ]
  },
  {
   "cell_type": "code",
   "execution_count": 12,
   "id": "5802a923",
   "metadata": {},
   "outputs": [],
   "source": [
    "df['id_'] = df['Videourl'].apply(lambda x: x.split('=')[1])"
   ]
  },
  {
   "cell_type": "code",
   "execution_count": 13,
   "id": "dfcb09e7",
   "metadata": {},
   "outputs": [
    {
     "data": {
      "text/html": [
       "<div>\n",
       "<style scoped>\n",
       "    .dataframe tbody tr th:only-of-type {\n",
       "        vertical-align: middle;\n",
       "    }\n",
       "\n",
       "    .dataframe tbody tr th {\n",
       "        vertical-align: top;\n",
       "    }\n",
       "\n",
       "    .dataframe thead th {\n",
       "        text-align: right;\n",
       "    }\n",
       "</style>\n",
       "<table border=\"1\" class=\"dataframe\">\n",
       "  <thead>\n",
       "    <tr style=\"text-align: right;\">\n",
       "      <th></th>\n",
       "      <th>Title</th>\n",
       "      <th>Videourl</th>\n",
       "      <th>Category</th>\n",
       "      <th>Description</th>\n",
       "      <th>id_</th>\n",
       "    </tr>\n",
       "  </thead>\n",
       "  <tbody>\n",
       "    <tr>\n",
       "      <th>0</th>\n",
       "      <td>Madagascar Street Food!!! Super RARE Malagasy ...</td>\n",
       "      <td>/watch?v=EwBA1fOQ96c</td>\n",
       "      <td>Food</td>\n",
       "      <td>🎥GIANT ALIEN SNAIL IN JAPAN! » https://youtu.b...</td>\n",
       "      <td>EwBA1fOQ96c</td>\n",
       "    </tr>\n",
       "  </tbody>\n",
       "</table>\n",
       "</div>"
      ],
      "text/plain": [
       "                                               Title              Videourl  \\\n",
       "0  Madagascar Street Food!!! Super RARE Malagasy ...  /watch?v=EwBA1fOQ96c   \n",
       "\n",
       "  Category                                        Description          id_  \n",
       "0     Food  🎥GIANT ALIEN SNAIL IN JAPAN! » https://youtu.b...  EwBA1fOQ96c  "
      ]
     },
     "execution_count": 13,
     "metadata": {},
     "output_type": "execute_result"
    }
   ],
   "source": [
    "df.head(1)"
   ]
  },
  {
   "cell_type": "code",
   "execution_count": 14,
   "id": "c035ba51",
   "metadata": {},
   "outputs": [],
   "source": [
    "def request_youtube(id_video):\n",
    "    \n",
    "    token = os.getenv(\"YOUTUBE_APIKEY\")\n",
    "                    \n",
    "    endpoint = \"https://www.googleapis.com/youtube/v3/videos\"\n",
    "    \n",
    "    params = {'part':'contentDetails',\n",
    "         'id': id_video,\n",
    "         'key': token}\n",
    "    \n",
    "    res = requests.get(endpoint, params)\n",
    "    \n",
    "    if res.status_code == 200:\n",
    "        return res.json()\n",
    "    else:\n",
    "        pass"
   ]
  },
  {
   "cell_type": "code",
   "execution_count": 15,
   "id": "3cd2a89b",
   "metadata": {},
   "outputs": [],
   "source": [
    "df_copy = df.sample(100)"
   ]
  },
  {
   "cell_type": "code",
   "execution_count": 16,
   "id": "95d37de9",
   "metadata": {},
   "outputs": [],
   "source": [
    "#aplicamos resultado\n",
    "\n",
    "resultado = []\n",
    "\n",
    "for ids in df_copy['id_']:\n",
    "    resultado.append(request_youtube(ids))"
   ]
  },
  {
   "cell_type": "code",
   "execution_count": 17,
   "id": "437a18df",
   "metadata": {},
   "outputs": [
    {
     "data": {
      "text/plain": [
       "{'kind': 'youtube#videoListResponse',\n",
       " 'etag': 'Z-h6Von_M9HxfFJOiuyPEhGrVPQ',\n",
       " 'items': [{'kind': 'youtube#video',\n",
       "   'etag': 'tniXuUau1xLMyHF8_pG2wY1J9PQ',\n",
       "   'id': 'fdQ60ZzsVR8',\n",
       "   'contentDetails': {'duration': 'PT19M5S',\n",
       "    'dimension': '2d',\n",
       "    'definition': 'hd',\n",
       "    'caption': 'true',\n",
       "    'licensedContent': True,\n",
       "    'contentRating': {},\n",
       "    'projection': 'rectangular'}}],\n",
       " 'pageInfo': {'totalResults': 1, 'resultsPerPage': 1}}"
      ]
     },
     "execution_count": 17,
     "metadata": {},
     "output_type": "execute_result"
    }
   ],
   "source": [
    "resultado[0]"
   ]
  },
  {
   "cell_type": "code",
   "execution_count": 18,
   "id": "e69edb57",
   "metadata": {},
   "outputs": [],
   "source": [
    "youtube = pd.DataFrame(resultado)"
   ]
  },
  {
   "cell_type": "code",
   "execution_count": 19,
   "id": "d1aa9611",
   "metadata": {},
   "outputs": [
    {
     "data": {
      "text/html": [
       "<div>\n",
       "<style scoped>\n",
       "    .dataframe tbody tr th:only-of-type {\n",
       "        vertical-align: middle;\n",
       "    }\n",
       "\n",
       "    .dataframe tbody tr th {\n",
       "        vertical-align: top;\n",
       "    }\n",
       "\n",
       "    .dataframe thead th {\n",
       "        text-align: right;\n",
       "    }\n",
       "</style>\n",
       "<table border=\"1\" class=\"dataframe\">\n",
       "  <thead>\n",
       "    <tr style=\"text-align: right;\">\n",
       "      <th></th>\n",
       "      <th>kind</th>\n",
       "      <th>etag</th>\n",
       "      <th>items</th>\n",
       "      <th>pageInfo</th>\n",
       "    </tr>\n",
       "  </thead>\n",
       "  <tbody>\n",
       "    <tr>\n",
       "      <th>0</th>\n",
       "      <td>youtube#videoListResponse</td>\n",
       "      <td>Z-h6Von_M9HxfFJOiuyPEhGrVPQ</td>\n",
       "      <td>[{'kind': 'youtube#video', 'etag': 'tniXuUau1x...</td>\n",
       "      <td>{'totalResults': 1, 'resultsPerPage': 1}</td>\n",
       "    </tr>\n",
       "    <tr>\n",
       "      <th>1</th>\n",
       "      <td>youtube#videoListResponse</td>\n",
       "      <td>Z2UL2D_AnuMdTTwwAtEawo13PsA</td>\n",
       "      <td>[{'kind': 'youtube#video', 'etag': 'ibhYWJPHil...</td>\n",
       "      <td>{'totalResults': 1, 'resultsPerPage': 1}</td>\n",
       "    </tr>\n",
       "  </tbody>\n",
       "</table>\n",
       "</div>"
      ],
      "text/plain": [
       "                        kind                         etag  \\\n",
       "0  youtube#videoListResponse  Z-h6Von_M9HxfFJOiuyPEhGrVPQ   \n",
       "1  youtube#videoListResponse  Z2UL2D_AnuMdTTwwAtEawo13PsA   \n",
       "\n",
       "                                               items  \\\n",
       "0  [{'kind': 'youtube#video', 'etag': 'tniXuUau1x...   \n",
       "1  [{'kind': 'youtube#video', 'etag': 'ibhYWJPHil...   \n",
       "\n",
       "                                   pageInfo  \n",
       "0  {'totalResults': 1, 'resultsPerPage': 1}  \n",
       "1  {'totalResults': 1, 'resultsPerPage': 1}  "
      ]
     },
     "execution_count": 19,
     "metadata": {},
     "output_type": "execute_result"
    }
   ],
   "source": [
    "youtube.head(2)"
   ]
  },
  {
   "cell_type": "code",
   "execution_count": 20,
   "id": "11e00dd8",
   "metadata": {},
   "outputs": [
    {
     "data": {
      "text/plain": [
       "[{'kind': 'youtube#video',\n",
       "  'etag': 'tniXuUau1xLMyHF8_pG2wY1J9PQ',\n",
       "  'id': 'fdQ60ZzsVR8',\n",
       "  'contentDetails': {'duration': 'PT19M5S',\n",
       "   'dimension': '2d',\n",
       "   'definition': 'hd',\n",
       "   'caption': 'true',\n",
       "   'licensedContent': True,\n",
       "   'contentRating': {},\n",
       "   'projection': 'rectangular'}}]"
      ]
     },
     "execution_count": 20,
     "metadata": {},
     "output_type": "execute_result"
    }
   ],
   "source": [
    "youtube['items'][0]"
   ]
  },
  {
   "cell_type": "code",
   "execution_count": 21,
   "id": "24125893",
   "metadata": {},
   "outputs": [],
   "source": [
    "content = []\n",
    "\n",
    "for value in youtube['items']:\n",
    "    try:\n",
    "        content.append(value[0]['contentDetails'])\n",
    "    except:\n",
    "        pass"
   ]
  },
  {
   "cell_type": "code",
   "execution_count": 22,
   "id": "2298dfd5",
   "metadata": {},
   "outputs": [
    {
     "data": {
      "text/html": [
       "<div>\n",
       "<style scoped>\n",
       "    .dataframe tbody tr th:only-of-type {\n",
       "        vertical-align: middle;\n",
       "    }\n",
       "\n",
       "    .dataframe tbody tr th {\n",
       "        vertical-align: top;\n",
       "    }\n",
       "\n",
       "    .dataframe thead th {\n",
       "        text-align: right;\n",
       "    }\n",
       "</style>\n",
       "<table border=\"1\" class=\"dataframe\">\n",
       "  <thead>\n",
       "    <tr style=\"text-align: right;\">\n",
       "      <th></th>\n",
       "      <th>duration</th>\n",
       "      <th>dimension</th>\n",
       "      <th>definition</th>\n",
       "      <th>caption</th>\n",
       "      <th>licensedContent</th>\n",
       "      <th>contentRating</th>\n",
       "      <th>projection</th>\n",
       "      <th>regionRestriction</th>\n",
       "    </tr>\n",
       "  </thead>\n",
       "  <tbody>\n",
       "    <tr>\n",
       "      <th>0</th>\n",
       "      <td>PT19M5S</td>\n",
       "      <td>2d</td>\n",
       "      <td>hd</td>\n",
       "      <td>true</td>\n",
       "      <td>True</td>\n",
       "      <td>{}</td>\n",
       "      <td>rectangular</td>\n",
       "      <td>NaN</td>\n",
       "    </tr>\n",
       "  </tbody>\n",
       "</table>\n",
       "</div>"
      ],
      "text/plain": [
       "  duration dimension definition caption  licensedContent contentRating  \\\n",
       "0  PT19M5S        2d         hd    true             True            {}   \n",
       "\n",
       "    projection regionRestriction  \n",
       "0  rectangular               NaN  "
      ]
     },
     "execution_count": 22,
     "metadata": {},
     "output_type": "execute_result"
    }
   ],
   "source": [
    "x = pd.DataFrame(content)\n",
    "x.head(1)"
   ]
  },
  {
   "cell_type": "code",
   "execution_count": 23,
   "id": "78085c75",
   "metadata": {},
   "outputs": [],
   "source": [
    "def sacar_info(col):\n",
    "    '''\n",
    "    Extrae la información que necesitamos de un diccionario\n",
    "    Args: \n",
    "        col (str): el nombre de la columna sobre la que queremos aplicar la función\n",
    "    Returns: \n",
    "        el diccionario con la información que queremos\n",
    "    '''\n",
    "    try:\n",
    "        return  col[0][\"contentDetails\"]\n",
    "    except: \n",
    "        pass"
   ]
  },
  {
   "cell_type": "code",
   "execution_count": 24,
   "id": "c0809ec7",
   "metadata": {},
   "outputs": [],
   "source": [
    "youtube['Details'] = youtube['items'].apply(sacar_info) #estos son los content details de los items"
   ]
  },
  {
   "cell_type": "code",
   "execution_count": 25,
   "id": "e905c1e4",
   "metadata": {},
   "outputs": [
    {
     "data": {
      "text/html": [
       "<div>\n",
       "<style scoped>\n",
       "    .dataframe tbody tr th:only-of-type {\n",
       "        vertical-align: middle;\n",
       "    }\n",
       "\n",
       "    .dataframe tbody tr th {\n",
       "        vertical-align: top;\n",
       "    }\n",
       "\n",
       "    .dataframe thead th {\n",
       "        text-align: right;\n",
       "    }\n",
       "</style>\n",
       "<table border=\"1\" class=\"dataframe\">\n",
       "  <thead>\n",
       "    <tr style=\"text-align: right;\">\n",
       "      <th></th>\n",
       "      <th>kind</th>\n",
       "      <th>etag</th>\n",
       "      <th>items</th>\n",
       "      <th>pageInfo</th>\n",
       "      <th>Details</th>\n",
       "    </tr>\n",
       "  </thead>\n",
       "  <tbody>\n",
       "    <tr>\n",
       "      <th>0</th>\n",
       "      <td>youtube#videoListResponse</td>\n",
       "      <td>Z-h6Von_M9HxfFJOiuyPEhGrVPQ</td>\n",
       "      <td>[{'kind': 'youtube#video', 'etag': 'tniXuUau1x...</td>\n",
       "      <td>{'totalResults': 1, 'resultsPerPage': 1}</td>\n",
       "      <td>{'duration': 'PT19M5S', 'dimension': '2d', 'de...</td>\n",
       "    </tr>\n",
       "  </tbody>\n",
       "</table>\n",
       "</div>"
      ],
      "text/plain": [
       "                        kind                         etag  \\\n",
       "0  youtube#videoListResponse  Z-h6Von_M9HxfFJOiuyPEhGrVPQ   \n",
       "\n",
       "                                               items  \\\n",
       "0  [{'kind': 'youtube#video', 'etag': 'tniXuUau1x...   \n",
       "\n",
       "                                   pageInfo  \\\n",
       "0  {'totalResults': 1, 'resultsPerPage': 1}   \n",
       "\n",
       "                                             Details  \n",
       "0  {'duration': 'PT19M5S', 'dimension': '2d', 'de...  "
      ]
     },
     "execution_count": 25,
     "metadata": {},
     "output_type": "execute_result"
    }
   ],
   "source": [
    "youtube.head(1)"
   ]
  },
  {
   "cell_type": "code",
   "execution_count": 26,
   "id": "a2b5c2cf",
   "metadata": {},
   "outputs": [
    {
     "data": {
      "text/html": [
       "<div>\n",
       "<style scoped>\n",
       "    .dataframe tbody tr th:only-of-type {\n",
       "        vertical-align: middle;\n",
       "    }\n",
       "\n",
       "    .dataframe tbody tr th {\n",
       "        vertical-align: top;\n",
       "    }\n",
       "\n",
       "    .dataframe thead th {\n",
       "        text-align: right;\n",
       "    }\n",
       "</style>\n",
       "<table border=\"1\" class=\"dataframe\">\n",
       "  <thead>\n",
       "    <tr style=\"text-align: right;\">\n",
       "      <th></th>\n",
       "      <th>duration</th>\n",
       "      <th>dimension</th>\n",
       "      <th>definition</th>\n",
       "      <th>caption</th>\n",
       "      <th>licensedContent</th>\n",
       "      <th>contentRating</th>\n",
       "      <th>projection</th>\n",
       "      <th>regionRestriction</th>\n",
       "    </tr>\n",
       "  </thead>\n",
       "  <tbody>\n",
       "    <tr>\n",
       "      <th>0</th>\n",
       "      <td>PT19M5S</td>\n",
       "      <td>2d</td>\n",
       "      <td>hd</td>\n",
       "      <td>true</td>\n",
       "      <td>True</td>\n",
       "      <td>{}</td>\n",
       "      <td>rectangular</td>\n",
       "      <td>NaN</td>\n",
       "    </tr>\n",
       "    <tr>\n",
       "      <th>1</th>\n",
       "      <td>PT4M56S</td>\n",
       "      <td>2d</td>\n",
       "      <td>hd</td>\n",
       "      <td>false</td>\n",
       "      <td>False</td>\n",
       "      <td>{}</td>\n",
       "      <td>rectangular</td>\n",
       "      <td>NaN</td>\n",
       "    </tr>\n",
       "    <tr>\n",
       "      <th>2</th>\n",
       "      <td>PT10M25S</td>\n",
       "      <td>2d</td>\n",
       "      <td>hd</td>\n",
       "      <td>false</td>\n",
       "      <td>True</td>\n",
       "      <td>{}</td>\n",
       "      <td>rectangular</td>\n",
       "      <td>NaN</td>\n",
       "    </tr>\n",
       "    <tr>\n",
       "      <th>3</th>\n",
       "      <td>PT12M18S</td>\n",
       "      <td>2d</td>\n",
       "      <td>hd</td>\n",
       "      <td>false</td>\n",
       "      <td>True</td>\n",
       "      <td>{}</td>\n",
       "      <td>rectangular</td>\n",
       "      <td>NaN</td>\n",
       "    </tr>\n",
       "    <tr>\n",
       "      <th>4</th>\n",
       "      <td>PT3M22S</td>\n",
       "      <td>2d</td>\n",
       "      <td>hd</td>\n",
       "      <td>true</td>\n",
       "      <td>True</td>\n",
       "      <td>{}</td>\n",
       "      <td>rectangular</td>\n",
       "      <td>NaN</td>\n",
       "    </tr>\n",
       "    <tr>\n",
       "      <th>...</th>\n",
       "      <td>...</td>\n",
       "      <td>...</td>\n",
       "      <td>...</td>\n",
       "      <td>...</td>\n",
       "      <td>...</td>\n",
       "      <td>...</td>\n",
       "      <td>...</td>\n",
       "      <td>...</td>\n",
       "    </tr>\n",
       "    <tr>\n",
       "      <th>95</th>\n",
       "      <td>PT56M18S</td>\n",
       "      <td>2d</td>\n",
       "      <td>sd</td>\n",
       "      <td>false</td>\n",
       "      <td>False</td>\n",
       "      <td>{}</td>\n",
       "      <td>rectangular</td>\n",
       "      <td>NaN</td>\n",
       "    </tr>\n",
       "    <tr>\n",
       "      <th>96</th>\n",
       "      <td>PT2M44S</td>\n",
       "      <td>2d</td>\n",
       "      <td>sd</td>\n",
       "      <td>true</td>\n",
       "      <td>True</td>\n",
       "      <td>{}</td>\n",
       "      <td>rectangular</td>\n",
       "      <td>NaN</td>\n",
       "    </tr>\n",
       "    <tr>\n",
       "      <th>97</th>\n",
       "      <td>PT2M17S</td>\n",
       "      <td>2d</td>\n",
       "      <td>hd</td>\n",
       "      <td>false</td>\n",
       "      <td>False</td>\n",
       "      <td>{}</td>\n",
       "      <td>rectangular</td>\n",
       "      <td>NaN</td>\n",
       "    </tr>\n",
       "    <tr>\n",
       "      <th>98</th>\n",
       "      <td>PT7M25S</td>\n",
       "      <td>2d</td>\n",
       "      <td>hd</td>\n",
       "      <td>true</td>\n",
       "      <td>True</td>\n",
       "      <td>{}</td>\n",
       "      <td>rectangular</td>\n",
       "      <td>NaN</td>\n",
       "    </tr>\n",
       "    <tr>\n",
       "      <th>99</th>\n",
       "      <td>PT6M28S</td>\n",
       "      <td>2d</td>\n",
       "      <td>hd</td>\n",
       "      <td>true</td>\n",
       "      <td>True</td>\n",
       "      <td>{}</td>\n",
       "      <td>rectangular</td>\n",
       "      <td>NaN</td>\n",
       "    </tr>\n",
       "  </tbody>\n",
       "</table>\n",
       "<p>100 rows × 8 columns</p>\n",
       "</div>"
      ],
      "text/plain": [
       "    duration dimension definition caption licensedContent contentRating  \\\n",
       "0    PT19M5S        2d         hd    true            True            {}   \n",
       "1    PT4M56S        2d         hd   false           False            {}   \n",
       "2   PT10M25S        2d         hd   false            True            {}   \n",
       "3   PT12M18S        2d         hd   false            True            {}   \n",
       "4    PT3M22S        2d         hd    true            True            {}   \n",
       "..       ...       ...        ...     ...             ...           ...   \n",
       "95  PT56M18S        2d         sd   false           False            {}   \n",
       "96   PT2M44S        2d         sd    true            True            {}   \n",
       "97   PT2M17S        2d         hd   false           False            {}   \n",
       "98   PT7M25S        2d         hd    true            True            {}   \n",
       "99   PT6M28S        2d         hd    true            True            {}   \n",
       "\n",
       "     projection regionRestriction  \n",
       "0   rectangular               NaN  \n",
       "1   rectangular               NaN  \n",
       "2   rectangular               NaN  \n",
       "3   rectangular               NaN  \n",
       "4   rectangular               NaN  \n",
       "..          ...               ...  \n",
       "95  rectangular               NaN  \n",
       "96  rectangular               NaN  \n",
       "97  rectangular               NaN  \n",
       "98  rectangular               NaN  \n",
       "99  rectangular               NaN  \n",
       "\n",
       "[100 rows x 8 columns]"
      ]
     },
     "execution_count": 26,
     "metadata": {},
     "output_type": "execute_result"
    }
   ],
   "source": [
    "#separamos en diferentes columnas!!!!!!!!!!\n",
    "\n",
    "youtube['Details'].apply(pd.Series)"
   ]
  },
  {
   "cell_type": "code",
   "execution_count": 27,
   "id": "1a3491f1",
   "metadata": {},
   "outputs": [],
   "source": [
    "youtube[['duration', 'dimension', 'definition', 'caption', 'licensedContent',\n",
    "       'contentRating', 'projection', 'regionRestriction']] = youtube['Details'].apply(pd.Series)"
   ]
  },
  {
   "cell_type": "code",
   "execution_count": 28,
   "id": "b4b967b1",
   "metadata": {},
   "outputs": [
    {
     "data": {
      "text/html": [
       "<div>\n",
       "<style scoped>\n",
       "    .dataframe tbody tr th:only-of-type {\n",
       "        vertical-align: middle;\n",
       "    }\n",
       "\n",
       "    .dataframe tbody tr th {\n",
       "        vertical-align: top;\n",
       "    }\n",
       "\n",
       "    .dataframe thead th {\n",
       "        text-align: right;\n",
       "    }\n",
       "</style>\n",
       "<table border=\"1\" class=\"dataframe\">\n",
       "  <thead>\n",
       "    <tr style=\"text-align: right;\">\n",
       "      <th></th>\n",
       "      <th>kind</th>\n",
       "      <th>etag</th>\n",
       "      <th>items</th>\n",
       "      <th>pageInfo</th>\n",
       "      <th>Details</th>\n",
       "      <th>duration</th>\n",
       "      <th>dimension</th>\n",
       "      <th>definition</th>\n",
       "      <th>caption</th>\n",
       "      <th>licensedContent</th>\n",
       "      <th>contentRating</th>\n",
       "      <th>projection</th>\n",
       "      <th>regionRestriction</th>\n",
       "    </tr>\n",
       "  </thead>\n",
       "  <tbody>\n",
       "    <tr>\n",
       "      <th>0</th>\n",
       "      <td>youtube#videoListResponse</td>\n",
       "      <td>Z-h6Von_M9HxfFJOiuyPEhGrVPQ</td>\n",
       "      <td>[{'kind': 'youtube#video', 'etag': 'tniXuUau1x...</td>\n",
       "      <td>{'totalResults': 1, 'resultsPerPage': 1}</td>\n",
       "      <td>{'duration': 'PT19M5S', 'dimension': '2d', 'de...</td>\n",
       "      <td>PT19M5S</td>\n",
       "      <td>2d</td>\n",
       "      <td>hd</td>\n",
       "      <td>true</td>\n",
       "      <td>True</td>\n",
       "      <td>{}</td>\n",
       "      <td>rectangular</td>\n",
       "      <td>NaN</td>\n",
       "    </tr>\n",
       "    <tr>\n",
       "      <th>1</th>\n",
       "      <td>youtube#videoListResponse</td>\n",
       "      <td>Z2UL2D_AnuMdTTwwAtEawo13PsA</td>\n",
       "      <td>[{'kind': 'youtube#video', 'etag': 'ibhYWJPHil...</td>\n",
       "      <td>{'totalResults': 1, 'resultsPerPage': 1}</td>\n",
       "      <td>{'duration': 'PT4M56S', 'dimension': '2d', 'de...</td>\n",
       "      <td>PT4M56S</td>\n",
       "      <td>2d</td>\n",
       "      <td>hd</td>\n",
       "      <td>false</td>\n",
       "      <td>False</td>\n",
       "      <td>{}</td>\n",
       "      <td>rectangular</td>\n",
       "      <td>NaN</td>\n",
       "    </tr>\n",
       "  </tbody>\n",
       "</table>\n",
       "</div>"
      ],
      "text/plain": [
       "                        kind                         etag  \\\n",
       "0  youtube#videoListResponse  Z-h6Von_M9HxfFJOiuyPEhGrVPQ   \n",
       "1  youtube#videoListResponse  Z2UL2D_AnuMdTTwwAtEawo13PsA   \n",
       "\n",
       "                                               items  \\\n",
       "0  [{'kind': 'youtube#video', 'etag': 'tniXuUau1x...   \n",
       "1  [{'kind': 'youtube#video', 'etag': 'ibhYWJPHil...   \n",
       "\n",
       "                                   pageInfo  \\\n",
       "0  {'totalResults': 1, 'resultsPerPage': 1}   \n",
       "1  {'totalResults': 1, 'resultsPerPage': 1}   \n",
       "\n",
       "                                             Details duration dimension  \\\n",
       "0  {'duration': 'PT19M5S', 'dimension': '2d', 'de...  PT19M5S        2d   \n",
       "1  {'duration': 'PT4M56S', 'dimension': '2d', 'de...  PT4M56S        2d   \n",
       "\n",
       "  definition caption licensedContent contentRating   projection  \\\n",
       "0         hd    true            True            {}  rectangular   \n",
       "1         hd   false           False            {}  rectangular   \n",
       "\n",
       "  regionRestriction  \n",
       "0               NaN  \n",
       "1               NaN  "
      ]
     },
     "execution_count": 28,
     "metadata": {},
     "output_type": "execute_result"
    }
   ],
   "source": [
    "youtube.head(2)"
   ]
  },
  {
   "cell_type": "code",
   "execution_count": 29,
   "id": "d8d528d7",
   "metadata": {},
   "outputs": [],
   "source": [
    "youtube.drop(['items', 'pageInfo', 'Details','contentRating' ], axis = 1, inplace = True)"
   ]
  },
  {
   "cell_type": "code",
   "execution_count": 30,
   "id": "9b29ec4c",
   "metadata": {},
   "outputs": [
    {
     "data": {
      "text/html": [
       "<div>\n",
       "<style scoped>\n",
       "    .dataframe tbody tr th:only-of-type {\n",
       "        vertical-align: middle;\n",
       "    }\n",
       "\n",
       "    .dataframe tbody tr th {\n",
       "        vertical-align: top;\n",
       "    }\n",
       "\n",
       "    .dataframe thead th {\n",
       "        text-align: right;\n",
       "    }\n",
       "</style>\n",
       "<table border=\"1\" class=\"dataframe\">\n",
       "  <thead>\n",
       "    <tr style=\"text-align: right;\">\n",
       "      <th></th>\n",
       "      <th>kind</th>\n",
       "      <th>etag</th>\n",
       "      <th>duration</th>\n",
       "      <th>dimension</th>\n",
       "      <th>definition</th>\n",
       "      <th>caption</th>\n",
       "      <th>licensedContent</th>\n",
       "      <th>projection</th>\n",
       "      <th>regionRestriction</th>\n",
       "    </tr>\n",
       "  </thead>\n",
       "  <tbody>\n",
       "    <tr>\n",
       "      <th>0</th>\n",
       "      <td>youtube#videoListResponse</td>\n",
       "      <td>Z-h6Von_M9HxfFJOiuyPEhGrVPQ</td>\n",
       "      <td>PT19M5S</td>\n",
       "      <td>2d</td>\n",
       "      <td>hd</td>\n",
       "      <td>true</td>\n",
       "      <td>True</td>\n",
       "      <td>rectangular</td>\n",
       "      <td>NaN</td>\n",
       "    </tr>\n",
       "    <tr>\n",
       "      <th>1</th>\n",
       "      <td>youtube#videoListResponse</td>\n",
       "      <td>Z2UL2D_AnuMdTTwwAtEawo13PsA</td>\n",
       "      <td>PT4M56S</td>\n",
       "      <td>2d</td>\n",
       "      <td>hd</td>\n",
       "      <td>false</td>\n",
       "      <td>False</td>\n",
       "      <td>rectangular</td>\n",
       "      <td>NaN</td>\n",
       "    </tr>\n",
       "  </tbody>\n",
       "</table>\n",
       "</div>"
      ],
      "text/plain": [
       "                        kind                         etag duration dimension  \\\n",
       "0  youtube#videoListResponse  Z-h6Von_M9HxfFJOiuyPEhGrVPQ  PT19M5S        2d   \n",
       "1  youtube#videoListResponse  Z2UL2D_AnuMdTTwwAtEawo13PsA  PT4M56S        2d   \n",
       "\n",
       "  definition caption licensedContent   projection regionRestriction  \n",
       "0         hd    true            True  rectangular               NaN  \n",
       "1         hd   false           False  rectangular               NaN  "
      ]
     },
     "execution_count": 30,
     "metadata": {},
     "output_type": "execute_result"
    }
   ],
   "source": [
    "youtube.head(2)"
   ]
  },
  {
   "cell_type": "code",
   "execution_count": 31,
   "id": "169e35ba",
   "metadata": {},
   "outputs": [],
   "source": [
    "final_youtube = pd.concat([df, youtube], axis = 1)"
   ]
  },
  {
   "cell_type": "code",
   "execution_count": 32,
   "id": "0e9bba05",
   "metadata": {},
   "outputs": [
    {
     "data": {
      "text/html": [
       "<div>\n",
       "<style scoped>\n",
       "    .dataframe tbody tr th:only-of-type {\n",
       "        vertical-align: middle;\n",
       "    }\n",
       "\n",
       "    .dataframe tbody tr th {\n",
       "        vertical-align: top;\n",
       "    }\n",
       "\n",
       "    .dataframe thead th {\n",
       "        text-align: right;\n",
       "    }\n",
       "</style>\n",
       "<table border=\"1\" class=\"dataframe\">\n",
       "  <thead>\n",
       "    <tr style=\"text-align: right;\">\n",
       "      <th></th>\n",
       "      <th>Title</th>\n",
       "      <th>Videourl</th>\n",
       "      <th>Category</th>\n",
       "      <th>Description</th>\n",
       "      <th>id_</th>\n",
       "      <th>kind</th>\n",
       "      <th>etag</th>\n",
       "      <th>duration</th>\n",
       "      <th>dimension</th>\n",
       "      <th>definition</th>\n",
       "      <th>caption</th>\n",
       "      <th>licensedContent</th>\n",
       "      <th>projection</th>\n",
       "      <th>regionRestriction</th>\n",
       "    </tr>\n",
       "  </thead>\n",
       "  <tbody>\n",
       "    <tr>\n",
       "      <th>0</th>\n",
       "      <td>Madagascar Street Food!!! Super RARE Malagasy ...</td>\n",
       "      <td>/watch?v=EwBA1fOQ96c</td>\n",
       "      <td>Food</td>\n",
       "      <td>🎥GIANT ALIEN SNAIL IN JAPAN! » https://youtu.b...</td>\n",
       "      <td>EwBA1fOQ96c</td>\n",
       "      <td>youtube#videoListResponse</td>\n",
       "      <td>Z-h6Von_M9HxfFJOiuyPEhGrVPQ</td>\n",
       "      <td>PT19M5S</td>\n",
       "      <td>2d</td>\n",
       "      <td>hd</td>\n",
       "      <td>true</td>\n",
       "      <td>True</td>\n",
       "      <td>rectangular</td>\n",
       "      <td>NaN</td>\n",
       "    </tr>\n",
       "    <tr>\n",
       "      <th>1</th>\n",
       "      <td>42 Foods You Need To Eat Before You Die</td>\n",
       "      <td>/watch?v=0SPwwpruGIA</td>\n",
       "      <td>Food</td>\n",
       "      <td>This is the ultimate must-try food bucket list...</td>\n",
       "      <td>0SPwwpruGIA</td>\n",
       "      <td>youtube#videoListResponse</td>\n",
       "      <td>Z2UL2D_AnuMdTTwwAtEawo13PsA</td>\n",
       "      <td>PT4M56S</td>\n",
       "      <td>2d</td>\n",
       "      <td>hd</td>\n",
       "      <td>false</td>\n",
       "      <td>False</td>\n",
       "      <td>rectangular</td>\n",
       "      <td>NaN</td>\n",
       "    </tr>\n",
       "  </tbody>\n",
       "</table>\n",
       "</div>"
      ],
      "text/plain": [
       "                                               Title              Videourl  \\\n",
       "0  Madagascar Street Food!!! Super RARE Malagasy ...  /watch?v=EwBA1fOQ96c   \n",
       "1            42 Foods You Need To Eat Before You Die  /watch?v=0SPwwpruGIA   \n",
       "\n",
       "  Category                                        Description          id_  \\\n",
       "0     Food  🎥GIANT ALIEN SNAIL IN JAPAN! » https://youtu.b...  EwBA1fOQ96c   \n",
       "1     Food  This is the ultimate must-try food bucket list...  0SPwwpruGIA   \n",
       "\n",
       "                        kind                         etag duration dimension  \\\n",
       "0  youtube#videoListResponse  Z-h6Von_M9HxfFJOiuyPEhGrVPQ  PT19M5S        2d   \n",
       "1  youtube#videoListResponse  Z2UL2D_AnuMdTTwwAtEawo13PsA  PT4M56S        2d   \n",
       "\n",
       "  definition caption licensedContent   projection regionRestriction  \n",
       "0         hd    true            True  rectangular               NaN  \n",
       "1         hd   false           False  rectangular               NaN  "
      ]
     },
     "execution_count": 32,
     "metadata": {},
     "output_type": "execute_result"
    }
   ],
   "source": [
    "final_youtube.head(2)"
   ]
  },
  {
   "cell_type": "code",
   "execution_count": null,
   "id": "6aa440b7",
   "metadata": {},
   "outputs": [],
   "source": []
  }
 ],
 "metadata": {
  "kernelspec": {
   "display_name": "Python 3 (ipykernel)",
   "language": "python",
   "name": "python3"
  },
  "language_info": {
   "codemirror_mode": {
    "name": "ipython",
    "version": 3
   },
   "file_extension": ".py",
   "mimetype": "text/x-python",
   "name": "python",
   "nbconvert_exporter": "python",
   "pygments_lexer": "ipython3",
   "version": "3.9.7"
  }
 },
 "nbformat": 4,
 "nbformat_minor": 5
}
